{
 "cells": [
  {
   "cell_type": "code",
   "execution_count": 172,
   "metadata": {},
   "outputs": [],
   "source": [
    "#### IMPORTS\n",
    "\n",
    "import re\n",
    "from collections import Counter, defaultdict, namedtuple, deque\n",
    "from itertools   import (permutations, combinations, chain, cycle, product, islice, \n",
    "                         takewhile, zip_longest, count as count_from)\n",
    "from functools   import lru_cache\n",
    "from heapq import (heappush, heappop, nlargest, nsmallest)\n",
    "\n",
    "from pprint import pprint as p, pformat as pf\n",
    "import toolz.curried as t\n",
    "from tqdm import tqdm_notebook as tq\n",
    "\n",
    "#### CONSTANTS\n",
    "\n",
    "alphabet = 'abcdefghijklmnopqrstuvwxyz'\n",
    "ALPHABET = alphabet.upper()\n",
    "infinity = float('inf')\n",
    "\n",
    "#### SIMPLE UTILITY FUNCTIONS\n",
    "\n",
    "cat = ''.join\n",
    "\n",
    "def ints(start, end, step=1):\n",
    "    \"The integers from start to end, inclusive: range(start, end+1)\"\n",
    "    return range(start, end + 1, step)\n",
    "\n",
    "def first(iterable, default=None): \n",
    "    \"The first item in an iterable, or default if it is empty.\"\n",
    "    return next(iter(iterable), default)\n",
    "\n",
    "def first_true(iterable, pred=None, default=None):\n",
    "    \"\"\"Returns the first true value in the iterable.\n",
    "    If no true value is found, returns *default*\n",
    "    If *pred* is not None, returns the first item\n",
    "    for which pred(item) is true.\"\"\"\n",
    "    # first_true([a,b,c], default=x) --> a or b or c or x\n",
    "    # first_true([a,b], fn, x) --> a if fn(a) else b if fn(b) else x\n",
    "    return next(filter(pred, iterable), default)\n",
    "\n",
    "def nth(iterable, n, default=None):\n",
    "    \"Returns the nth item of iterable, or a default value\"\n",
    "    return next(islice(iterable, n, None), default)\n",
    "\n",
    "def upto(iterable, maxval):\n",
    "    \"From a monotonically increasing iterable, generate all the values <= maxval.\"\n",
    "    # Why <= maxval rather than < maxval? In part because that's how Ruby's upto does it.\n",
    "    return takewhile(lambda x: x <= maxval, iterable)\n",
    "\n",
    "identity = lambda x: x\n",
    "\n",
    "def quantify(iterable, pred=bool):\n",
    "    \"Count how many times the predicate is true of an item in iterable.\"\n",
    "    return sum(map(pred, iterable))\n",
    "\n",
    "def multimap(items):\n",
    "    \"Given (key, val) pairs, return {key: [val, ....], ...}.\"\n",
    "    result = defaultdict(list)\n",
    "    for (key, val) in items:\n",
    "        result[key].append(val)\n",
    "    return result\n",
    "\n",
    "def mapt(fn, *args): \n",
    "    \"Do a map, and make the results into a tuple.\"\n",
    "    return tuple(map(fn, *args))\n",
    "\n",
    "def map2d(fn, grid):\n",
    "    \"Apply fn to every element in a 2-dimensional grid.\"\n",
    "    return tuple(mapt(fn, row) for row in grid)\n",
    "\n",
    "def flatmap(fn, *args):\n",
    "    \"Do a map and a one-level flatten\"\n",
    "    return tuple(chain.from_iterable(map(fn, *args)))\n",
    "\n",
    "def repeat(n, fn, arg, *args, **kwds):\n",
    "    \"Repeat arg = fn(arg) n times, return arg.\"\n",
    "    return nth(repeatedly(fn, arg, *args, **kwds), n)\n",
    "\n",
    "def repeatedly(fn, arg, *args, **kwds):\n",
    "    \"Yield arg, fn(arg), fn(fn(arg)), ...\"\n",
    "    yield arg\n",
    "    while True:\n",
    "        arg = fn(arg, *args, **kwds)\n",
    "        yield arg\n",
    "        \n",
    "def compose(f, g): \n",
    "    \"The function that computes f(g(x)).\"\n",
    "    return lambda x: f(g(x))\n",
    "\n",
    "#### FILE INPUT AND PARSING\n",
    "\n",
    "def Input(day, line_parser=str.strip, test=False, file_template='data/advent2018/{}.txt'):\n",
    "    \"For this day's input file, return a tuple of each line parsed by `line_parser`.\"\n",
    "    return mapt(line_parser, open(file_template.format(\n",
    "        f'{day}test' if test else day\n",
    "    )))\n",
    "\n",
    "def integers(text): \n",
    "    \"A tuple of all integers in a string (ignore other characters).\"\n",
    "    return mapt(int, re.findall(r'-?\\d+', text))"
   ]
  },
  {
   "cell_type": "code",
   "execution_count": 187,
   "metadata": {},
   "outputs": [],
   "source": [
    "################ 2-D points implemented using (x, y) tuples\n",
    "\n",
    "def X(point): return point[0]\n",
    "def Y(point): return point[1]\n",
    "\n",
    "origin = (0, 0)\n",
    "HEADINGS = UP, LEFT, DOWN, RIGHT = (0, -1), (-1, 0), (0, 1), (1, 0)\n",
    "\n",
    "def turn_right(heading): return HEADINGS[HEADINGS.index(heading) - 1]\n",
    "def turn_around(heading):return HEADINGS[HEADINGS.index(heading) - 2]\n",
    "def turn_left(heading):  return HEADINGS[HEADINGS.index(heading) - 3]\n",
    "\n",
    "def add(A, B): \n",
    "    \"Element-wise addition of two n-dimensional vectors.\"\n",
    "    return mapt(sum, zip(A, B))\n",
    "\n",
    "def neighbors4(point): \n",
    "    \"The four neighboring squares.\"\n",
    "    x, y = point\n",
    "    return (          (x, y-1),\n",
    "            (x-1, y),           (x+1, y), \n",
    "                      (x, y+1))\n",
    "\n",
    "def neighbors8(point): \n",
    "    \"The eight neighboring squares.\"\n",
    "    x, y = point \n",
    "    return ((x-1, y-1), (x, y-1), (x+1, y-1),\n",
    "            (x-1, y),             (x+1, y),\n",
    "            (x-1, y+1), (x, y+1), (x+1, y+1))\n",
    "\n",
    "def cityblock_distance(P, Q=origin): \n",
    "    \"Manhatten distance between two points.\"\n",
    "    return sum(abs(p - q) for p, q in zip(P, Q))\n",
    "\n",
    "def distance(P, Q=origin): \n",
    "    \"Straight-line (hypotenuse) distance between two points.\"\n",
    "    return sum((p - q) ** 2 for p, q in zip(P, Q)) ** 0.5\n",
    "\n",
    "def king_distance(P, Q=origin):\n",
    "    \"Number of chess King moves between two points.\"\n",
    "    return max(abs(p - q) for p, q in zip(P, Q))\n",
    "\n",
    "################ Debugging \n",
    "\n",
    "def trace1(f):\n",
    "    \"Print a trace of the input and output of a function on one line.\"\n",
    "    def traced_f(*args):\n",
    "        arg_str = ', '.join(map(pf, args))\n",
    "        result = f(*args)\n",
    "        print('{}({}) = {}'.format(f.__name__, arg_str, pf(result)))\n",
    "        return result\n",
    "    return traced_f\n",
    "\n",
    "def grep(pattern, iterable):\n",
    "    \"Print lines from iterable that match pattern.\"\n",
    "    for line in iterable:\n",
    "        if re.search(pattern, line):\n",
    "            print(line)\n",
    "            \n",
    "class Struct:\n",
    "    \"A structure that can have any fields defined.\"\n",
    "    def __init__(self, **entries): self.__dict__.update(entries)\n",
    "    def __repr__(self): \n",
    "        fields = ['{}={}'.format(f, self.__dict__[f]) \n",
    "                  for f in sorted(self.__dict__)]\n",
    "        return 'Struct({})'.format(', '.join(fields))"
   ]
  },
  {
   "cell_type": "code",
   "execution_count": 16,
   "metadata": {},
   "outputs": [],
   "source": [
    "################ A* and Breadth-First Search (tracking states, not actions)\n",
    "\n",
    "def always(value): return (lambda *args: value)\n",
    "\n",
    "def Astar(start, moves_func, h_func, cost_func=always(1)):\n",
    "    \"Find a shortest sequence of states from start to a goal state (where h_func(s) == 0).\"\n",
    "    frontier  = [(h_func(start), start)] # A priority queue, ordered by path length, f = g + h\n",
    "    previous  = {start: None}  # start state has no previous state; other states will\n",
    "    path_cost = {start: 0}     # The cost of the best path to a state.\n",
    "    Path      = lambda s: ([] if (s is None) else Path(previous[s]) + [s])\n",
    "    while frontier:\n",
    "        (f, s) = heappop(frontier)\n",
    "        if h_func(s) == 0:\n",
    "            return Path(s)\n",
    "        for s2 in moves_func(s):\n",
    "            g = path_cost[s] + cost_func(s, s2)\n",
    "            if s2 not in path_cost or g < path_cost[s2]:\n",
    "                heappush(frontier, (g + h_func(s2), s2))\n",
    "                path_cost[s2] = g\n",
    "                previous[s2] = s\n",
    "\n",
    "def bfs(start, moves_func, goals):\n",
    "    \"Breadth-first search\"\n",
    "    goal_func = (goals if callable(goals) else lambda s: s in goals)\n",
    "    return Astar(start, moves_func, lambda s: (0 if goal_func(s) else 1))"
   ]
  },
  {
   "cell_type": "code",
   "execution_count": 4,
   "metadata": {},
   "outputs": [],
   "source": [
    "def head(iterable, n=5): return list(t.take(n, iterable))\n",
    "\n",
    "def coords(two_d_arr):\n",
    "    return [\n",
    "        ((x, y), val)\n",
    "        for y, line in enumerate(two_d_arr)\n",
    "        for x, val in enumerate(line)\n",
    "    ]\n",
    "\n",
    "def duplicates(iterable):\n",
    "    return { item for item, count in Counter(iterable).items() if count > 1 }"
   ]
  },
  {
   "cell_type": "markdown",
   "metadata": {},
   "source": [
    "## Day 13"
   ]
  },
  {
   "cell_type": "code",
   "execution_count": 5,
   "metadata": {},
   "outputs": [],
   "source": [
    "tracks = r'''\n",
    "/->-\\        \n",
    "|   |  /----\\\n",
    "| /-+--+-\\  |\n",
    "| | |  | v  |\n",
    "\\-+-/  \\-+--/\n",
    "  \\------/   \n",
    "'''.strip('\\n').split('\\n')\n",
    "\n",
    "tracks = r'''\n",
    "/>-<\\  \n",
    "|   |  \n",
    "| /<+-\\\n",
    "| | | v\n",
    "\\>+</ |\n",
    "  |   ^\n",
    "  \\<->/\n",
    "'''.strip('\\n').split('\\n')\n",
    "\n",
    "tracks = Input(13, line_parser=t.identity)"
   ]
  },
  {
   "cell_type": "code",
   "execution_count": 6,
   "metadata": {},
   "outputs": [],
   "source": [
    "Cart = namedtuple('Cart', 'id, pos, dir, turns')\n",
    "\n",
    "cart_dirs = { 'v': DOWN, '^': UP, '<': LEFT, '>': RIGHT }\n",
    "\n",
    "def junctions(tracks=tracks):\n",
    "    return { pos: ch for pos, ch in coords(tracks) if ch in r'/\\+' }\n",
    "\n",
    "def carts(tracks=tracks):\n",
    "    positions = [(pos, ch) for pos, ch in coords(tracks) if ch in cart_dirs]\n",
    "    return deque(\n",
    "        Cart(id, pos, cart_dirs[ch], cycle([turn_left, t.identity, turn_right]))\n",
    "        for id, (pos, ch) in enumerate(positions)\n",
    "    )"
   ]
  },
  {
   "cell_type": "code",
   "execution_count": 7,
   "metadata": {},
   "outputs": [],
   "source": [
    "bends = {\n",
    "    r'/': { LEFT: DOWN, DOWN: LEFT, RIGHT: UP, UP: RIGHT },\n",
    "    '\\\\': { LEFT: UP, UP: LEFT, RIGHT: DOWN, DOWN: RIGHT },\n",
    "}\n",
    "\n",
    "def turn(cart, juncts=junctions()):\n",
    "    _, pos, dir, turns = cart\n",
    "    junction = juncts.get(add(pos, dir), False)\n",
    "    \n",
    "    if junction in bends: return bends[junction][dir]\n",
    "    if junction == '+':   return next(turns)(dir)\n",
    "    else:                 return dir"
   ]
  },
  {
   "cell_type": "code",
   "execution_count": 8,
   "metadata": {},
   "outputs": [],
   "source": [
    "def move_cart(carts):\n",
    "    if first(carts).id == min(cart.id for cart in carts):\n",
    "        carts = deque(Cart(id, pos, dir, turns)\n",
    "                      for id, (_, pos, dir, turns) in\n",
    "                      enumerate(sorted(carts, key=lambda cart: (Y(cart.pos), X(cart.pos)))))\n",
    "        \n",
    "    cart = id, pos, dir, turns = carts.popleft()\n",
    "    carts.append(Cart(id, add(pos, dir), turn(cart), turns))\n",
    "    return carts\n",
    "\n",
    "def collision_pos(carts):\n",
    "    crashes = duplicates(cart.pos for cart in carts)\n",
    "    return crashes if len(crashes) > 0 else False"
   ]
  },
  {
   "cell_type": "code",
   "execution_count": 9,
   "metadata": {},
   "outputs": [
    {
     "data": {
      "text/plain": [
       "{(32, 8)}"
      ]
     },
     "execution_count": 9,
     "metadata": {},
     "output_type": "execute_result"
    }
   ],
   "source": [
    "first_true(collision_pos(c) for c in repeatedly(move_cart, carts()))"
   ]
  },
  {
   "cell_type": "code",
   "execution_count": 10,
   "metadata": {},
   "outputs": [],
   "source": [
    "def remove_collisions(carts):\n",
    "    crashes = collision_pos(carts)\n",
    "    return (deque(cart for cart in carts if cart.pos not in crashes)\n",
    "            if crashes else carts)"
   ]
  },
  {
   "cell_type": "code",
   "execution_count": 11,
   "metadata": {
    "scrolled": false
   },
   "outputs": [
    {
     "data": {
      "text/plain": [
       "deque([Cart(id=0, pos=(38, 38), dir=(0, 1), turns=<itertools.cycle object at 0x1093e99d8>)])"
      ]
     },
     "execution_count": 11,
     "metadata": {},
     "output_type": "execute_result"
    }
   ],
   "source": [
    "first(c for c in repeatedly(compose(remove_collisions, move_cart), carts())\n",
    "      if len(c) == 1 and first(c).id == 0)"
   ]
  },
  {
   "cell_type": "markdown",
   "metadata": {},
   "source": [
    "## Day 14"
   ]
  },
  {
   "cell_type": "code",
   "execution_count": 12,
   "metadata": {},
   "outputs": [],
   "source": [
    "# N = 167792\n",
    "N = 704321"
   ]
  },
  {
   "cell_type": "code",
   "execution_count": 13,
   "metadata": {},
   "outputs": [],
   "source": [
    "Recipe = namedtuple('Recipe', 'scores, e1, e2')\n",
    "\n",
    "def combine(recipe):\n",
    "    scores, e1, e2 = recipe\n",
    "    combined = scores[e1] + scores[e2]\n",
    "    if combined >= 10:\n",
    "        scores.append(combined // 10)\n",
    "    scores.append(combined % 10)\n",
    "    return Recipe(scores,\n",
    "                  (e1 + scores[e1] + 1) % len(scores),\n",
    "                  (e2 + scores[e2] + 1) % len(scores))"
   ]
  },
  {
   "cell_type": "code",
   "execution_count": 14,
   "metadata": {},
   "outputs": [
    {
     "data": {
      "application/vnd.jupyter.widget-view+json": {
       "model_id": "01592ab9d80f47f9afdeb076e3f26e5e",
       "version_major": 2,
       "version_minor": 0
      },
      "text/plain": [
       "HBox(children=(IntProgress(value=1, bar_style='info', max=1), HTML(value='')))"
      ]
     },
     "metadata": {},
     "output_type": "display_data"
    },
    {
     "name": "stdout",
     "output_type": "stream",
     "text": [
      "\n"
     ]
    },
    {
     "data": {
      "text/plain": [
       "'1741551073'"
      ]
     },
     "execution_count": 14,
     "metadata": {},
     "output_type": "execute_result"
    }
   ],
   "source": [
    "scores = first_true(\n",
    "    tq(repeatedly(combine, Recipe([3, 7], 0, 1))),\n",
    "    lambda r: len(r.scores) >= N + 10\n",
    ").scores[N:]\n",
    "''.join(mapt(str, scores))"
   ]
  },
  {
   "cell_type": "code",
   "execution_count": 15,
   "metadata": {
    "scrolled": false
   },
   "outputs": [
    {
     "data": {
      "application/vnd.jupyter.widget-view+json": {
       "model_id": "c85812f17bc949bf914374a476d0da60",
       "version_major": 2,
       "version_minor": 0
      },
      "text/plain": [
       "HBox(children=(IntProgress(value=1, bar_style='info', max=1), HTML(value='')))"
      ]
     },
     "metadata": {},
     "output_type": "display_data"
    },
    {
     "data": {
      "text/plain": [
       "[0, 4, 3, 2, 1, 0]"
      ]
     },
     "execution_count": 15,
     "metadata": {},
     "output_type": "execute_result"
    }
   ],
   "source": [
    "search = str(N)\n",
    "scores, _, _ = first_true(\n",
    "    tq(repeatedly(combine, Recipe([3, 7], 0, 1))),\n",
    "    lambda r: search in cat(mapt(str, r.scores[-len(search) - 1:]))\n",
    ")\n",
    "scores[-len(search):]"
   ]
  },
  {
   "cell_type": "code",
   "execution_count": 16,
   "metadata": {},
   "outputs": [
    {
     "data": {
      "text/plain": [
       "20322683"
      ]
     },
     "execution_count": 16,
     "metadata": {},
     "output_type": "execute_result"
    }
   ],
   "source": [
    "len(scores) - len(search) - 1"
   ]
  },
  {
   "cell_type": "markdown",
   "metadata": {},
   "source": [
    "## Day 15"
   ]
  },
  {
   "cell_type": "code",
   "execution_count": 289,
   "metadata": {},
   "outputs": [
    {
     "name": "stdout",
     "output_type": "stream",
     "text": [
      "'################################'\n",
      "'##########..####################'\n",
      "'##########..G###################'\n",
      "'##########..#.....########.#####'\n",
      "'##########........########G#####'\n",
      "'############...#..########.#####'\n",
      "'################....######.#####'\n",
      "'#################..G####...#####'\n",
      "'################...#..#....#####'\n",
      "'################...G..#.....E###'\n",
      "'##############.G..........G....#'\n",
      "'###########.G...G..............#'\n",
      "'###########G..#####..........###'\n",
      "'###########..#######.........###'\n",
      "'##########.G#########........#.#'\n",
      "'#########...#########....G.....#'\n",
      "'#########...#########.........##'\n",
      "'##..........#########.........##'\n",
      "'######....G.#########.....E....#'\n",
      "'##...........#######.......#...#'\n",
      "'#...G.........#####E.......#####'\n",
      "'##....................#..#######'\n",
      "'##.G.................##.########'\n",
      "'##..#GG.............###...#..###'\n",
      "'#G..#..G.G........G.####.#..E###'\n",
      "'#.....#.##...........###.....###'\n",
      "'#######...............###EE..###'\n",
      "'########.....E........###....###'\n",
      "'########..............####..####'\n",
      "'##########....E....#...###.#####'\n",
      "'###########...EE....#.##########'\n",
      "'################################'\n"
     ]
    }
   ],
   "source": [
    "inp = Input(15, test=False)\n",
    "for line in inp:\n",
    "    p(line)"
   ]
  },
  {
   "cell_type": "code",
   "execution_count": 290,
   "metadata": {},
   "outputs": [],
   "source": [
    "def grid(cavern=inp):\n",
    "    return {\n",
    "        (y, x) for (x, y), val in coords(cavern)\n",
    "        if val != '#'\n",
    "    }"
   ]
  },
  {
   "cell_type": "code",
   "execution_count": 291,
   "metadata": {},
   "outputs": [],
   "source": [
    "Unit = namedtuple('Unit', 'yx, hp, atk, typ, rds')\n",
    "\n",
    "def order(units): return deque(sorted(units))\n",
    "\n",
    "def units(cavern=inp, elf_atk=3):\n",
    "    return [Unit((y, x), 200, elf_atk if val == 'E' else 3, val, 0)\n",
    "            for (x, y), val in coords(cavern) if val in 'GE']"
   ]
  },
  {
   "cell_type": "code",
   "execution_count": 292,
   "metadata": {},
   "outputs": [],
   "source": [
    "def attack(units):\n",
    "    me = units.popleft()\n",
    "    in_range = [u for u in units\n",
    "                if u.yx in neighbors4(me.yx) and u.typ != me.typ]\n",
    "    if in_range:\n",
    "        hurt = min(in_range, key=lambda e: (e.hp, e.yx))\n",
    "        loc = units.index(hurt)\n",
    "        units[loc] = Unit(hurt.yx, hurt.hp - me.atk,\n",
    "                          hurt.atk, hurt.typ, hurt.rds)\n",
    "        if units[loc].hp <= 0:\n",
    "            del units[loc]\n",
    "            \n",
    "    units.append(Unit(me.yx, me.hp, me.atk, me.typ, me.rds + 1))\n",
    "    return units"
   ]
  },
  {
   "cell_type": "code",
   "execution_count": 293,
   "metadata": {},
   "outputs": [],
   "source": [
    "def step(units, grid=grid()):\n",
    "    adj = lambda p: set(neighbors4(p)) & grid - set(u.yx for u in units)\n",
    "    \n",
    "    me = units.popleft()\n",
    "    enemies = [unit for unit in units if unit.typ != me.typ]\n",
    "    \n",
    "    if any(e.yx in neighbors4(me.yx) for e in enemies):\n",
    "        units.appendleft(me)\n",
    "        return units\n",
    "    \n",
    "    targets = sorted(flatmap(adj, (e.yx for e in enemies)))\n",
    "    path = bfs(me.yx, adj, targets)\n",
    "    step = nth(path, 1) if path else me.yx\n",
    "    \n",
    "    units.appendleft(Unit(step, me.hp, me.atk, me.typ, me.rds))\n",
    "    return units"
   ]
  },
  {
   "cell_type": "code",
   "execution_count": 294,
   "metadata": {},
   "outputs": [],
   "source": [
    "def move(units, grid=grid()):\n",
    "    if len(set(u.rds for u in units)) == 1:\n",
    "        units = order(units)\n",
    "\n",
    "    step(units)\n",
    "    return attack(units)"
   ]
  },
  {
   "cell_type": "code",
   "execution_count": 295,
   "metadata": {},
   "outputs": [],
   "source": [
    "def print_map(units, grid=grid()):\n",
    "    u_map = { u.yx: u for u in units }\n",
    "    for y in ints(0, max(t.pluck(0, grid)) + 1):\n",
    "        line = []\n",
    "        units = []\n",
    "        for x in ints(0, max(t.pluck(1, grid)) + 1):\n",
    "            unit = u_map.get((y, x), False)\n",
    "            line.append(unit.typ if unit\n",
    "                        else '.' if (y, x) in grid\n",
    "                        else '#')\n",
    "            if unit:\n",
    "                units.append(unit)\n",
    "        unit_info = ', '.join(f\"{u.typ}({u.hp})\" for u in units)\n",
    "        p(f'{cat(line)}   {unit_info}')"
   ]
  },
  {
   "cell_type": "code",
   "execution_count": 296,
   "metadata": {
    "scrolled": false
   },
   "outputs": [
    {
     "name": "stdout",
     "output_type": "stream",
     "text": [
      "'################################   '\n",
      "'##########..####################   '\n",
      "'##########...###################   '\n",
      "'##########..#.....########.#####   '\n",
      "'##########........########.#####   '\n",
      "'############...#..########.#####   '\n",
      "'################....######.#####   '\n",
      "'#################...####...#####   '\n",
      "'################...#..#....#####   '\n",
      "'################......#.E....###   E(95)'\n",
      "'##############........E.E......#   E(77), E(197)'\n",
      "'###########............E.......#   E(179)'\n",
      "'###########...#####..........###   '\n",
      "'###########..#######.........###   '\n",
      "'##########..#########........#.#   '\n",
      "'#########...#########..........#   '\n",
      "'#########...#########.........##   '\n",
      "'##..........#########.........##   '\n",
      "'######......#########..........#   '\n",
      "'##...........#######.......#...#   '\n",
      "'#...........E.#####.E......#####   E(104), E(53)'\n",
      "'##.................E..#..#######   E(161)'\n",
      "'##..................E##.########   E(176)'\n",
      "'##..#...............###...#..###   '\n",
      "'#...#...............####.#...###   '\n",
      "'#.....#.##...........###.....###   '\n",
      "'#######...............###....###   '\n",
      "'########..............###....###   '\n",
      "'########..............####..####   '\n",
      "'##########.........#...###.#####   '\n",
      "'###########.........#.##########   '\n",
      "'################################   '\n"
     ]
    }
   ],
   "source": [
    "def run_n(rounds, elf_atk=3):\n",
    "    return first_true(repeatedly(move, units(elf_atk=elf_atk)),\n",
    "                      lambda units: all(u.rds == rounds for u in units))\n",
    "\n",
    "print_map(run_n(47, elf_atk=15))"
   ]
  },
  {
   "cell_type": "code",
   "execution_count": 297,
   "metadata": {},
   "outputs": [
    {
     "data": {
      "text/plain": [
       "deque([Unit(yx=(18, 22), hp=200, atk=3, typ='G', rds=59),\n",
       "       Unit(yx=(18, 24), hp=104, atk=3, typ='G', rds=59),\n",
       "       Unit(yx=(18, 25), hp=200, atk=3, typ='G', rds=59),\n",
       "       Unit(yx=(19, 20), hp=200, atk=3, typ='G', rds=59),\n",
       "       Unit(yx=(22, 10), hp=200, atk=3, typ='G', rds=59),\n",
       "       Unit(yx=(24, 12), hp=32, atk=3, typ='G', rds=59),\n",
       "       Unit(yx=(25, 11), hp=200, atk=3, typ='G', rds=59),\n",
       "       Unit(yx=(25, 13), hp=200, atk=3, typ='G', rds=59),\n",
       "       Unit(yx=(26, 10), hp=152, atk=3, typ='G', rds=59),\n",
       "       Unit(yx=(26, 12), hp=200, atk=3, typ='G', rds=59),\n",
       "       Unit(yx=(27, 11), hp=200, atk=3, typ='G', rds=59),\n",
       "       Unit(yx=(11, 23), hp=116, atk=3, typ='G', rds=60),\n",
       "       Unit(yx=(15, 26), hp=74, atk=3, typ='G', rds=60),\n",
       "       Unit(yx=(16, 22), hp=143, atk=3, typ='G', rds=60),\n",
       "       Unit(yx=(16, 24), hp=170, atk=3, typ='G', rds=60),\n",
       "       Unit(yx=(16, 27), hp=200, atk=3, typ='G', rds=60),\n",
       "       Unit(yx=(17, 21), hp=200, atk=3, typ='G', rds=60),\n",
       "       Unit(yx=(17, 23), hp=26, atk=3, typ='G', rds=60),\n",
       "       Unit(yx=(17, 25), hp=200, atk=3, typ='G', rds=60)])"
      ]
     },
     "execution_count": 297,
     "metadata": {},
     "output_type": "execute_result"
    }
   ],
   "source": [
    "def end(units):\n",
    "    return first_true(repeatedly(move, units),\n",
    "                      lambda units: len(set(u.typ for u in units)) == 1)\n",
    "end(units())"
   ]
  },
  {
   "cell_type": "code",
   "execution_count": 299,
   "metadata": {},
   "outputs": [
    {
     "data": {
      "text/plain": [
       "178003"
      ]
     },
     "execution_count": 299,
     "metadata": {},
     "output_type": "execute_result"
    }
   ],
   "source": [
    "ending = end(units())\n",
    "min(u.rds for u in ending) * sum(u.hp for u in ending)"
   ]
  },
  {
   "cell_type": "code",
   "execution_count": 300,
   "metadata": {},
   "outputs": [
    {
     "data": {
      "text/plain": [
       "23"
      ]
     },
     "execution_count": 300,
     "metadata": {},
     "output_type": "execute_result"
    }
   ],
   "source": [
    "is_elf = lambda u: u.typ == 'E'\n",
    "n_elves = quantify(units(), is_elf)\n",
    "min_atk = first_true(\n",
    "    count_from(4),\n",
    "    lambda atk: quantify(end(units(elf_atk=atk)), is_elf) == n_elves\n",
    ")\n",
    "min_atk"
   ]
  },
  {
   "cell_type": "code",
   "execution_count": 301,
   "metadata": {},
   "outputs": [
    {
     "data": {
      "text/plain": [
       "48722"
      ]
     },
     "execution_count": 301,
     "metadata": {},
     "output_type": "execute_result"
    }
   ],
   "source": [
    "ending = end(units(elf_atk=23))\n",
    "min(u.rds for u in ending) * sum(u.hp for u in ending)"
   ]
  },
  {
   "cell_type": "code",
   "execution_count": null,
   "metadata": {},
   "outputs": [],
   "source": []
  }
 ],
 "metadata": {
  "kernelspec": {
   "display_name": "Python 3",
   "language": "python",
   "name": "python3"
  },
  "language_info": {
   "codemirror_mode": {
    "name": "ipython",
    "version": 3
   },
   "file_extension": ".py",
   "mimetype": "text/x-python",
   "name": "python",
   "nbconvert_exporter": "python",
   "pygments_lexer": "ipython3",
   "version": "3.7.3"
  }
 },
 "nbformat": 4,
 "nbformat_minor": 2
}
