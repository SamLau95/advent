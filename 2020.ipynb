{
 "cells": [
  {
   "cell_type": "code",
   "execution_count": 83,
   "metadata": {},
   "outputs": [],
   "source": [
    "#### IMPORTS\n",
    "\n",
    "import re\n",
    "import abc\n",
    "import operator\n",
    "import numpy as np\n",
    "from collections import Counter, defaultdict, namedtuple, deque, abc\n",
    "from itertools   import (permutations, combinations, chain, cycle, product, islice, \n",
    "                         takewhile, zip_longest, starmap, count as count_from)\n",
    "from functools   import lru_cache, reduce\n",
    "from heapq import (heappush, heappop, nlargest, nsmallest)\n",
    "\n",
    "from pprint import pprint as p, pformat as pf\n",
    "import toolz.curried as t\n",
    "from tqdm.notebook import tqdm as tq\n",
    "from dataclasses import dataclass, field\n",
    "\n",
    "#### CONSTANTS\n",
    "\n",
    "alphabet = 'abcdefghijklmnopqrstuvwxyz'\n",
    "ALPHABET = alphabet.upper()\n",
    "infinity = float('inf')\n",
    "\n",
    "#### SIMPLE UTILITY FUNCTIONS\n",
    "\n",
    "cat = ''.join\n",
    "\n",
    "def ints(start, end, step=1):\n",
    "    \"The integers from start to end, inclusive: range(start, end+1)\"\n",
    "    return range(start, end + 1, step)\n",
    "\n",
    "def first(iterable, default=None): \n",
    "    \"The first item in an iterable, or default if it is empty.\"\n",
    "    return next(iter(iterable), default)\n",
    "\n",
    "def head(iterable, n=5):\n",
    "    \"The first n items in an iterable\"\n",
    "    return tuple(islice(iterable, n))\n",
    "\n",
    "def tail(iterable, n=1):\n",
    "    \"Skip n items in an iterable\"\n",
    "    return islice(iterable, n, None)\n",
    "\n",
    "def first_true(iterable, pred=None, default=None):\n",
    "    \"\"\"Returns the first true value in the iterable.\n",
    "    If no true value is found, returns *default*\n",
    "    If *pred* is not None, returns the first item\n",
    "    for which pred(item) is true.\"\"\"\n",
    "    # first_true([a,b,c], default=x) --> a or b or c or x\n",
    "    # first_true([a,b], fn, x) --> a if fn(a) else b if fn(b) else x\n",
    "    return next(filter(pred, iterable), default)\n",
    "\n",
    "def nth(iterable, n, default=None):\n",
    "    \"Returns the nth item of iterable, or a default value\"\n",
    "    return next(islice(iterable, n, None), default)\n",
    "\n",
    "def upto(iterable, maxval):\n",
    "    \"From a monotonically increasing iterable, generate all the values <= maxval.\"\n",
    "    # Why <= maxval rather than < maxval? In part because that's how Ruby's upto does it.\n",
    "    return takewhile(lambda x: x <= maxval, iterable)\n",
    "\n",
    "identity = lambda x: x\n",
    "\n",
    "def quantify(iterable, pred=bool):\n",
    "    \"Count how many times the predicate is true of an item in iterable.\"\n",
    "    return sum(map(pred, iterable))\n",
    "\n",
    "def multimap(items):\n",
    "    \"Given (key, val) pairs, return {key: [val, ....], ...}.\"\n",
    "    result = defaultdict(list)\n",
    "    for (key, val) in items:\n",
    "        result[key].append(val)\n",
    "    return result\n",
    "\n",
    "def overlapping(iterable, n):\n",
    "    \"\"\"Generate all (overlapping) n-element subsequences of iterable.\n",
    "    overlapping('ABCDEFG', 3) --> ABC BCD CDE DEF EFG\"\"\"\n",
    "    if isinstance(iterable, abc.Sequence):\n",
    "        yield from (iterable[i:i+n] for i in range(len(iterable) + 1 - n))\n",
    "    else:\n",
    "        result = deque(maxlen=n)\n",
    "        for x in iterable:\n",
    "            result.append(x)\n",
    "            if len(result) == n:\n",
    "                yield tuple(result)\n",
    "                \n",
    "def pairwise(iterable):\n",
    "    \"s -> (s0,s1), (s1,s2), (s2, s3), ...\"\n",
    "    return overlapping(iterable, 2)\n",
    "\n",
    "def mapt(fn, *args): \n",
    "    \"Do a map, and make the results into a tuple.\"\n",
    "    return tuple(map(fn, *args))\n",
    "\n",
    "def map2d(fn, grid):\n",
    "    \"Apply fn to every element in a 2-dimensional grid.\"\n",
    "    return tuple(mapt(fn, row) for row in grid)\n",
    "\n",
    "def flatmap(fn, *args):\n",
    "    \"Do a map and a one-level flatten\"\n",
    "    return tuple(chain.from_iterable(map(fn, *args)))\n",
    "\n",
    "def repeat(n, fn, arg, *args, **kwds):\n",
    "    \"Repeat arg = fn(arg) n times, return arg.\"\n",
    "    return nth(repeatedly(fn, arg, *args, **kwds), n)\n",
    "\n",
    "def repeatedly(fn, arg, *args, **kwds):\n",
    "    \"Yield arg, fn(arg), fn(fn(arg)), ...\"\n",
    "    yield arg\n",
    "    while True:\n",
    "        arg = fn(arg, *args, **kwds)\n",
    "        yield arg\n",
    "        \n",
    "def repeatedly1(fn, arg, *args, **kwds):\n",
    "    \"Yield fn(arg), fn(fn(arg)), ...\"\n",
    "    return tail(repeatedly(fn, arg, *args, **kwds))\n",
    "\n",
    "def compose(f, g): \n",
    "    \"The function that computes f(g(x)).\"\n",
    "    return lambda x: f(g(x))\n",
    "\n",
    "#### FILE INPUT AND PARSING\n",
    "\n",
    "def Input(day, line_parser=str.strip, test=False, file_template='data/2020/{}.txt'):\n",
    "    \"For this day's input file, return a tuple of each line parsed by `line_parser`.\"\n",
    "    return mapt(line_parser, open(file_template.format(\n",
    "        f'{day}test' if test else day\n",
    "    )))\n",
    "\n",
    "def Groups(day, group_parser=str.split, test=False):\n",
    "    entire = Input(day, t.identity, test)\n",
    "    groups = ''.join(entire).split('\\n\\n')\n",
    "    return mapt(group_parser, groups)\n",
    "\n",
    "@t.curry\n",
    "def Tokens(line, sep=','):\n",
    "    \"Splits line into delimited tokens\"\n",
    "    return line.strip().split(sep)\n",
    "\n",
    "def integers(text): \n",
    "    \"A tuple of all integers in a string (ignore other characters).\"\n",
    "    return mapt(int, re.findall(r'-?\\d+', text))\n",
    "\n",
    "def digits(number):\n",
    "    \"Tuple of digits in number\"\n",
    "    return mapt(int, str(number))\n",
    "\n",
    "################ 2-D points implemented using (x, y) tuples\n",
    "\n",
    "def X(point): return point[0]\n",
    "def Y(point): return point[1]\n",
    "def Z(point): return point[2]\n",
    "\n",
    "origin = (0, 0)\n",
    "HEADINGS = UP, LEFT, DOWN, RIGHT = (0, -1), (-1, 0), (0, 1), (1, 0)\n",
    "\n",
    "def turn_right(heading): return HEADINGS[HEADINGS.index(heading) - 1]\n",
    "def turn_around(heading):return HEADINGS[HEADINGS.index(heading) - 2]\n",
    "def turn_left(heading):  return HEADINGS[HEADINGS.index(heading) - 3]\n",
    "\n",
    "def add(A, B): \n",
    "    \"Element-wise addition of two n-dimensional vectors.\"\n",
    "    return mapt(sum, zip(A, B))\n",
    "\n",
    "def sub(A, B): \n",
    "    \"Element-wise subtraction of two n-dimensional vectors.\"\n",
    "    return tuple(a - b for a, b in zip(A, B))\n",
    "\n",
    "def neighbors4(point): \n",
    "    \"The four neighboring squares.\"\n",
    "    x, y = point\n",
    "    return (          (x, y-1),\n",
    "            (x-1, y),           (x+1, y), \n",
    "                      (x, y+1))\n",
    "\n",
    "def neighbors8(point): \n",
    "    \"The eight neighboring squares.\"\n",
    "    x, y = point \n",
    "    return ((x-1, y-1), (x, y-1), (x+1, y-1),\n",
    "            (x-1, y),             (x+1, y),\n",
    "            (x-1, y+1), (x, y+1), (x+1, y+1))\n",
    "\n",
    "def cityblock_distance(P, Q=origin): \n",
    "    \"Manhatten distance between two points.\"\n",
    "    return sum(abs(p - q) for p, q in zip(P, Q))\n",
    "\n",
    "def distance(P, Q=origin): \n",
    "    \"Straight-line (hypotenuse) distance between two points.\"\n",
    "    return sum((p - q) ** 2 for p, q in zip(P, Q)) ** 0.5\n",
    "\n",
    "def king_distance(P, Q=origin):\n",
    "    \"Number of chess King moves between two points.\"\n",
    "    return max(abs(p - q) for p, q in zip(P, Q))\n",
    "\n",
    "################ Debugging \n",
    "\n",
    "def trace1(f):\n",
    "    \"Print a trace of the input and output of a function on one line.\"\n",
    "    def traced_f(*args):\n",
    "        result = f(*args)\n",
    "        print('{}({}) = {}'.format(f.__name__, ', '.join(map(str, args)), result))\n",
    "        return result\n",
    "    return traced_f\n",
    "\n",
    "def grep(pattern, iterable):\n",
    "    \"Print lines from iterable that match pattern.\"\n",
    "    for line in iterable:\n",
    "        if re.search(pattern, line):\n",
    "            print(line)\n",
    "            \n",
    "class Struct:\n",
    "    \"A structure that can have any fields defined.\"\n",
    "    def __init__(self, **entries): self.__dict__.update(entries)\n",
    "    def __repr__(self): \n",
    "        fields = ['{}={}'.format(f, self.__dict__[f]) \n",
    "                  for f in sorted(self.__dict__)]\n",
    "        return 'Struct({})'.format(', '.join(fields))\n",
    "\n",
    "################ A* and Breadth-First Search (tracking states, not actions)\n",
    "\n",
    "def always(value): return (lambda *args: value)\n",
    "\n",
    "def Astar(start, moves_func, h_func, cost_func=always(1)):\n",
    "    \"Find a shortest sequence of states from start to a goal state (where h_func(s) == 0).\"\n",
    "    frontier  = [(h_func(start), start)] # A priority queue, ordered by path length, f = g + h\n",
    "    previous  = {start: None}  # start state has no previous state; other states will\n",
    "    path_cost = {start: 0}     # The cost of the best path to a state.\n",
    "    Path      = lambda s: ([] if (s is None) else Path(previous[s]) + [s])\n",
    "    while frontier:\n",
    "        (f, s) = heappop(frontier)\n",
    "        if h_func(s) == 0:\n",
    "            return Path(s)\n",
    "        for s2 in moves_func(s):\n",
    "            g = path_cost[s] + cost_func(s, s2)\n",
    "            if s2 not in path_cost or g < path_cost[s2]:\n",
    "                heappush(frontier, (g + h_func(s2), s2))\n",
    "                path_cost[s2] = g\n",
    "                previous[s2] = s\n",
    "\n",
    "def bfs(start, moves_func, goals):\n",
    "    \"Breadth-first search\"\n",
    "    goal_func = (goals if callable(goals) else lambda s: s in goals)\n",
    "    return Astar(start, moves_func, lambda s: (0 if goal_func(s) else 1))"
   ]
  },
  {
   "cell_type": "markdown",
   "metadata": {
    "slideshow": {
     "slide_type": "fragment"
    }
   },
   "source": [
    "## Day 1"
   ]
  },
  {
   "cell_type": "code",
   "execution_count": 163,
   "metadata": {},
   "outputs": [
    {
     "data": {
      "text/plain": [
       "200"
      ]
     },
     "execution_count": 163,
     "metadata": {},
     "output_type": "execute_result"
    }
   ],
   "source": [
    "nums = set(Input(1, line_parser=int))\n",
    "len(nums)"
   ]
  },
  {
   "cell_type": "code",
   "execution_count": 164,
   "metadata": {},
   "outputs": [
    {
     "data": {
      "text/plain": [
       "969024"
      ]
     },
     "execution_count": 164,
     "metadata": {},
     "output_type": "execute_result"
    }
   ],
   "source": [
    "def has_2020(n):\n",
    "    return (2020 - n) in nums\n",
    "n = first_true(nums, pred=has_2020)\n",
    "n * (2020 - n)"
   ]
  },
  {
   "cell_type": "code",
   "execution_count": 165,
   "metadata": {},
   "outputs": [
    {
     "data": {
      "text/plain": [
       "230057040"
      ]
     },
     "execution_count": 165,
     "metadata": {},
     "output_type": "execute_result"
    }
   ],
   "source": [
    "def has_2020_triplet(pair):\n",
    "    return (2020 - sum(pair)) in nums\n",
    "n1, n2 = first_true(combinations(nums, 2), pred=has_2020_triplet)\n",
    "n1 * n2 * (2020 - n1 - n2)"
   ]
  },
  {
   "cell_type": "markdown",
   "metadata": {},
   "source": [
    "## Day 2"
   ]
  },
  {
   "cell_type": "code",
   "execution_count": 166,
   "metadata": {},
   "outputs": [],
   "source": [
    "TOKENS = re.compile(r'(\\d+)-(\\d+) (\\w): (\\w+)')\n",
    "def toks(line):\n",
    "    [(least, most, char, pw)] = TOKENS.findall(line)\n",
    "    return int(least), int(most), char, pw"
   ]
  },
  {
   "cell_type": "code",
   "execution_count": 167,
   "metadata": {},
   "outputs": [
    {
     "data": {
      "text/plain": [
       "((6, 10, 's', 'snkscgszxsssscss'), (6, 7, 'b', 'bbbbbxkb'))"
      ]
     },
     "execution_count": 167,
     "metadata": {},
     "output_type": "execute_result"
    }
   ],
   "source": [
    "specs = Input(2, line_parser=toks)\n",
    "specs[:2]"
   ]
  },
  {
   "cell_type": "code",
   "execution_count": 168,
   "metadata": {},
   "outputs": [],
   "source": [
    "def is_valid_pw(spec):\n",
    "    least, most, char, pw = spec\n",
    "    return least <= pw.count(char) <= most"
   ]
  },
  {
   "cell_type": "code",
   "execution_count": 169,
   "metadata": {},
   "outputs": [
    {
     "data": {
      "text/plain": [
       "414"
      ]
     },
     "execution_count": 169,
     "metadata": {},
     "output_type": "execute_result"
    }
   ],
   "source": [
    "quantify(specs, is_valid_pw)"
   ]
  },
  {
   "cell_type": "code",
   "execution_count": 170,
   "metadata": {},
   "outputs": [],
   "source": [
    "from operator import xor\n",
    "\n",
    "def is_valid_pw2(spec):\n",
    "    pos1, pos2, char, pw = spec\n",
    "    return xor(pw[pos1 - 1] == char, pw[pos2 - 1] == char)"
   ]
  },
  {
   "cell_type": "code",
   "execution_count": 171,
   "metadata": {},
   "outputs": [
    {
     "data": {
      "text/plain": [
       "413"
      ]
     },
     "execution_count": 171,
     "metadata": {},
     "output_type": "execute_result"
    }
   ],
   "source": [
    "quantify(specs, is_valid_pw2)"
   ]
  },
  {
   "cell_type": "markdown",
   "metadata": {},
   "source": [
    "## Day 3"
   ]
  },
  {
   "cell_type": "code",
   "execution_count": 172,
   "metadata": {},
   "outputs": [
    {
     "data": {
      "text/plain": [
       "('....#..#.......#........#....#.', '..##.#.#.#...................#.')"
      ]
     },
     "execution_count": 172,
     "metadata": {},
     "output_type": "execute_result"
    }
   ],
   "source": [
    "mountain = Input(3)\n",
    "width = len(mountain[0])\n",
    "mountain[0:2]"
   ]
  },
  {
   "cell_type": "code",
   "execution_count": 173,
   "metadata": {},
   "outputs": [
    {
     "data": {
      "text/plain": [
       "257"
      ]
     },
     "execution_count": 173,
     "metadata": {},
     "output_type": "execute_result"
    }
   ],
   "source": [
    "def at(irow):\n",
    "    index, row = irow\n",
    "    x = index * 3 % len(row)\n",
    "    return row[x]\n",
    "\n",
    "quantify(mapt(at, enumerate(mountain)), lambda c: c == '#')"
   ]
  },
  {
   "cell_type": "code",
   "execution_count": 174,
   "metadata": {},
   "outputs": [
    {
     "data": {
      "text/plain": [
       "257"
      ]
     },
     "execution_count": 174,
     "metadata": {},
     "output_type": "execute_result"
    }
   ],
   "source": [
    "def hops(slope):\n",
    "    x, y = 0, 0\n",
    "    while True:\n",
    "        yield (x, y)\n",
    "        x += X(slope)\n",
    "        y += Y(slope)\n",
    "        \n",
    "def coords(slope):\n",
    "    return tuple(takewhile(lambda p: X(p) < len(mountain), hops(slope)))\n",
    "\n",
    "def at(coord):\n",
    "    x, y = coord\n",
    "    return mountain[x][y % width]\n",
    "\n",
    "def count_trees(slope):\n",
    "    return quantify(map(at, coords(slope)), lambda c: c == '#')\n",
    "\n",
    "count_trees((1, 3))"
   ]
  },
  {
   "cell_type": "code",
   "execution_count": 175,
   "metadata": {},
   "outputs": [
    {
     "data": {
      "text/plain": [
       "1744787392"
      ]
     },
     "execution_count": 175,
     "metadata": {},
     "output_type": "execute_result"
    }
   ],
   "source": [
    "trees = [\n",
    "    count_trees((1, 1)),\n",
    "    count_trees((1, 3)),\n",
    "    count_trees((1, 5)),\n",
    "    count_trees((1, 7)),\n",
    "    count_trees((2, 1)),\n",
    "]\n",
    "\n",
    "reduce(operator.mul, trees)\n",
    "# trees"
   ]
  },
  {
   "cell_type": "markdown",
   "metadata": {},
   "source": [
    "## Day 4"
   ]
  },
  {
   "cell_type": "code",
   "execution_count": 176,
   "metadata": {},
   "outputs": [
    {
     "data": {
      "text/plain": [
       "{'ecl': 'gry', 'pid': '123'}"
      ]
     },
     "execution_count": 176,
     "metadata": {},
     "output_type": "execute_result"
    }
   ],
   "source": [
    "def fields(pp):\n",
    "    return dict([line.split(':') for line in pp])\n",
    "\n",
    "fields([ 'ecl:gry', 'pid:123' ])"
   ]
  },
  {
   "cell_type": "code",
   "execution_count": 177,
   "metadata": {},
   "outputs": [
    {
     "data": {
      "text/plain": [
       "{'iyr': '2015',\n",
       " 'cid': '189',\n",
       " 'ecl': 'oth',\n",
       " 'byr': '1947',\n",
       " 'hcl': '#6c4ab1',\n",
       " 'eyr': '2026',\n",
       " 'hgt': '174cm',\n",
       " 'pid': '526744288'}"
      ]
     },
     "execution_count": 177,
     "metadata": {},
     "output_type": "execute_result"
    }
   ],
   "source": [
    "inp = Input(4, line_parser=t.identity)\n",
    "ppl = ''.join(inp).split('\\n\\n')\n",
    "\n",
    "parse = t.compose(fields, str.split)\n",
    "ppl = mapt(parse, ppl)\n",
    "ppl[0]"
   ]
  },
  {
   "cell_type": "code",
   "execution_count": 178,
   "metadata": {},
   "outputs": [
    {
     "data": {
      "text/plain": [
       "264"
      ]
     },
     "execution_count": 178,
     "metadata": {},
     "output_type": "execute_result"
    }
   ],
   "source": [
    "exp = ['byr', 'iyr', 'eyr', 'hgt', 'hcl', 'ecl', 'pid']\n",
    "def has_fields(pp):\n",
    "    return all(field in pp for field in exp)\n",
    "\n",
    "quantify(ppl, has_fields)"
   ]
  },
  {
   "cell_type": "code",
   "execution_count": 179,
   "metadata": {},
   "outputs": [],
   "source": [
    "def hgt(h):\n",
    "    n, unit = h[:-2], h[-2:]\n",
    "    return (150 <= int(n) <= 193 if unit == 'cm' else\n",
    "            59 <= int(n) <= 76 if unit == 'in' else\n",
    "            False)\n",
    "\n",
    "hcl_re = re.compile(r'^#[0-9a-f]{6}$')\n",
    "pid_re = re.compile(r'^[0-9]{9}$')\n",
    "\n",
    "validators = {\n",
    "    'byr': lambda v: 1920 <= int(v) <= 2002,\n",
    "    'iyr': lambda v: 2010 <= int(v) <= 2020,\n",
    "    'eyr': lambda v: 2020 <= int(v) <= 2030,\n",
    "    'hgt': hgt,\n",
    "    'hcl': hcl_re.match,\n",
    "    'ecl': lambda v: v in ['amb', 'blu', 'brn', 'gry', 'grn', 'hzl', 'oth'],\n",
    "    'pid': pid_re.match,\n",
    "    'cid': lambda v: True\n",
    "}"
   ]
  },
  {
   "cell_type": "code",
   "execution_count": 180,
   "metadata": {},
   "outputs": [],
   "source": [
    "def is_valid(pp):\n",
    "    return has_fields(pp) and all(\n",
    "        validators[f](val)\n",
    "        for f, val in pp.items()\n",
    "    )"
   ]
  },
  {
   "cell_type": "code",
   "execution_count": 181,
   "metadata": {},
   "outputs": [
    {
     "data": {
      "text/plain": [
       "224"
      ]
     },
     "execution_count": 181,
     "metadata": {},
     "output_type": "execute_result"
    }
   ],
   "source": [
    "quantify(ppl, is_valid)"
   ]
  },
  {
   "cell_type": "markdown",
   "metadata": {},
   "source": [
    "## Day 5"
   ]
  },
  {
   "cell_type": "code",
   "execution_count": 182,
   "metadata": {},
   "outputs": [
    {
     "data": {
      "text/plain": [
       "('FFFFBFBLLR', 'BFBFFBBLLR')"
      ]
     },
     "execution_count": 182,
     "metadata": {},
     "output_type": "execute_result"
    }
   ],
   "source": [
    "tix = Input(5)\n",
    "tix[:2]"
   ]
  },
  {
   "cell_type": "code",
   "execution_count": 183,
   "metadata": {},
   "outputs": [],
   "source": [
    "from math import floor, ceil\n",
    "\n",
    "def split(front, lower, upper, tik):\n",
    "    if not tik: return lower\n",
    "    \n",
    "    first, rest = tik[0], tik[1:]\n",
    "    med = lower + (upper - lower) / 2\n",
    "    med1 = floor(med)\n",
    "    med2 = ceil(med)\n",
    "    return (split(front, lower, med1, rest) if first == front else\n",
    "            split(front, med2, upper, rest))\n",
    "\n",
    "row = t.curry(split, 'F', 0, 127)\n",
    "col = t.curry(split, 'L', 0, 7)"
   ]
  },
  {
   "cell_type": "code",
   "execution_count": 184,
   "metadata": {},
   "outputs": [],
   "source": [
    "def seat(tik):\n",
    "    rows, cols = tik[:-3], tik[-3:]\n",
    "    r, c = row(rows), col(cols)\n",
    "    return r * 8 + c"
   ]
  },
  {
   "cell_type": "code",
   "execution_count": 185,
   "metadata": {},
   "outputs": [
    {
     "data": {
      "text/plain": [
       "835"
      ]
     },
     "execution_count": 185,
     "metadata": {},
     "output_type": "execute_result"
    }
   ],
   "source": [
    "ids = set(mapt(seat, tix))\n",
    "max(ids)"
   ]
  },
  {
   "cell_type": "code",
   "execution_count": 186,
   "metadata": {},
   "outputs": [
    {
     "data": {
      "text/plain": [
       "649"
      ]
     },
     "execution_count": 186,
     "metadata": {},
     "output_type": "execute_result"
    }
   ],
   "source": [
    "first_true(ints(min(ids), max(ids)),\n",
    "           lambda n: n not in ids)"
   ]
  },
  {
   "cell_type": "markdown",
   "metadata": {},
   "source": [
    "## Day 6"
   ]
  },
  {
   "cell_type": "code",
   "execution_count": 198,
   "metadata": {},
   "outputs": [
    {
     "data": {
      "text/plain": [
       "(['ymw', 'w', 'wm', 'vsw', 'wm'], ['vs', 'lqn', 'ti', 'uvl'])"
      ]
     },
     "execution_count": 198,
     "metadata": {},
     "output_type": "execute_result"
    }
   ],
   "source": [
    "qs = Groups(6)\n",
    "qs[:2]"
   ]
  },
  {
   "cell_type": "code",
   "execution_count": 199,
   "metadata": {},
   "outputs": [
    {
     "data": {
      "text/plain": [
       "{'a', 'b', 'c', 'd'}"
      ]
     },
     "execution_count": 199,
     "metadata": {},
     "output_type": "execute_result"
    }
   ],
   "source": [
    "def answered(g):\n",
    "    ppl = mapt(set, g)\n",
    "    return reduce(operator.or_, ppl)\n",
    "\n",
    "answered(['abc', 'bcd'])"
   ]
  },
  {
   "cell_type": "code",
   "execution_count": 200,
   "metadata": {},
   "outputs": [
    {
     "data": {
      "text/plain": [
       "6735"
      ]
     },
     "execution_count": 200,
     "metadata": {},
     "output_type": "execute_result"
    }
   ],
   "source": [
    "sum(mapt(t.compose(len, answered), qs))"
   ]
  },
  {
   "cell_type": "code",
   "execution_count": 201,
   "metadata": {},
   "outputs": [
    {
     "data": {
      "text/plain": [
       "{'b', 'c'}"
      ]
     },
     "execution_count": 201,
     "metadata": {},
     "output_type": "execute_result"
    }
   ],
   "source": [
    "def answered(g):\n",
    "    ppl = mapt(set, g)\n",
    "    return reduce(operator.and_, ppl)\n",
    "\n",
    "answered(['abc', 'bcd'])"
   ]
  },
  {
   "cell_type": "code",
   "execution_count": 202,
   "metadata": {},
   "outputs": [
    {
     "data": {
      "text/plain": [
       "3221"
      ]
     },
     "execution_count": 202,
     "metadata": {},
     "output_type": "execute_result"
    }
   ],
   "source": [
    "sum(mapt(t.compose(len, answered), qs))"
   ]
  },
  {
   "cell_type": "markdown",
   "metadata": {},
   "source": [
    "## Day 7"
   ]
  },
  {
   "cell_type": "code",
   "execution_count": 246,
   "metadata": {},
   "outputs": [],
   "source": [
    "def parse_children(rest):\n",
    "    toks = Tokens(rest)\n",
    "    children = [Tokens(c, ' ') for c in toks]\n",
    "    return [(int(c[0]), f'{c[1]} {c[2]}')\n",
    "            for c in children\n",
    "            if c[0] != 'no']\n",
    "\n",
    "def parse_bags(line):\n",
    "    parent, rest = line.split(' bags contain ')\n",
    "    children = mapt(parse_children, rest.split(', '))\n",
    "    return parent, list(t.concat(children))"
   ]
  },
  {
   "cell_type": "code",
   "execution_count": 278,
   "metadata": {},
   "outputs": [
    {
     "data": {
      "text/plain": [
       "('drab plum', 'faded cyan', 'shiny brown', 'bright plum', 'plaid purple')"
      ]
     },
     "execution_count": 278,
     "metadata": {},
     "output_type": "execute_result"
    }
   ],
   "source": [
    "rules = Input(7, line_parser=parse_bags, test=False)\n",
    "rules = dict(rules)\n",
    "head(rules)"
   ]
  },
  {
   "cell_type": "code",
   "execution_count": 279,
   "metadata": {},
   "outputs": [
    {
     "data": {
      "text/plain": [
       "False"
      ]
     },
     "execution_count": 279,
     "metadata": {},
     "output_type": "execute_result"
    }
   ],
   "source": [
    "gold_cache = defaultdict(lambda: None)\n",
    "\n",
    "search = 'shiny gold'\n",
    "\n",
    "def gets_gold(bag):\n",
    "    if bag == search: return True\n",
    "    if gold_cache[bag] != None:\n",
    "        return gold_cache[bag]\n",
    "    \n",
    "    children = rules[bag]\n",
    "    yes = any(gets_gold(c) for _, c in children)\n",
    "    gold_cache[bag] = yes\n",
    "    return yes\n",
    "\n",
    "gets_gold('bright white')"
   ]
  },
  {
   "cell_type": "code",
   "execution_count": 280,
   "metadata": {},
   "outputs": [
    {
     "data": {
      "text/plain": [
       "151"
      ]
     },
     "execution_count": 280,
     "metadata": {},
     "output_type": "execute_result"
    }
   ],
   "source": [
    "quantify(rules.keys(), gets_gold) - 1"
   ]
  },
  {
   "cell_type": "code",
   "execution_count": 281,
   "metadata": {},
   "outputs": [],
   "source": [
    "def inside(bag):\n",
    "    children = rules[bag]\n",
    "    return 1 + sum(count * inside(child) for count, child in children)"
   ]
  },
  {
   "cell_type": "code",
   "execution_count": 282,
   "metadata": {},
   "outputs": [
    {
     "data": {
      "text/plain": [
       "41559"
      ]
     },
     "execution_count": 282,
     "metadata": {},
     "output_type": "execute_result"
    }
   ],
   "source": [
    "inside('shiny gold') - 1"
   ]
  },
  {
   "cell_type": "markdown",
   "metadata": {},
   "source": [
    "## Day 8"
   ]
  },
  {
   "cell_type": "code",
   "execution_count": 84,
   "metadata": {},
   "outputs": [
    {
     "data": {
      "text/plain": [
       "(('nop', '+', 612), ('acc', '-', 6))"
      ]
     },
     "execution_count": 84,
     "metadata": {},
     "output_type": "execute_result"
    }
   ],
   "source": [
    "def Instr(line):\n",
    "    op, rest = line.strip().split()\n",
    "    sign, arg = rest[0], rest[1:]\n",
    "    return op, sign, int(arg)\n",
    "\n",
    "prog = Input(8, line_parser=Instr, test=False)\n",
    "prog[:2]"
   ]
  },
  {
   "cell_type": "code",
   "execution_count": 85,
   "metadata": {},
   "outputs": [
    {
     "data": {
      "text/plain": [
       "1337"
      ]
     },
     "execution_count": 85,
     "metadata": {},
     "output_type": "execute_result"
    }
   ],
   "source": [
    "@dataclass\n",
    "class Program:\n",
    "    prog: list\n",
    "    pc = 0\n",
    "    acc = 0\n",
    "    ran: set = field(default_factory=set)\n",
    "    done = False\n",
    "    \n",
    "    def step(self):\n",
    "        if self.pc >= len(self.prog):\n",
    "            self.done = True\n",
    "            return\n",
    "        \n",
    "        self.ran.add(self.pc)\n",
    "\n",
    "        op, sign, arg = self.prog[self.pc]\n",
    "        if op == 'nop':\n",
    "            self.pc += 1\n",
    "        elif op == 'acc':\n",
    "            mult = 1 if sign == '+' else -1\n",
    "            self.acc += mult * arg\n",
    "            self.pc += 1\n",
    "        elif op == 'jmp':\n",
    "            mult = 1 if sign == '+' else -1\n",
    "            self.pc += mult * arg\n",
    "        else:\n",
    "            raise ValueError()\n",
    "    \n",
    "    def run(self):\n",
    "        while self.pc not in self.ran and not self.done:\n",
    "            self.step()\n",
    "        return self.acc\n",
    "\n",
    "p = Program(prog)\n",
    "p.run()"
   ]
  },
  {
   "cell_type": "code",
   "execution_count": 86,
   "metadata": {},
   "outputs": [],
   "source": [
    "def run_with_fix(index):\n",
    "    new = list(prog)\n",
    "    op, sign, arg = new[index]\n",
    "    new[index] = (\n",
    "        'jmp' if op == 'nop' else\n",
    "        'nop' if op == 'jmp' else\n",
    "        op,\n",
    "        sign, arg\n",
    "    )\n",
    "    p = Program(new)\n",
    "    p.run()\n",
    "    return p\n",
    "\n",
    "def find_fix():\n",
    "    for i in tq(range(len(prog))):\n",
    "        p = run_with_fix(i)\n",
    "        if p.done:\n",
    "            return p"
   ]
  },
  {
   "cell_type": "code",
   "execution_count": 87,
   "metadata": {},
   "outputs": [
    {
     "data": {
      "application/vnd.jupyter.widget-view+json": {
       "model_id": "19b3a520c91847498bdfad72ca250778",
       "version_major": 2,
       "version_minor": 0
      },
      "text/plain": [
       "HBox(children=(FloatProgress(value=0.0, max=633.0), HTML(value='')))"
      ]
     },
     "metadata": {},
     "output_type": "display_data"
    },
    {
     "name": "stdout",
     "output_type": "stream",
     "text": [
      "\n"
     ]
    },
    {
     "data": {
      "text/plain": [
       "1358"
      ]
     },
     "execution_count": 87,
     "metadata": {},
     "output_type": "execute_result"
    }
   ],
   "source": [
    "p = find_fix()\n",
    "p.acc"
   ]
  },
  {
   "cell_type": "markdown",
   "metadata": {},
   "source": [
    "## Day 9"
   ]
  },
  {
   "cell_type": "code",
   "execution_count": 109,
   "metadata": {},
   "outputs": [
    {
     "data": {
      "text/plain": [
       "(1, 30, 41, 23, 5)"
      ]
     },
     "execution_count": 109,
     "metadata": {},
     "output_type": "execute_result"
    }
   ],
   "source": [
    "data = mapt(int, Input(9, test=False))\n",
    "data[:5]"
   ]
  },
  {
   "cell_type": "code",
   "execution_count": 111,
   "metadata": {},
   "outputs": [
    {
     "data": {
      "text/plain": [
       "105950735"
      ]
     },
     "execution_count": 111,
     "metadata": {},
     "output_type": "execute_result"
    }
   ],
   "source": [
    "p_len = 25\n",
    "preamble = deque(data[:p_len], p_len)\n",
    "code = deque(data[p_len:])\n",
    "\n",
    "def has_2sum(n):\n",
    "    choices = set(preamble)\n",
    "    return any(n - p in choices for p in choices if p + p != n)\n",
    "\n",
    "while True:\n",
    "    n = code.popleft()\n",
    "    if not has_2sum(n): break\n",
    "    preamble.append(n)\n",
    "\n",
    "n"
   ]
  },
  {
   "cell_type": "code",
   "execution_count": 120,
   "metadata": {},
   "outputs": [
    {
     "data": {
      "application/vnd.jupyter.widget-view+json": {
       "model_id": "22f77d270631434f9980da41fd57e36b",
       "version_major": 2,
       "version_minor": 0
      },
      "text/plain": [
       "HBox(children=(FloatProgress(value=1.0, bar_style='info', max=1.0), HTML(value='')))"
      ]
     },
     "metadata": {},
     "output_type": "display_data"
    },
    {
     "name": "stdout",
     "output_type": "stream",
     "text": [
      "\n"
     ]
    },
    {
     "data": {
      "text/plain": [
       "(448, 465)"
      ]
     },
     "execution_count": 120,
     "metadata": {},
     "output_type": "execute_result"
    }
   ],
   "source": [
    "def subsum(pair):\n",
    "    i1, i2 = pair\n",
    "    return sum(data[i1:i2])\n",
    "\n",
    "ranges = combinations(ints(0, len(data)), 2)\n",
    "pair = first_true(tq(ranges), pred=lambda r: subsum(r) == n)\n",
    "pair"
   ]
  },
  {
   "cell_type": "code",
   "execution_count": 121,
   "metadata": {},
   "outputs": [
    {
     "data": {
      "text/plain": [
       "105950735"
      ]
     },
     "execution_count": 121,
     "metadata": {},
     "output_type": "execute_result"
    }
   ],
   "source": [
    "i1, i2 = pair\n",
    "max(data[i1:i2]) + min(data[i1])"
   ]
  }
 ],
 "metadata": {
  "kernelspec": {
   "display_name": "Python 3",
   "language": "python",
   "name": "python3"
  },
  "language_info": {
   "codemirror_mode": {
    "name": "ipython",
    "version": 3
   },
   "file_extension": ".py",
   "mimetype": "text/x-python",
   "name": "python",
   "nbconvert_exporter": "python",
   "pygments_lexer": "ipython3",
   "version": "3.8.3"
  }
 },
 "nbformat": 4,
 "nbformat_minor": 2
}
