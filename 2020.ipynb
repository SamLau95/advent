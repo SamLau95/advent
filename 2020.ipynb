{
 "cells": [
  {
   "cell_type": "code",
   "execution_count": 1,
   "metadata": {},
   "outputs": [],
   "source": [
    "#### IMPORTS\n",
    "\n",
    "import re\n",
    "import abc\n",
    "import operator\n",
    "import numpy as np\n",
    "from collections import Counter, defaultdict, namedtuple, deque, abc\n",
    "from itertools   import (permutations, combinations, chain, cycle, product, islice, \n",
    "                         takewhile, zip_longest, starmap, count as count_from)\n",
    "from functools   import lru_cache, reduce\n",
    "from heapq import (heappush, heappop, nlargest, nsmallest)\n",
    "\n",
    "from pprint import pprint as p, pformat as pf\n",
    "import toolz.curried as t\n",
    "from tqdm import tqdm_notebook as tq\n",
    "from dataclasses import dataclass\n",
    "\n",
    "#### CONSTANTS\n",
    "\n",
    "alphabet = 'abcdefghijklmnopqrstuvwxyz'\n",
    "ALPHABET = alphabet.upper()\n",
    "infinity = float('inf')\n",
    "\n",
    "#### SIMPLE UTILITY FUNCTIONS\n",
    "\n",
    "cat = ''.join\n",
    "\n",
    "def ints(start, end, step=1):\n",
    "    \"The integers from start to end, inclusive: range(start, end+1)\"\n",
    "    return range(start, end + 1, step)\n",
    "\n",
    "def first(iterable, default=None): \n",
    "    \"The first item in an iterable, or default if it is empty.\"\n",
    "    return next(iter(iterable), default)\n",
    "\n",
    "def head(iterable, n=5):\n",
    "    \"The first n items in an iterable\"\n",
    "    return tuple(islice(iterable, n))\n",
    "\n",
    "def tail(iterable, n=1):\n",
    "    \"Skip n items in an iterable\"\n",
    "    return islice(iterable, n, None)\n",
    "\n",
    "def first_true(iterable, pred=None, default=None):\n",
    "    \"\"\"Returns the first true value in the iterable.\n",
    "    If no true value is found, returns *default*\n",
    "    If *pred* is not None, returns the first item\n",
    "    for which pred(item) is true.\"\"\"\n",
    "    # first_true([a,b,c], default=x) --> a or b or c or x\n",
    "    # first_true([a,b], fn, x) --> a if fn(a) else b if fn(b) else x\n",
    "    return next(filter(pred, iterable), default)\n",
    "\n",
    "def nth(iterable, n, default=None):\n",
    "    \"Returns the nth item of iterable, or a default value\"\n",
    "    return next(islice(iterable, n, None), default)\n",
    "\n",
    "def upto(iterable, maxval):\n",
    "    \"From a monotonically increasing iterable, generate all the values <= maxval.\"\n",
    "    # Why <= maxval rather than < maxval? In part because that's how Ruby's upto does it.\n",
    "    return takewhile(lambda x: x <= maxval, iterable)\n",
    "\n",
    "identity = lambda x: x\n",
    "\n",
    "def quantify(iterable, pred=bool):\n",
    "    \"Count how many times the predicate is true of an item in iterable.\"\n",
    "    return sum(map(pred, iterable))\n",
    "\n",
    "def multimap(items):\n",
    "    \"Given (key, val) pairs, return {key: [val, ....], ...}.\"\n",
    "    result = defaultdict(list)\n",
    "    for (key, val) in items:\n",
    "        result[key].append(val)\n",
    "    return result\n",
    "\n",
    "def overlapping(iterable, n):\n",
    "    \"\"\"Generate all (overlapping) n-element subsequences of iterable.\n",
    "    overlapping('ABCDEFG', 3) --> ABC BCD CDE DEF EFG\"\"\"\n",
    "    if isinstance(iterable, abc.Sequence):\n",
    "        yield from (iterable[i:i+n] for i in range(len(iterable) + 1 - n))\n",
    "    else:\n",
    "        result = deque(maxlen=n)\n",
    "        for x in iterable:\n",
    "            result.append(x)\n",
    "            if len(result) == n:\n",
    "                yield tuple(result)\n",
    "                \n",
    "def pairwise(iterable):\n",
    "    \"s -> (s0,s1), (s1,s2), (s2, s3), ...\"\n",
    "    return overlapping(iterable, 2)\n",
    "\n",
    "def mapt(fn, *args): \n",
    "    \"Do a map, and make the results into a tuple.\"\n",
    "    return tuple(map(fn, *args))\n",
    "\n",
    "def map2d(fn, grid):\n",
    "    \"Apply fn to every element in a 2-dimensional grid.\"\n",
    "    return tuple(mapt(fn, row) for row in grid)\n",
    "\n",
    "def flatmap(fn, *args):\n",
    "    \"Do a map and a one-level flatten\"\n",
    "    return tuple(chain.from_iterable(map(fn, *args)))\n",
    "\n",
    "def repeat(n, fn, arg, *args, **kwds):\n",
    "    \"Repeat arg = fn(arg) n times, return arg.\"\n",
    "    return nth(repeatedly(fn, arg, *args, **kwds), n)\n",
    "\n",
    "def repeatedly(fn, arg, *args, **kwds):\n",
    "    \"Yield arg, fn(arg), fn(fn(arg)), ...\"\n",
    "    yield arg\n",
    "    while True:\n",
    "        arg = fn(arg, *args, **kwds)\n",
    "        yield arg\n",
    "        \n",
    "def repeatedly1(fn, arg, *args, **kwds):\n",
    "    \"Yield fn(arg), fn(fn(arg)), ...\"\n",
    "    return tail(repeatedly(fn, arg, *args, **kwds))\n",
    "\n",
    "def compose(f, g): \n",
    "    \"The function that computes f(g(x)).\"\n",
    "    return lambda x: f(g(x))\n",
    "\n",
    "#### FILE INPUT AND PARSING\n",
    "\n",
    "def Input(day, line_parser=str.strip, test=False, file_template='data/2020/{}.txt'):\n",
    "    \"For this day's input file, return a tuple of each line parsed by `line_parser`.\"\n",
    "    return mapt(line_parser, open(file_template.format(\n",
    "        f'{day}test' if test else day\n",
    "    )))\n",
    "\n",
    "@t.curry\n",
    "def Tokens(line, sep=','):\n",
    "    \"Splits line into delimited tokens\"\n",
    "    return line.strip().split(sep)\n",
    "\n",
    "def integers(text): \n",
    "    \"A tuple of all integers in a string (ignore other characters).\"\n",
    "    return mapt(int, re.findall(r'-?\\d+', text))\n",
    "\n",
    "def digits(number):\n",
    "    \"Tuple of digits in number\"\n",
    "    return mapt(int, str(number))\n",
    "\n",
    "################ 2-D points implemented using (x, y) tuples\n",
    "\n",
    "def X(point): return point[0]\n",
    "def Y(point): return point[1]\n",
    "def Z(point): return point[2]\n",
    "\n",
    "origin = (0, 0)\n",
    "HEADINGS = UP, LEFT, DOWN, RIGHT = (0, -1), (-1, 0), (0, 1), (1, 0)\n",
    "\n",
    "def turn_right(heading): return HEADINGS[HEADINGS.index(heading) - 1]\n",
    "def turn_around(heading):return HEADINGS[HEADINGS.index(heading) - 2]\n",
    "def turn_left(heading):  return HEADINGS[HEADINGS.index(heading) - 3]\n",
    "\n",
    "def add(A, B): \n",
    "    \"Element-wise addition of two n-dimensional vectors.\"\n",
    "    return mapt(sum, zip(A, B))\n",
    "\n",
    "def sub(A, B): \n",
    "    \"Element-wise subtraction of two n-dimensional vectors.\"\n",
    "    return tuple(a - b for a, b in zip(A, B))\n",
    "\n",
    "def neighbors4(point): \n",
    "    \"The four neighboring squares.\"\n",
    "    x, y = point\n",
    "    return (          (x, y-1),\n",
    "            (x-1, y),           (x+1, y), \n",
    "                      (x, y+1))\n",
    "\n",
    "def neighbors8(point): \n",
    "    \"The eight neighboring squares.\"\n",
    "    x, y = point \n",
    "    return ((x-1, y-1), (x, y-1), (x+1, y-1),\n",
    "            (x-1, y),             (x+1, y),\n",
    "            (x-1, y+1), (x, y+1), (x+1, y+1))\n",
    "\n",
    "def cityblock_distance(P, Q=origin): \n",
    "    \"Manhatten distance between two points.\"\n",
    "    return sum(abs(p - q) for p, q in zip(P, Q))\n",
    "\n",
    "def distance(P, Q=origin): \n",
    "    \"Straight-line (hypotenuse) distance between two points.\"\n",
    "    return sum((p - q) ** 2 for p, q in zip(P, Q)) ** 0.5\n",
    "\n",
    "def king_distance(P, Q=origin):\n",
    "    \"Number of chess King moves between two points.\"\n",
    "    return max(abs(p - q) for p, q in zip(P, Q))\n",
    "\n",
    "################ Debugging \n",
    "\n",
    "def trace1(f):\n",
    "    \"Print a trace of the input and output of a function on one line.\"\n",
    "    def traced_f(*args):\n",
    "        result = f(*args)\n",
    "        print('{}({}) = {}'.format(f.__name__, ', '.join(map(str, args)), result))\n",
    "        return result\n",
    "    return traced_f\n",
    "\n",
    "def grep(pattern, iterable):\n",
    "    \"Print lines from iterable that match pattern.\"\n",
    "    for line in iterable:\n",
    "        if re.search(pattern, line):\n",
    "            print(line)\n",
    "            \n",
    "class Struct:\n",
    "    \"A structure that can have any fields defined.\"\n",
    "    def __init__(self, **entries): self.__dict__.update(entries)\n",
    "    def __repr__(self): \n",
    "        fields = ['{}={}'.format(f, self.__dict__[f]) \n",
    "                  for f in sorted(self.__dict__)]\n",
    "        return 'Struct({})'.format(', '.join(fields))\n",
    "\n",
    "################ A* and Breadth-First Search (tracking states, not actions)\n",
    "\n",
    "def always(value): return (lambda *args: value)\n",
    "\n",
    "def Astar(start, moves_func, h_func, cost_func=always(1)):\n",
    "    \"Find a shortest sequence of states from start to a goal state (where h_func(s) == 0).\"\n",
    "    frontier  = [(h_func(start), start)] # A priority queue, ordered by path length, f = g + h\n",
    "    previous  = {start: None}  # start state has no previous state; other states will\n",
    "    path_cost = {start: 0}     # The cost of the best path to a state.\n",
    "    Path      = lambda s: ([] if (s is None) else Path(previous[s]) + [s])\n",
    "    while frontier:\n",
    "        (f, s) = heappop(frontier)\n",
    "        if h_func(s) == 0:\n",
    "            return Path(s)\n",
    "        for s2 in moves_func(s):\n",
    "            g = path_cost[s] + cost_func(s, s2)\n",
    "            if s2 not in path_cost or g < path_cost[s2]:\n",
    "                heappush(frontier, (g + h_func(s2), s2))\n",
    "                path_cost[s2] = g\n",
    "                previous[s2] = s\n",
    "\n",
    "def bfs(start, moves_func, goals):\n",
    "    \"Breadth-first search\"\n",
    "    goal_func = (goals if callable(goals) else lambda s: s in goals)\n",
    "    return Astar(start, moves_func, lambda s: (0 if goal_func(s) else 1))"
   ]
  },
  {
   "cell_type": "markdown",
   "metadata": {
    "slideshow": {
     "slide_type": "fragment"
    }
   },
   "source": [
    "## Day 1"
   ]
  },
  {
   "cell_type": "code",
   "execution_count": 10,
   "metadata": {},
   "outputs": [
    {
     "data": {
      "text/plain": [
       "200"
      ]
     },
     "execution_count": 10,
     "metadata": {},
     "output_type": "execute_result"
    }
   ],
   "source": [
    "nums = set(Input(1, line_parser=int))\n",
    "len(nums)"
   ]
  },
  {
   "cell_type": "code",
   "execution_count": 13,
   "metadata": {},
   "outputs": [
    {
     "data": {
      "text/plain": [
       "969024"
      ]
     },
     "execution_count": 13,
     "metadata": {},
     "output_type": "execute_result"
    }
   ],
   "source": [
    "def has_2020(n):\n",
    "    return (2020 - n) in nums\n",
    "n = first_true(nums, pred=has_2020)\n",
    "n * (2020 - n)"
   ]
  },
  {
   "cell_type": "code",
   "execution_count": 17,
   "metadata": {},
   "outputs": [
    {
     "data": {
      "text/plain": [
       "230057040"
      ]
     },
     "execution_count": 17,
     "metadata": {},
     "output_type": "execute_result"
    }
   ],
   "source": [
    "def has_2020_triplet(pair):\n",
    "    return (2020 - sum(pair)) in nums\n",
    "n1, n2 = first_true(combinations(nums, 2), pred=has_2020_triplet)\n",
    "n1 * n2 * (2020 - n1 - n2)"
   ]
  },
  {
   "cell_type": "markdown",
   "metadata": {},
   "source": [
    "## Day 2"
   ]
  },
  {
   "cell_type": "code",
   "execution_count": 11,
   "metadata": {},
   "outputs": [],
   "source": [
    "TOKENS = re.compile(r'(\\d+)-(\\d+) (\\w): (\\w+)')\n",
    "def toks(line):\n",
    "    [(least, most, char, pw)] = TOKENS.findall(line)\n",
    "    return int(least), int(most), char, pw"
   ]
  },
  {
   "cell_type": "code",
   "execution_count": 13,
   "metadata": {},
   "outputs": [
    {
     "data": {
      "text/plain": [
       "((6, 10, 's', 'snkscgszxsssscss'), (6, 7, 'b', 'bbbbbxkb'))"
      ]
     },
     "execution_count": 13,
     "metadata": {},
     "output_type": "execute_result"
    }
   ],
   "source": [
    "specs = Input(2, line_parser=toks)\n",
    "specs[:2]"
   ]
  },
  {
   "cell_type": "code",
   "execution_count": 15,
   "metadata": {},
   "outputs": [],
   "source": [
    "def is_valid_pw(spec):\n",
    "    least, most, char, pw = spec\n",
    "    return least <= pw.count(char) <= most"
   ]
  },
  {
   "cell_type": "code",
   "execution_count": 17,
   "metadata": {},
   "outputs": [
    {
     "data": {
      "text/plain": [
       "414"
      ]
     },
     "execution_count": 17,
     "metadata": {},
     "output_type": "execute_result"
    }
   ],
   "source": [
    "quantify(specs, is_valid_pw)"
   ]
  },
  {
   "cell_type": "code",
   "execution_count": 23,
   "metadata": {},
   "outputs": [],
   "source": [
    "from operator import xor\n",
    "\n",
    "def is_valid_pw2(spec):\n",
    "    pos1, pos2, char, pw = spec\n",
    "    return xor(pw[pos1 - 1] == char, pw[pos2 - 1] == char)"
   ]
  },
  {
   "cell_type": "code",
   "execution_count": 24,
   "metadata": {},
   "outputs": [
    {
     "data": {
      "text/plain": [
       "413"
      ]
     },
     "execution_count": 24,
     "metadata": {},
     "output_type": "execute_result"
    }
   ],
   "source": [
    "quantify(specs, is_valid_pw2)"
   ]
  }
 ],
 "metadata": {
  "kernelspec": {
   "display_name": "Python 3",
   "language": "python",
   "name": "python3"
  },
  "language_info": {
   "codemirror_mode": {
    "name": "ipython",
    "version": 3
   },
   "file_extension": ".py",
   "mimetype": "text/x-python",
   "name": "python",
   "nbconvert_exporter": "python",
   "pygments_lexer": "ipython3",
   "version": "3.8.3"
  }
 },
 "nbformat": 4,
 "nbformat_minor": 2
}
