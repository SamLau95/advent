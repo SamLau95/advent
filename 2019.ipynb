{
 "cells": [
  {
   "cell_type": "code",
   "execution_count": 1,
   "metadata": {},
   "outputs": [],
   "source": [
    "#### IMPORTS\n",
    "\n",
    "import re\n",
    "import abc\n",
    "import operator\n",
    "import numpy as np\n",
    "from collections import Counter, defaultdict, namedtuple, deque, abc\n",
    "from itertools   import (permutations, combinations, chain, cycle, product, islice, \n",
    "                         takewhile, zip_longest, starmap, count as count_from)\n",
    "from functools   import lru_cache, reduce\n",
    "from heapq import (heappush, heappop, nlargest, nsmallest)\n",
    "\n",
    "from pprint import pprint as p, pformat as pf\n",
    "import toolz.curried as t\n",
    "from tqdm import tqdm_notebook as tq\n",
    "from dataclasses import dataclass\n",
    "\n",
    "#### CONSTANTS\n",
    "\n",
    "alphabet = 'abcdefghijklmnopqrstuvwxyz'\n",
    "ALPHABET = alphabet.upper()\n",
    "infinity = float('inf')\n",
    "\n",
    "#### SIMPLE UTILITY FUNCTIONS\n",
    "\n",
    "cat = ''.join\n",
    "\n",
    "def ints(start, end, step=1):\n",
    "    \"The integers from start to end, inclusive: range(start, end+1)\"\n",
    "    return range(start, end + 1, step)\n",
    "\n",
    "def first(iterable, default=None): \n",
    "    \"The first item in an iterable, or default if it is empty.\"\n",
    "    return next(iter(iterable), default)\n",
    "\n",
    "def head(iterable, n=5):\n",
    "    \"The first n items in an iterable\"\n",
    "    return tuple(islice(iterable, n))\n",
    "\n",
    "def tail(iterable, n=1):\n",
    "    \"Skip n items in an iterable\"\n",
    "    return islice(iterable, n, None)\n",
    "\n",
    "def first_true(iterable, pred=None, default=None):\n",
    "    \"\"\"Returns the first true value in the iterable.\n",
    "    If no true value is found, returns *default*\n",
    "    If *pred* is not None, returns the first item\n",
    "    for which pred(item) is true.\"\"\"\n",
    "    # first_true([a,b,c], default=x) --> a or b or c or x\n",
    "    # first_true([a,b], fn, x) --> a if fn(a) else b if fn(b) else x\n",
    "    return next(filter(pred, iterable), default)\n",
    "\n",
    "def nth(iterable, n, default=None):\n",
    "    \"Returns the nth item of iterable, or a default value\"\n",
    "    return next(islice(iterable, n, None), default)\n",
    "\n",
    "def upto(iterable, maxval):\n",
    "    \"From a monotonically increasing iterable, generate all the values <= maxval.\"\n",
    "    # Why <= maxval rather than < maxval? In part because that's how Ruby's upto does it.\n",
    "    return takewhile(lambda x: x <= maxval, iterable)\n",
    "\n",
    "identity = lambda x: x\n",
    "\n",
    "def quantify(iterable, pred=bool):\n",
    "    \"Count how many times the predicate is true of an item in iterable.\"\n",
    "    return sum(map(pred, iterable))\n",
    "\n",
    "def multimap(items):\n",
    "    \"Given (key, val) pairs, return {key: [val, ....], ...}.\"\n",
    "    result = defaultdict(list)\n",
    "    for (key, val) in items:\n",
    "        result[key].append(val)\n",
    "    return result\n",
    "\n",
    "def overlapping(iterable, n):\n",
    "    \"\"\"Generate all (overlapping) n-element subsequences of iterable.\n",
    "    overlapping('ABCDEFG', 3) --> ABC BCD CDE DEF EFG\"\"\"\n",
    "    if isinstance(iterable, abc.Sequence):\n",
    "        yield from (iterable[i:i+n] for i in range(len(iterable) + 1 - n))\n",
    "    else:\n",
    "        result = deque(maxlen=n)\n",
    "        for x in iterable:\n",
    "            result.append(x)\n",
    "            if len(result) == n:\n",
    "                yield tuple(result)\n",
    "                \n",
    "def pairwise(iterable):\n",
    "    \"s -> (s0,s1), (s1,s2), (s2, s3), ...\"\n",
    "    return overlapping(iterable, 2)\n",
    "\n",
    "def mapt(fn, *args): \n",
    "    \"Do a map, and make the results into a tuple.\"\n",
    "    return tuple(map(fn, *args))\n",
    "\n",
    "def map2d(fn, grid):\n",
    "    \"Apply fn to every element in a 2-dimensional grid.\"\n",
    "    return tuple(mapt(fn, row) for row in grid)\n",
    "\n",
    "def flatmap(fn, *args):\n",
    "    \"Do a map and a one-level flatten\"\n",
    "    return tuple(chain.from_iterable(map(fn, *args)))\n",
    "\n",
    "def repeat(n, fn, arg, *args, **kwds):\n",
    "    \"Repeat arg = fn(arg) n times, return arg.\"\n",
    "    return nth(repeatedly(fn, arg, *args, **kwds), n)\n",
    "\n",
    "def repeatedly(fn, arg, *args, **kwds):\n",
    "    \"Yield arg, fn(arg), fn(fn(arg)), ...\"\n",
    "    yield arg\n",
    "    while True:\n",
    "        arg = fn(arg, *args, **kwds)\n",
    "        yield arg\n",
    "        \n",
    "def repeatedly1(fn, arg, *args, **kwds):\n",
    "    \"Yield fn(arg), fn(fn(arg)), ...\"\n",
    "    return tail(repeatedly(fn, arg, *args, **kwds))\n",
    "\n",
    "def compose(f, g): \n",
    "    \"The function that computes f(g(x)).\"\n",
    "    return lambda x: f(g(x))\n",
    "\n",
    "#### FILE INPUT AND PARSING\n",
    "\n",
    "def Input(day, line_parser=str.strip, test=False, file_template='data/2019/{}.txt'):\n",
    "    \"For this day's input file, return a tuple of each line parsed by `line_parser`.\"\n",
    "    return mapt(line_parser, open(file_template.format(\n",
    "        f'{day}test' if test else day\n",
    "    )))\n",
    "\n",
    "@t.curry\n",
    "def Tokens(line, sep=','):\n",
    "    \"Splits line into delimited tokens\"\n",
    "    return line.strip().split(sep)\n",
    "\n",
    "def integers(text): \n",
    "    \"A tuple of all integers in a string (ignore other characters).\"\n",
    "    return mapt(int, re.findall(r'-?\\d+', text))\n",
    "\n",
    "def digits(number):\n",
    "    \"Tuple of digits in number\"\n",
    "    return mapt(int, str(number))\n",
    "\n",
    "################ 2-D points implemented using (x, y) tuples\n",
    "\n",
    "def X(point): return point[0]\n",
    "def Y(point): return point[1]\n",
    "def Z(point): return point[2]\n",
    "\n",
    "origin = (0, 0)\n",
    "HEADINGS = UP, LEFT, DOWN, RIGHT = (0, -1), (-1, 0), (0, 1), (1, 0)\n",
    "\n",
    "def turn_right(heading): return HEADINGS[HEADINGS.index(heading) - 1]\n",
    "def turn_around(heading):return HEADINGS[HEADINGS.index(heading) - 2]\n",
    "def turn_left(heading):  return HEADINGS[HEADINGS.index(heading) - 3]\n",
    "\n",
    "def add(A, B): \n",
    "    \"Element-wise addition of two n-dimensional vectors.\"\n",
    "    return mapt(sum, zip(A, B))\n",
    "\n",
    "def sub(A, B): \n",
    "    \"Element-wise subtraction of two n-dimensional vectors.\"\n",
    "    return tuple(a - b for a, b in zip(A, B))\n",
    "\n",
    "def neighbors4(point): \n",
    "    \"The four neighboring squares.\"\n",
    "    x, y = point\n",
    "    return (          (x, y-1),\n",
    "            (x-1, y),           (x+1, y), \n",
    "                      (x, y+1))\n",
    "\n",
    "def neighbors8(point): \n",
    "    \"The eight neighboring squares.\"\n",
    "    x, y = point \n",
    "    return ((x-1, y-1), (x, y-1), (x+1, y-1),\n",
    "            (x-1, y),             (x+1, y),\n",
    "            (x-1, y+1), (x, y+1), (x+1, y+1))\n",
    "\n",
    "def cityblock_distance(P, Q=origin): \n",
    "    \"Manhatten distance between two points.\"\n",
    "    return sum(abs(p - q) for p, q in zip(P, Q))\n",
    "\n",
    "def distance(P, Q=origin): \n",
    "    \"Straight-line (hypotenuse) distance between two points.\"\n",
    "    return sum((p - q) ** 2 for p, q in zip(P, Q)) ** 0.5\n",
    "\n",
    "def king_distance(P, Q=origin):\n",
    "    \"Number of chess King moves between two points.\"\n",
    "    return max(abs(p - q) for p, q in zip(P, Q))\n",
    "\n",
    "################ Debugging \n",
    "\n",
    "def trace1(f):\n",
    "    \"Print a trace of the input and output of a function on one line.\"\n",
    "    def traced_f(*args):\n",
    "        result = f(*args)\n",
    "        print('{}({}) = {}'.format(f.__name__, ', '.join(map(str, args)), result))\n",
    "        return result\n",
    "    return traced_f\n",
    "\n",
    "def grep(pattern, iterable):\n",
    "    \"Print lines from iterable that match pattern.\"\n",
    "    for line in iterable:\n",
    "        if re.search(pattern, line):\n",
    "            print(line)\n",
    "            \n",
    "class Struct:\n",
    "    \"A structure that can have any fields defined.\"\n",
    "    def __init__(self, **entries): self.__dict__.update(entries)\n",
    "    def __repr__(self): \n",
    "        fields = ['{}={}'.format(f, self.__dict__[f]) \n",
    "                  for f in sorted(self.__dict__)]\n",
    "        return 'Struct({})'.format(', '.join(fields))\n",
    "\n",
    "################ A* and Breadth-First Search (tracking states, not actions)\n",
    "\n",
    "def always(value): return (lambda *args: value)\n",
    "\n",
    "def Astar(start, moves_func, h_func, cost_func=always(1)):\n",
    "    \"Find a shortest sequence of states from start to a goal state (where h_func(s) == 0).\"\n",
    "    frontier  = [(h_func(start), start)] # A priority queue, ordered by path length, f = g + h\n",
    "    previous  = {start: None}  # start state has no previous state; other states will\n",
    "    path_cost = {start: 0}     # The cost of the best path to a state.\n",
    "    Path      = lambda s: ([] if (s is None) else Path(previous[s]) + [s])\n",
    "    while frontier:\n",
    "        (f, s) = heappop(frontier)\n",
    "        if h_func(s) == 0:\n",
    "            return Path(s)\n",
    "        for s2 in moves_func(s):\n",
    "            g = path_cost[s] + cost_func(s, s2)\n",
    "            if s2 not in path_cost or g < path_cost[s2]:\n",
    "                heappush(frontier, (g + h_func(s2), s2))\n",
    "                path_cost[s2] = g\n",
    "                previous[s2] = s\n",
    "\n",
    "def bfs(start, moves_func, goals):\n",
    "    \"Breadth-first search\"\n",
    "    goal_func = (goals if callable(goals) else lambda s: s in goals)\n",
    "    return Astar(start, moves_func, lambda s: (0 if goal_func(s) else 1))"
   ]
  },
  {
   "cell_type": "markdown",
   "metadata": {},
   "source": [
    "Completed IntCode interpreter:"
   ]
  },
  {
   "cell_type": "code",
   "execution_count": 2,
   "metadata": {},
   "outputs": [],
   "source": [
    "ADD, MUL, INPUT, OUTPUT, JT, JF, LT, EQ, REL, STOP = (\n",
    "    1, 2, 3, 4, 5, 6, 7, 8, 9, 99)\n",
    "\n",
    "opcodes = {\n",
    "    1: 'ADD', 2: 'MUL', 3: 'INPUT', 4: 'OUTPUT',\n",
    "    5: 'JT', 6: 'JF', 7: 'LT', 8: 'EQ', 9: 'REL',\n",
    "    99: 'STOP',\n",
    "}\n",
    "\n",
    "arities = {\n",
    "    ADD: 3, MUL: 3, INPUT: 1, OUTPUT: 1,\n",
    "    JT: 2, JF: 2, LT: 3, EQ: 3, REL: 1,\n",
    "    STOP: 0\n",
    "}\n",
    "\n",
    "def Opcode(val):\n",
    "    code = val % 100\n",
    "    return (val % 100,\n",
    "            [val // 100 % 10, val // 1000 % 10, val // 10000 % 10])\n",
    "\n",
    "@dataclass\n",
    "class Comp:\n",
    "    prog: defaultdict\n",
    "    inputs: deque\n",
    "    outputs: deque\n",
    "    pc: int = 0\n",
    "    base: int = 0\n",
    "    waiting: bool = False\n",
    "    stopped: bool = False\n",
    "        \n",
    "    def __init__(self, prog, inputs=[], outputs=[]):\n",
    "        self.prog = defaultdict(int, dict(enumerate(prog)))\n",
    "        self.inputs = deque(inputs)\n",
    "        self.outputs = deque(outputs)\n",
    "    \n",
    "    def step(self):\n",
    "        prog, pc = self.prog, self.pc\n",
    "        inputs, outputs = self.inputs, self.outputs\n",
    "        \n",
    "        code, modes = Opcode(prog[pc])\n",
    "        arg1 = self.read(pc + 1, modes[0])\n",
    "        arg2 = self.read(pc + 2, modes[1])\n",
    "        if code == STOP: self.stopped = True\n",
    "        if code == ADD: self.write(arg1 + arg2, pc + 3, modes[2])\n",
    "        elif code == MUL: self.write(arg1 * arg2, pc + 3, modes[2])\n",
    "        elif code == INPUT:\n",
    "            if not inputs:\n",
    "                self.waiting = True\n",
    "                return\n",
    "            self.write(inputs.popleft(), pc + 1, modes[0])\n",
    "        elif code == OUTPUT: outputs.append(arg1)\n",
    "        elif code == JT and arg1 != 0:\n",
    "            self.pc = arg2\n",
    "            return\n",
    "        elif code == JF and arg1 == 0:\n",
    "            self.pc = arg2\n",
    "            return\n",
    "        elif code == LT: self.write(int(arg1 < arg2), pc + 3, modes[2])\n",
    "        elif code == EQ: self.write(int(arg1 == arg2), pc + 3, modes[2])\n",
    "        elif code == REL: self.base += arg1\n",
    "        self.pc += arities[code] + 1\n",
    "        \n",
    "    def read(self, loc, mode):\n",
    "        '''\n",
    "        Reads in loc from prog accounting for mode.\n",
    "        '''\n",
    "        arg = self.prog[loc]\n",
    "        return (self.prog[arg]             if mode == 0 else\n",
    "                arg                        if mode == 1 else\n",
    "                self.prog[self.base + arg] if mode == 2 else\n",
    "                None)\n",
    "    \n",
    "    def write(self, val, loc, mode):\n",
    "        '''\n",
    "        Writes argument to prog accounting for mode.\n",
    "        '''\n",
    "        arg = self.prog[loc]\n",
    "        if mode == 0:\n",
    "            self.prog[arg] = val\n",
    "        elif mode == 2:\n",
    "            self.prog[self.base + arg] = val\n",
    "        else:\n",
    "            raise ValueError('Bad mode in write')\n",
    "            \n",
    "    def input(self, val):\n",
    "        self.waiting = False\n",
    "        self.inputs.append(val)\n",
    "        return self\n",
    "    \n",
    "    def run(self):\n",
    "        while not self.waiting and not self.stopped:\n",
    "            self.step()\n",
    "        return self\n",
    "    \n",
    "    def output(self):\n",
    "        return self.outputs[-1]\n",
    "    \n",
    "    def out(self):\n",
    "        return list(self.outputs)"
   ]
  },
  {
   "cell_type": "code",
   "execution_count": 3,
   "metadata": {},
   "outputs": [],
   "source": [
    "def print_prog(prog):\n",
    "    'Simple disassembler for IntCode programs'\n",
    "    ins = deque(prog)\n",
    "    pc = 0\n",
    "    while ins:\n",
    "        code, modes = Opcode(ins.popleft())\n",
    "        arity = arities.get(code, 0)\n",
    "        args = [ins.popleft() for _ in range(arity)]\n",
    "        print(f'{pc:<3} {opcodes.get(code, code):>8}: {str(args):<20} {modes}')\n",
    "        pc += arity + 1\n",
    "# print_prog(prog)"
   ]
  },
  {
   "cell_type": "markdown",
   "metadata": {
    "slideshow": {
     "slide_type": "fragment"
    }
   },
   "source": [
    "## Day 1"
   ]
  },
  {
   "cell_type": "code",
   "execution_count": 172,
   "metadata": {
    "scrolled": true
   },
   "outputs": [
    {
     "data": {
      "text/plain": [
       "3167282"
      ]
     },
     "execution_count": 172,
     "metadata": {},
     "output_type": "execute_result"
    }
   ],
   "source": [
    "masses = Input(1, line_parser=int)\n",
    "sum(m // 3 - 2 for m in masses)"
   ]
  },
  {
   "cell_type": "code",
   "execution_count": 175,
   "metadata": {},
   "outputs": [
    {
     "data": {
      "text/plain": [
       "4748063"
      ]
     },
     "execution_count": 175,
     "metadata": {},
     "output_type": "execute_result"
    }
   ],
   "source": [
    "def to_fuel(n):\n",
    "    return n // 3 - 2\n",
    "\n",
    "def total_fuel(mass):\n",
    "    return sum(takewhile(lambda n: n > 0,\n",
    "                         repeatedly1(to_fuel, mass)))\n",
    "\n",
    "sum(map(total_fuel, masses))"
   ]
  },
  {
   "cell_type": "markdown",
   "metadata": {},
   "source": [
    "## Day 2"
   ]
  },
  {
   "cell_type": "code",
   "execution_count": 254,
   "metadata": {},
   "outputs": [
    {
     "data": {
      "text/plain": [
       "145"
      ]
     },
     "execution_count": 254,
     "metadata": {},
     "output_type": "execute_result"
    }
   ],
   "source": [
    "orig = list(Input(2, line_parser=integers)[0])\n",
    "# prog = [1,9,10,3,2,3,11,0,99,30,40,50]\n",
    "prog = list(orig)\n",
    "prog[1] = 12\n",
    "prog[2] = 2\n",
    "len(prog)"
   ]
  },
  {
   "cell_type": "code",
   "execution_count": 255,
   "metadata": {},
   "outputs": [
    {
     "data": {
      "text/plain": [
       "-1"
      ]
     },
     "execution_count": 255,
     "metadata": {},
     "output_type": "execute_result"
    }
   ],
   "source": [
    "def process(pos, prog=prog):\n",
    "    opcode, reg1, reg2, out = prog[pos:pos+4]\n",
    "    if opcode == 99:\n",
    "        return -1\n",
    "    if opcode == 1:\n",
    "        prog[out] = prog[reg1] + prog[reg2]\n",
    "    if opcode == 2:\n",
    "        prog[out] = prog[reg1] * prog[reg2]\n",
    "    return pos + 4\n",
    "first_true(repeatedly(process, 0), pred=lambda x: x is -1)"
   ]
  },
  {
   "cell_type": "code",
   "execution_count": 256,
   "metadata": {},
   "outputs": [
    {
     "data": {
      "text/plain": [
       "8017076"
      ]
     },
     "execution_count": 256,
     "metadata": {},
     "output_type": "execute_result"
    }
   ],
   "source": [
    "prog[0]"
   ]
  },
  {
   "cell_type": "code",
   "execution_count": 257,
   "metadata": {},
   "outputs": [
    {
     "data": {
      "text/plain": [
       "(31, 46)"
      ]
     },
     "execution_count": 257,
     "metadata": {},
     "output_type": "execute_result"
    }
   ],
   "source": [
    "def trial(noun, verb, prog=prog):\n",
    "    prog = list(prog)\n",
    "    prog[1] = noun\n",
    "    prog[2] = verb\n",
    "    pos = 0\n",
    "    while pos != -1:\n",
    "        pos = process(pos, prog)\n",
    "    return prog[0]\n",
    "\n",
    "goal = 19690720\n",
    "first((noun, verb)\n",
    "      for noun in range(100)\n",
    "      for verb in range(100)\n",
    "      if trial(noun, verb, orig) == goal)"
   ]
  },
  {
   "cell_type": "markdown",
   "metadata": {},
   "source": [
    "## Day 3"
   ]
  },
  {
   "cell_type": "code",
   "execution_count": 258,
   "metadata": {},
   "outputs": [
    {
     "data": {
      "text/plain": [
       "[('R', 1000), ('D', 940), ('L', 143), ('D', 182), ('L', 877)]"
      ]
     },
     "execution_count": 258,
     "metadata": {},
     "output_type": "execute_result"
    }
   ],
   "source": [
    "def Path(line):\n",
    "    return [(token[0], int(token[1:])) for token in Tokens(line)]\n",
    "\n",
    "path1, path2 = Input(3, line_parser=Path)\n",
    "# path1 = Path('R8,U5,L5,D3')\n",
    "# path2 = Path('U7,R6,D4,L4')\n",
    "path1[:5]"
   ]
  },
  {
   "cell_type": "code",
   "execution_count": 259,
   "metadata": {},
   "outputs": [
    {
     "data": {
      "text/plain": [
       "((1, 0), (2, 0), (3, 0), (4, 0), (5, 0), (6, 0), (7, 0), (8, 0))"
      ]
     },
     "execution_count": 259,
     "metadata": {},
     "output_type": "execute_result"
    }
   ],
   "source": [
    "def along(section, start=origin):\n",
    "    direction, length = section\n",
    "    heading = HEADINGS['ULDR'.index(direction)]\n",
    "    return head(repeatedly1(add, start, heading), n=length)\n",
    "\n",
    "def step(walk, section):\n",
    "    start = walk[-1] if walk else origin\n",
    "    return (*walk, *along(section, start))\n",
    "\n",
    "step([], ('R', 8))"
   ]
  },
  {
   "cell_type": "code",
   "execution_count": 260,
   "metadata": {},
   "outputs": [
    {
     "data": {
      "text/plain": [
       "865"
      ]
     },
     "execution_count": 260,
     "metadata": {},
     "output_type": "execute_result"
    }
   ],
   "source": [
    "walk1 = reduce(step, path1, [])\n",
    "walk2 = reduce(step, path2, [])\n",
    "intersections = set(walk1) & set(walk2)\n",
    "min(mapt(cityblock_distance, intersections))"
   ]
  },
  {
   "cell_type": "code",
   "execution_count": 261,
   "metadata": {},
   "outputs": [
    {
     "data": {
      "text/plain": [
       "35038"
      ]
     },
     "execution_count": 261,
     "metadata": {},
     "output_type": "execute_result"
    }
   ],
   "source": [
    "def wire_distance(intersection):\n",
    "    # Add 2 since we need to account for the origin for two paths\n",
    "    return walk1.index(intersection) + walk2.index(intersection) + 2\n",
    "\n",
    "min(mapt(wire_distance, intersections))"
   ]
  },
  {
   "cell_type": "markdown",
   "metadata": {},
   "source": [
    "## Day 4"
   ]
  },
  {
   "cell_type": "code",
   "execution_count": 262,
   "metadata": {},
   "outputs": [
    {
     "data": {
      "text/plain": [
       "range(284639, 748759)"
      ]
     },
     "execution_count": 262,
     "metadata": {},
     "output_type": "execute_result"
    }
   ],
   "source": [
    "my_input = '284639-748759'\n",
    "my_range = range(*mapt(int, Tokens('284639-748759', sep='-')))\n",
    "my_range"
   ]
  },
  {
   "cell_type": "code",
   "execution_count": 263,
   "metadata": {},
   "outputs": [
    {
     "data": {
      "text/plain": [
       "895"
      ]
     },
     "execution_count": 263,
     "metadata": {},
     "output_type": "execute_result"
    }
   ],
   "source": [
    "def has_repeat(digs):\n",
    "    return any(i == j for i, j in pairwise(digs))\n",
    "\n",
    "def is_monotonic(digs):\n",
    "    return all(i <= j for i, j in pairwise(digs))\n",
    "\n",
    "def is_password(number):\n",
    "    digs = digits(number)\n",
    "    return is_monotonic(digs) and has_repeat(digs)\n",
    "\n",
    "quantify(my_range, is_password)"
   ]
  },
  {
   "cell_type": "markdown",
   "metadata": {},
   "source": [
    "The monotonic condition ensures that all unique digit values appear together."
   ]
  },
  {
   "cell_type": "code",
   "execution_count": 264,
   "metadata": {},
   "outputs": [
    {
     "data": {
      "text/plain": [
       "591"
      ]
     },
     "execution_count": 264,
     "metadata": {},
     "output_type": "execute_result"
    }
   ],
   "source": [
    "def has_single_repeat(digs):\n",
    "    return any(count == 2 for count in Counter(digs).values())\n",
    "\n",
    "def is_paironly_password(number):\n",
    "    digs = digits(number)\n",
    "    return is_monotonic(digs) and has_single_repeat(digs)\n",
    "\n",
    "quantify(my_range, is_paironly_password)"
   ]
  },
  {
   "cell_type": "markdown",
   "metadata": {},
   "source": [
    "## Day 5"
   ]
  },
  {
   "cell_type": "code",
   "execution_count": 265,
   "metadata": {},
   "outputs": [
    {
     "data": {
      "text/plain": [
       "(3, 225, 1, 225, 6)"
      ]
     },
     "execution_count": 265,
     "metadata": {},
     "output_type": "execute_result"
    }
   ],
   "source": [
    "prog, = Input(5, line_parser=integers)\n",
    "prog[:5]"
   ]
  },
  {
   "cell_type": "code",
   "execution_count": 266,
   "metadata": {},
   "outputs": [
    {
     "data": {
      "text/plain": [
       "(3, [0, 1, 0])"
      ]
     },
     "execution_count": 266,
     "metadata": {},
     "output_type": "execute_result"
    }
   ],
   "source": [
    "ADD, MUL, INPUT, OUTPUT, JT, JF, LT, EQ, STOP = (\n",
    "    1, 2, 3, 4, 5, 6, 7, 8, 99)\n",
    "\n",
    "arities = {\n",
    "    ADD: 3, MUL: 3, INPUT: 1, OUTPUT: 1,\n",
    "    JT: 2, JF: 2, LT: 3, EQ: 3,\n",
    "    STOP: 0\n",
    "}\n",
    "\n",
    "def Opcode(val):\n",
    "    code = val % 100\n",
    "    return (val % 100,\n",
    "            [val // 100 % 10, val // 1000 % 10, val // 10000 % 10])\n",
    "Opcode(1003)"
   ]
  },
  {
   "cell_type": "code",
   "execution_count": 267,
   "metadata": {},
   "outputs": [],
   "source": [
    "def read_arg(prog, pc, mode):\n",
    "    '''\n",
    "    Reads in argument from prog accounting for mode. Returns None if arg isn't\n",
    "    readable (e.g. program ends)\n",
    "    '''\n",
    "    arg = prog[pc] if 0 <= pc < len(prog) else None\n",
    "    return (arg       if arg is None or mode == 1 else\n",
    "            prog[arg] if 0 <= arg < len(prog) else\n",
    "            None)\n",
    "\n",
    "read_arg([1002, 4,3,4,33], 0, 0)"
   ]
  },
  {
   "cell_type": "code",
   "execution_count": 268,
   "metadata": {},
   "outputs": [
    {
     "data": {
      "text/plain": [
       "1"
      ]
     },
     "execution_count": 268,
     "metadata": {},
     "output_type": "execute_result"
    }
   ],
   "source": [
    "def run(prog, inputs):\n",
    "    prog, inputs = list(prog), iter(inputs)\n",
    "    outputs = []\n",
    "    pc = 0\n",
    "    while True:\n",
    "        code, modes = Opcode(prog[pc])\n",
    "        arg1 = read_arg(prog, pc + 1, modes[0])\n",
    "        arg2 = read_arg(prog, pc + 2, modes[1])\n",
    "#         print(f'{prog[pc:pc+len(modes) + 1]}')\n",
    "        if code == STOP:\n",
    "            return outputs[-1]\n",
    "        if code == ADD:\n",
    "            out = prog[pc + 3]\n",
    "            prog[out] = arg1 + arg2\n",
    "        elif code == MUL:\n",
    "            out = prog[pc + 3]\n",
    "            prog[out] = arg1 * arg2\n",
    "        elif code == INPUT:\n",
    "            out = prog[pc + 1]\n",
    "            prog[out] = next(inputs)\n",
    "        elif code == OUTPUT:\n",
    "            val = read_arg(prog, pc + 1, modes[0])\n",
    "            outputs.append(val)\n",
    "        elif code == JT:\n",
    "            if arg1 != 0:\n",
    "                pc = arg2\n",
    "                continue\n",
    "        elif code == JF:\n",
    "            if arg1 == 0:\n",
    "                pc = arg2\n",
    "                continue\n",
    "        elif code == LT:\n",
    "            out = prog[pc + 3]\n",
    "            prog[out] = int(arg1 < arg2)\n",
    "        elif code == EQ:\n",
    "            out = prog[pc + 3]\n",
    "            prog[out] = int(arg1 == arg2)\n",
    "        else:\n",
    "            raise ValueError(f'Bad opcode at pc: {pc}')\n",
    "        pc += arities[code] + 1\n",
    "run([3,9,7,9,10,9,4,9,99,-1,8], [6])"
   ]
  },
  {
   "cell_type": "code",
   "execution_count": 269,
   "metadata": {},
   "outputs": [],
   "source": [
    "assert run([3,0,4,0,99], [10]) == 10\n",
    "assert run([3,0,4,0,99], [10]) == 10\n",
    "assert run([3,9,8,9,10,9,4,9,99,-1,8], [10]) == 0\n",
    "assert run([3,9,8,9,10,9,4,9,99,-1,8], [8]) == 1\n",
    "assert run([3,9,7,9,10,9,4,9,99,-1,8], [6]) == 1\n",
    "assert run([3,9,7,9,10,9,4,9,99,-1,8], [8]) == 0\n",
    "assert run([3,3,1108,-1,8,3,4,3,99], [8]) == 1\n",
    "assert run([3,3,1107,-1,8,3,4,3,99], [8]) == 0\n",
    "assert run(prog, [1]) == 14522484\n",
    "assert run(prog, [5]) == 4655956"
   ]
  },
  {
   "cell_type": "code",
   "execution_count": 270,
   "metadata": {},
   "outputs": [
    {
     "data": {
      "text/plain": [
       "14522484"
      ]
     },
     "execution_count": 270,
     "metadata": {},
     "output_type": "execute_result"
    }
   ],
   "source": [
    "run(prog, [1])"
   ]
  },
  {
   "cell_type": "code",
   "execution_count": 271,
   "metadata": {},
   "outputs": [
    {
     "data": {
      "text/plain": [
       "4655956"
      ]
     },
     "execution_count": 271,
     "metadata": {},
     "output_type": "execute_result"
    }
   ],
   "source": [
    "run(prog, [5])"
   ]
  },
  {
   "cell_type": "markdown",
   "metadata": {},
   "source": [
    "## Day 6"
   ]
  },
  {
   "cell_type": "code",
   "execution_count": 272,
   "metadata": {},
   "outputs": [
    {
     "data": {
      "text/plain": [
       "(['TT5', 'Y6Q'], ['ZBC', 'Z2R'], ['8MQ', '51V'])"
      ]
     },
     "execution_count": 272,
     "metadata": {},
     "output_type": "execute_result"
    }
   ],
   "source": [
    "edges = Input(6, line_parser=Tokens(sep=')'))\n",
    "edges[:3]"
   ]
  },
  {
   "cell_type": "code",
   "execution_count": 273,
   "metadata": {},
   "outputs": [],
   "source": [
    "def add_edge(tree, edge):\n",
    "    parent, child = edge\n",
    "    tree[parent].append(child)\n",
    "    return tree\n",
    "\n",
    "def Tree(edges):\n",
    "    return reduce(add_edge, edges, defaultdict(list))"
   ]
  },
  {
   "cell_type": "code",
   "execution_count": 274,
   "metadata": {},
   "outputs": [
    {
     "data": {
      "text/plain": [
       "268504"
      ]
     },
     "execution_count": 274,
     "metadata": {},
     "output_type": "execute_result"
    }
   ],
   "source": [
    "def sum_depths(tree, node='COM', depth=0):\n",
    "    children = tree[node]\n",
    "    if not children:\n",
    "        return depth\n",
    "    return (depth\n",
    "            + sum(sum_depths(tree, child, depth + 1) for child in children))\n",
    "sum_depths(Tree(edges))"
   ]
  },
  {
   "cell_type": "markdown",
   "metadata": {},
   "source": [
    "The tree distance from A to B is the sum of their distances to their closest common ancestor."
   ]
  },
  {
   "cell_type": "code",
   "execution_count": 275,
   "metadata": {},
   "outputs": [
    {
     "data": {
      "text/plain": [
       "409"
      ]
     },
     "execution_count": 275,
     "metadata": {},
     "output_type": "execute_result"
    }
   ],
   "source": [
    "tree = Tree(edges)\n",
    "me = bfs('COM', lambda n: tree[n], ['YOU'])\n",
    "san = bfs('COM', lambda n: tree[n], ['SAN'])\n",
    "\n",
    "# ^ is a set xor; removes common ancestors\n",
    "# subtract two since we don't need to transfer from the search nodes\n",
    "len(set(me) ^ set(san)) - 2"
   ]
  },
  {
   "cell_type": "markdown",
   "metadata": {},
   "source": [
    "## Day 7"
   ]
  },
  {
   "cell_type": "code",
   "execution_count": 276,
   "metadata": {},
   "outputs": [
    {
     "data": {
      "text/plain": [
       "(3, 8, 1001, 8, 10)"
      ]
     },
     "execution_count": 276,
     "metadata": {},
     "output_type": "execute_result"
    }
   ],
   "source": [
    "prog, = Input(7, line_parser=integers)\n",
    "prog[:5]"
   ]
  },
  {
   "cell_type": "code",
   "execution_count": 277,
   "metadata": {},
   "outputs": [
    {
     "data": {
      "text/plain": [
       "67023"
      ]
     },
     "execution_count": 277,
     "metadata": {},
     "output_type": "execute_result"
    }
   ],
   "source": [
    "def amplify(last_output, phase):\n",
    "    return run(prog, [phase, last_output])\n",
    "\n",
    "def thrust(phases):\n",
    "    return reduce(amplify, phases, 0)\n",
    "\n",
    "phases = max(permutations(range(5), 5), key=thrust)\n",
    "thrust(phases)"
   ]
  },
  {
   "cell_type": "markdown",
   "metadata": {},
   "source": [
    "Part 2 requires partial execution of programs which makes life complicated. I decide to create a Comp class holds program, pc, inputs, and outputs."
   ]
  },
  {
   "cell_type": "code",
   "execution_count": 203,
   "metadata": {},
   "outputs": [],
   "source": [
    "@dataclass\n",
    "class Comp:\n",
    "    prog: list\n",
    "    pc: int\n",
    "    inputs: deque\n",
    "    outputs: deque\n",
    "    waiting: bool\n",
    "    stopped: bool\n",
    "        \n",
    "    def __init__(self, prog, pc, inputs, outputs=[]):\n",
    "        self.prog = list(prog)\n",
    "        self.pc = pc\n",
    "        self.inputs = deque(inputs)\n",
    "        self.outputs = deque(outputs)\n",
    "        self.waiting = False\n",
    "        self.stopped = False\n",
    "    \n",
    "    def step(self):\n",
    "        prog, pc = self.prog, self.pc\n",
    "        inputs, outputs = self.inputs, self.outputs\n",
    "        \n",
    "        code, modes = Opcode(prog[pc])\n",
    "        arg1 = read_arg(prog, pc + 1, modes[0])\n",
    "        arg2 = read_arg(prog, pc + 2, modes[1])\n",
    "        if code == STOP:\n",
    "            self.stopped = True\n",
    "        if code == ADD:\n",
    "            out = prog[pc + 3]\n",
    "            prog[out] = arg1 + arg2\n",
    "        elif code == MUL:\n",
    "            out = prog[pc + 3]\n",
    "            prog[out] = arg1 * arg2\n",
    "        elif code == INPUT:\n",
    "            if not inputs:\n",
    "                self.waiting = True\n",
    "                return\n",
    "            out = prog[pc + 1]\n",
    "            prog[out] = inputs.popleft()\n",
    "        elif code == OUTPUT:\n",
    "            val = read_arg(prog, pc + 1, modes[0])\n",
    "            outputs.append(val)\n",
    "        elif code == JT and arg1 != 0:\n",
    "            self.pc = arg2\n",
    "            return\n",
    "        elif code == JF and arg1 == 0:\n",
    "            self.pc = arg2\n",
    "            return\n",
    "        elif code == LT:\n",
    "            out = prog[pc + 3]\n",
    "            prog[out] = int(arg1 < arg2)\n",
    "        elif code == EQ:\n",
    "            out = prog[pc + 3]\n",
    "            prog[out] = int(arg1 == arg2)\n",
    "        self.pc += arities[code] + 1\n",
    "    \n",
    "    def check_waiting(self):\n",
    "        if self.inputs:\n",
    "            self.waiting = False"
   ]
  },
  {
   "cell_type": "code",
   "execution_count": 379,
   "metadata": {},
   "outputs": [
    {
     "data": {
      "text/plain": [
       "1219070632396864"
      ]
     },
     "execution_count": 379,
     "metadata": {},
     "output_type": "execute_result"
    }
   ],
   "source": [
    "def System(phases):\n",
    "    system = deque([Comp(prog, 0, [phase]) for phase in phases])\n",
    "    system[0].inputs.append(0)\n",
    "    return system\n",
    "\n",
    "def finished(system):\n",
    "    return all(comp.stopped for comp in system)\n",
    "\n",
    "def output(comp):\n",
    "    return comp.outputs[-1]\n",
    "\n",
    "def thrust(system):\n",
    "    return output(system[0])\n",
    "\n",
    "def run_one_output(system):\n",
    "    comp = system[0]\n",
    "    comp.check_waiting()\n",
    "    while not (comp.stopped or comp.waiting):\n",
    "        comp.step()\n",
    "    if not finished(system):\n",
    "        system.rotate(-1)\n",
    "        system[0].inputs.append(comp.outputs[-1])\n",
    "    return system\n",
    "\n",
    "def thrust_with_feedback(phase):\n",
    "    system = first_true(repeatedly(run_one_output, System(phase)), finished)\n",
    "    return thrust(system)\n",
    "\n",
    "thrust_with_feedback([9, 8, 7, 6, 5])"
   ]
  },
  {
   "cell_type": "code",
   "execution_count": 280,
   "metadata": {},
   "outputs": [
    {
     "data": {
      "text/plain": [
       "7818398"
      ]
     },
     "execution_count": 280,
     "metadata": {},
     "output_type": "execute_result"
    }
   ],
   "source": [
    "phase = max(permutations(range(5, 10), 5), key=thrust_with_feedback)\n",
    "thrust_with_feedback(phase)"
   ]
  },
  {
   "cell_type": "markdown",
   "metadata": {},
   "source": [
    "## Day 8"
   ]
  },
  {
   "cell_type": "code",
   "execution_count": 307,
   "metadata": {},
   "outputs": [
    {
     "data": {
      "text/plain": [
       "15000"
      ]
     },
     "execution_count": 307,
     "metadata": {},
     "output_type": "execute_result"
    }
   ],
   "source": [
    "pixels, = Input(8, line_parser=compose(digits, str.strip))\n",
    "len(pixels)"
   ]
  },
  {
   "cell_type": "code",
   "execution_count": 309,
   "metadata": {},
   "outputs": [
    {
     "data": {
      "text/plain": [
       "(100, 6, 25)"
      ]
     },
     "execution_count": 309,
     "metadata": {},
     "output_type": "execute_result"
    }
   ],
   "source": [
    "import numpy as np\n",
    "\n",
    "def Image(pixels, width, height):\n",
    "    return np.array(pixels).reshape((-1, height, width))\n",
    "\n",
    "im = Image(pixels, 25, 6)\n",
    "im.shape"
   ]
  },
  {
   "cell_type": "code",
   "execution_count": 313,
   "metadata": {},
   "outputs": [
    {
     "data": {
      "text/plain": [
       "14"
      ]
     },
     "execution_count": 313,
     "metadata": {},
     "output_type": "execute_result"
    }
   ],
   "source": [
    "def count(layer, val):\n",
    "    return np.sum(layer == val)\n",
    "\n",
    "layer = np.argmin(mapt(count, im, cycle([0])))\n",
    "count(im[layer], 1) * count(im[layer], 2)"
   ]
  },
  {
   "cell_type": "code",
   "execution_count": 327,
   "metadata": {},
   "outputs": [
    {
     "name": "stdout",
     "output_type": "stream",
     "text": [
      "O      OO OOOO  OO  O  O \n",
      "O       O O    O  O O  O \n",
      "O       O OOO  O    OOOO \n",
      "O       O O    O    O  O \n",
      "O    O  O O    O  O O  O \n",
      "OOOO  OO  OOOO  OO  O  O \n"
     ]
    }
   ],
   "source": [
    "def stack(above, below):\n",
    "    return np.where(above == 2, below, above)\n",
    "\n",
    "def print_layer(layer):\n",
    "    for row in layer:\n",
    "        print(cat('O' if val == 1 else ' ' for val in row))\n",
    "\n",
    "print_layer(reduce(stack, im))"
   ]
  },
  {
   "cell_type": "markdown",
   "metadata": {},
   "source": [
    "## Day 9"
   ]
  },
  {
   "cell_type": "code",
   "execution_count": 65,
   "metadata": {},
   "outputs": [
    {
     "data": {
      "text/plain": [
       "(1102, 34463338, 34463338, 63, 1007)"
      ]
     },
     "execution_count": 65,
     "metadata": {},
     "output_type": "execute_result"
    }
   ],
   "source": [
    "prog, = Input(9, line_parser=integers)\n",
    "prog[:5]"
   ]
  },
  {
   "cell_type": "code",
   "execution_count": 66,
   "metadata": {},
   "outputs": [
    {
     "data": {
      "text/plain": [
       "(3, [0, 1, 0])"
      ]
     },
     "execution_count": 66,
     "metadata": {},
     "output_type": "execute_result"
    }
   ],
   "source": [
    "ADD, MUL, INPUT, OUTPUT, JT, JF, LT, EQ, REL, STOP = (\n",
    "    1, 2, 3, 4, 5, 6, 7, 8, 9, 99)\n",
    "\n",
    "opcodes = {\n",
    "    1: 'ADD', 2: 'MUL', 3: 'INPUT', 4: 'OUTPUT',\n",
    "    5: 'JT', 6: 'JF', 7: 'LT', 8: 'EQ', 9: 'REL',\n",
    "    99: 'STOP',\n",
    "}\n",
    "\n",
    "arities = {\n",
    "    ADD: 3, MUL: 3, INPUT: 1, OUTPUT: 1,\n",
    "    JT: 2, JF: 2, LT: 3, EQ: 3, REL: 1,\n",
    "    STOP: 0\n",
    "}\n",
    "\n",
    "def Opcode(val):\n",
    "    code = val % 100\n",
    "    return (val % 100,\n",
    "            [val // 100 % 10, val // 1000 % 10, val // 10000 % 10])\n",
    "Opcode(1003)"
   ]
  },
  {
   "cell_type": "code",
   "execution_count": 208,
   "metadata": {},
   "outputs": [],
   "source": [
    "@dataclass\n",
    "class Comp:\n",
    "    prog: defaultdict\n",
    "    inputs: deque\n",
    "    outputs: deque\n",
    "    pc: int = 0\n",
    "    base: int = 0\n",
    "    waiting: bool = False\n",
    "    stopped: bool = False\n",
    "        \n",
    "    def __init__(self, prog, inputs, outputs=[]):\n",
    "        self.prog = defaultdict(int, dict(enumerate(prog)))\n",
    "        self.inputs = deque(inputs)\n",
    "        self.outputs = deque(outputs)\n",
    "    \n",
    "    def step(self):\n",
    "        prog, pc = self.prog, self.pc\n",
    "        inputs, outputs = self.inputs, self.outputs\n",
    "        \n",
    "        code, modes = Opcode(prog[pc])\n",
    "        arg1 = self.read(pc + 1, modes[0])\n",
    "        arg2 = self.read(pc + 2, modes[1])\n",
    "        if code == STOP: self.stopped = True\n",
    "        if code == ADD: self.write(arg1 + arg2, pc + 3, modes[2])\n",
    "        elif code == MUL: self.write(arg1 * arg2, pc + 3, modes[2])\n",
    "        elif code == INPUT:\n",
    "            if not inputs:\n",
    "                self.waiting = True\n",
    "                return\n",
    "            self.write(inputs.popleft(), pc + 1, modes[0])\n",
    "        elif code == OUTPUT: outputs.append(arg1)\n",
    "        elif code == JT and arg1 != 0:\n",
    "            self.pc = arg2\n",
    "            return\n",
    "        elif code == JF and arg1 == 0:\n",
    "            self.pc = arg2\n",
    "            return\n",
    "        elif code == LT: self.write(int(arg1 < arg2), pc + 3, modes[2])\n",
    "        elif code == EQ: self.write(int(arg1 == arg2), pc + 3, modes[2])\n",
    "        elif code == REL: self.base += arg1\n",
    "        self.pc += arities[code] + 1\n",
    "        \n",
    "    def read(self, loc, mode):\n",
    "        '''\n",
    "        Reads in loc from prog accounting for mode.\n",
    "        '''\n",
    "        arg = self.prog[loc]\n",
    "        return (self.prog[arg]             if mode == 0 else\n",
    "                arg                        if mode == 1 else\n",
    "                self.prog[self.base + arg] if mode == 2 else\n",
    "                None)\n",
    "    \n",
    "    def write(self, val, loc, mode):\n",
    "        '''\n",
    "        Writes argument to prog accounting for mode.\n",
    "        '''\n",
    "        arg = self.prog[loc]\n",
    "        if mode == 0:\n",
    "            self.prog[arg] = val\n",
    "        elif mode == 2:\n",
    "            self.prog[self.base + arg] = val\n",
    "        else:\n",
    "            raise ValueError('Bad mode in write')\n",
    "            \n",
    "    def input(self, val):\n",
    "        self.waiting = False\n",
    "        self.inputs.append(val)\n",
    "    \n",
    "    def run(self):\n",
    "        while not self.waiting and not self.stopped:\n",
    "            self.step()\n",
    "        return self\n",
    "    \n",
    "    def output(self):\n",
    "        return self.outputs[-1]\n",
    "    \n",
    "    def out(self):\n",
    "        return list(self.outputs)"
   ]
  },
  {
   "cell_type": "code",
   "execution_count": 68,
   "metadata": {},
   "outputs": [],
   "source": [
    "quine = [109,1,204,-1,1001,100,1,100,1008,100,16,101,1006,101,0,99]\n",
    "c = Comp(quine, []).run()\n",
    "assert list(c.outputs) == quine\n",
    "\n",
    "tests = [\n",
    "    ([109, -1, 4, 1, 99], -1),\n",
    "    ([109, -1, 104, 1, 99], 1),\n",
    "    ([109, -1, 204, 1, 99], 109),\n",
    "    ([109, 1, 9, 2, 204, -6, 99], 204),\n",
    "    ([109, 1, 109, 9, 204, -6, 99], 204),\n",
    "    ([109, 1, 209, -1, 204, -106, 99], 204),\n",
    "]\n",
    "for test, out in tests:\n",
    "    assert Comp(test, []).run().output() == out"
   ]
  },
  {
   "cell_type": "code",
   "execution_count": 70,
   "metadata": {},
   "outputs": [
    {
     "data": {
      "text/plain": [
       "3765554916"
      ]
     },
     "execution_count": 70,
     "metadata": {},
     "output_type": "execute_result"
    }
   ],
   "source": [
    "comp = Comp(prog, [1]).run()\n",
    "comp.output()"
   ]
  },
  {
   "cell_type": "code",
   "execution_count": 71,
   "metadata": {},
   "outputs": [
    {
     "data": {
      "text/plain": [
       "76642"
      ]
     },
     "execution_count": 71,
     "metadata": {},
     "output_type": "execute_result"
    }
   ],
   "source": [
    "comp = Comp(prog, [2]).run()\n",
    "comp.output()"
   ]
  },
  {
   "cell_type": "markdown",
   "metadata": {},
   "source": [
    "## Day 10"
   ]
  },
  {
   "cell_type": "code",
   "execution_count": 105,
   "metadata": {},
   "outputs": [
    {
     "data": {
      "text/plain": [
       "398"
      ]
     },
     "execution_count": 105,
     "metadata": {},
     "output_type": "execute_result"
    }
   ],
   "source": [
    "space = Input(10, test=False)\n",
    "oids = {(x, y)\n",
    "        for y, row in enumerate(space)\n",
    "        for x, val in enumerate(row)\n",
    "        if val != '.'}\n",
    "len(oids)"
   ]
  },
  {
   "cell_type": "code",
   "execution_count": 106,
   "metadata": {},
   "outputs": [
    {
     "data": {
      "text/plain": [
       "(1, 1)"
      ]
     },
     "execution_count": 106,
     "metadata": {},
     "output_type": "execute_result"
    }
   ],
   "source": [
    "from math import gcd\n",
    "\n",
    "@t.curry\n",
    "def Ray(orig, to):\n",
    "    dx = X(to) - X(orig)\n",
    "    dy = Y(to) - Y(orig)\n",
    "    return (dx // gcd(dx, dy), dy // gcd(dx, dy))\n",
    "\n",
    "Ray((2, 3), (3, 4))"
   ]
  },
  {
   "cell_type": "code",
   "execution_count": 107,
   "metadata": {},
   "outputs": [],
   "source": [
    "colinears = { oid: t.groupby(Ray(oid), oids - {oid}) for oid in oids }"
   ]
  },
  {
   "cell_type": "code",
   "execution_count": 108,
   "metadata": {},
   "outputs": [
    {
     "data": {
      "text/plain": [
       "(30, 34)"
      ]
     },
     "execution_count": 108,
     "metadata": {},
     "output_type": "execute_result"
    }
   ],
   "source": [
    "def detects(oid):\n",
    "    return len(colinears[oid])\n",
    "\n",
    "station = max(oids, key=detects)\n",
    "station"
   ]
  },
  {
   "cell_type": "code",
   "execution_count": 109,
   "metadata": {},
   "outputs": [
    {
     "data": {
      "text/plain": [
       "344"
      ]
     },
     "execution_count": 109,
     "metadata": {},
     "output_type": "execute_result"
    }
   ],
   "source": [
    "detects(station)"
   ]
  },
  {
   "cell_type": "code",
   "execution_count": 110,
   "metadata": {},
   "outputs": [],
   "source": [
    "def angle_from_up(vec):\n",
    "    '''Returns number in [-2, 2] monotonically increasing as the angle from\n",
    "    (0, -1) increases. https://stackoverflow.com/a/16561333'''\n",
    "    dx, dy = vec\n",
    "    p = dy / (abs(dx) + abs(dy))\n",
    "    return p - 1 if dx >= 0 else 1 - p\n",
    "\n",
    "def station_dis(oid):\n",
    "    return cityblock_distance(station, oid)\n",
    "\n",
    "assert (sorted([LEFT, DOWN, UP, RIGHT], key=angle_from_up) ==\n",
    "        [UP, RIGHT, DOWN, LEFT])"
   ]
  },
  {
   "cell_type": "code",
   "execution_count": 122,
   "metadata": {},
   "outputs": [
    {
     "data": {
      "text/plain": [
       "2732"
      ]
     },
     "execution_count": 122,
     "metadata": {},
     "output_type": "execute_result"
    }
   ],
   "source": [
    "sees = colinears[station]\n",
    "angles = sorted(sees.keys(), key=angle_from_up)\n",
    "vaporizing = [sorted(sees[angle], key=station_dis) for angle in angles]\n",
    "bet = nth(t.interleave(vaporizing), 200 - 1)\n",
    "X(bet) * 100 + Y(bet)"
   ]
  },
  {
   "cell_type": "markdown",
   "metadata": {},
   "source": [
    "## Day 11"
   ]
  },
  {
   "cell_type": "code",
   "execution_count": 101,
   "metadata": {},
   "outputs": [
    {
     "data": {
      "text/plain": [
       "(3, 8, 1005, 8, 335)"
      ]
     },
     "execution_count": 101,
     "metadata": {},
     "output_type": "execute_result"
    }
   ],
   "source": [
    "prog, = Input(11, line_parser=integers)\n",
    "prog[:5]"
   ]
  },
  {
   "cell_type": "code",
   "execution_count": 102,
   "metadata": {},
   "outputs": [],
   "source": [
    "from dataclasses import field\n",
    "\n",
    "BLACK, WHITE = 0, 1\n",
    "\n",
    "@dataclass\n",
    "class Painter:\n",
    "    comp: Comp\n",
    "    hull: defaultdict\n",
    "    pos: tuple = origin\n",
    "    heading: tuple = UP\n",
    "    \n",
    "    def __init__(self, prog, start_on=0):\n",
    "        self.comp = Comp(prog, [start_on])\n",
    "        self.hull = defaultdict(None, { origin: start_on })\n",
    "    \n",
    "    def move(self):\n",
    "        self.comp.run()\n",
    "        if not self.comp.stopped:\n",
    "            self.paint()\n",
    "            on = self.hull.get(self.pos, 0)\n",
    "            self.comp.inputs.append(on)\n",
    "        return self\n",
    "    \n",
    "    def paint(self):\n",
    "        color, turn = self.comp.outputs[-2], self.comp.outputs[-1]\n",
    "        self.hull[self.pos] = color\n",
    "        self.heading = (turn_left(self.heading) if turn == 0 else\n",
    "                        turn_right(self.heading))\n",
    "        self.pos = add(self.pos, self.heading)\n",
    "        \n",
    "    def run(self):\n",
    "        while not self.comp.stopped:\n",
    "            self.move()\n",
    "        return self"
   ]
  },
  {
   "cell_type": "code",
   "execution_count": 103,
   "metadata": {},
   "outputs": [],
   "source": [
    "p = Painter(prog).run()\n",
    "hull = p.hull"
   ]
  },
  {
   "cell_type": "code",
   "execution_count": 104,
   "metadata": {},
   "outputs": [
    {
     "data": {
      "text/plain": [
       "2415"
      ]
     },
     "execution_count": 104,
     "metadata": {},
     "output_type": "execute_result"
    }
   ],
   "source": [
    "len(hull.values())"
   ]
  },
  {
   "cell_type": "code",
   "execution_count": 105,
   "metadata": {},
   "outputs": [],
   "source": [
    "p = Painter(prog, 1).run()\n",
    "hull = p.hull"
   ]
  },
  {
   "cell_type": "code",
   "execution_count": 106,
   "metadata": {},
   "outputs": [
    {
     "name": "stdout",
     "output_type": "stream",
     "text": [
      " OOO  OOOO OOO  O  O OOOO O  O OOO   OO    \n",
      " O  O O    O  O O  O    O O  O O  O O  O   \n",
      " OOO  OOO  O  O O  O   O  O  O O  O O      \n",
      " O  O O    OOO  O  O  O   O  O OOO  O      \n",
      " O  O O    O    O  O O    O  O O    O  O   \n",
      " OOO  O    O     OO  OOOO  OO  O     OO    \n"
     ]
    }
   ],
   "source": [
    "for row in range(6):\n",
    "    print(cat('O' if hull.get((col, row), 0) == 1 else ' '\n",
    "              for col in range(43)))"
   ]
  },
  {
   "cell_type": "markdown",
   "metadata": {},
   "source": [
    "## Day 12"
   ]
  },
  {
   "cell_type": "code",
   "execution_count": 54,
   "metadata": {},
   "outputs": [
    {
     "data": {
      "text/plain": [
       "(((1, 4, 4), (0, 0, 0)),\n",
       " ((-4, -1, 19), (0, 0, 0)),\n",
       " ((-15, -14, 12), (0, 0, 0)),\n",
       " ((-17, 1, 10), (0, 0, 0)))"
      ]
     },
     "execution_count": 54,
     "metadata": {},
     "output_type": "execute_result"
    }
   ],
   "source": [
    "starts = Input(12, line_parser=integers)\n",
    "\n",
    "def Moon(pos, vel=(0, 0, 0)):\n",
    "    return pos, vel\n",
    "\n",
    "pos = X\n",
    "vel = Y\n",
    "\n",
    "moons = mapt(Moon, starts)\n",
    "moons"
   ]
  },
  {
   "cell_type": "code",
   "execution_count": 55,
   "metadata": {},
   "outputs": [
    {
     "data": {
      "text/plain": [
       "(((1, 4, 4), (-3, -3, 3)),\n",
       " ((-4, -1, 19), (-1, 1, -3)),\n",
       " ((-15, -14, 12), (1, 3, -1)),\n",
       " ((-17, 1, 10), (3, -1, 1)))"
      ]
     },
     "execution_count": 55,
     "metadata": {},
     "output_type": "execute_result"
    }
   ],
   "source": [
    "from pprint import pprint\n",
    "\n",
    "def sign(p):\n",
    "    return tuple(np.sign(p))\n",
    "\n",
    "@t.curry\n",
    "def gravity(m1, m2):\n",
    "    'Returns m1 after applying velocity change from m2'\n",
    "    pos1, vel1 = m1\n",
    "    return Moon(pos1, add(vel1, sign(sub(pos(m2), pos1))))\n",
    "\n",
    "def gravitate(moons):\n",
    "    'Updates all pair-wise velocities in moons'\n",
    "    def grav1(moons, other):\n",
    "        return mapt(gravity(m2=other), moons)\n",
    "    return reduce(grav1, moons, moons)\n",
    "\n",
    "gravitate(moons)"
   ]
  },
  {
   "cell_type": "code",
   "execution_count": 56,
   "metadata": {},
   "outputs": [],
   "source": [
    "def velocity(moon):\n",
    "    'Returns moon after applying velocity'\n",
    "    pos, vel = moon\n",
    "    return Moon(add(pos, vel), vel)\n",
    "\n",
    "def approach(moons):\n",
    "    return mapt(velocity, moons)\n",
    "\n",
    "simulate = compose(approach, gravitate)\n",
    "\n",
    "def energy(moons):\n",
    "    return np.abs(np.array(moons)).sum(axis=2).prod(axis=1).sum()"
   ]
  },
  {
   "cell_type": "code",
   "execution_count": 57,
   "metadata": {},
   "outputs": [
    {
     "data": {
      "text/plain": [
       "10635"
      ]
     },
     "execution_count": 57,
     "metadata": {},
     "output_type": "execute_result"
    }
   ],
   "source": [
    "energy(repeat(1000, simulate, moons))"
   ]
  },
  {
   "cell_type": "markdown",
   "metadata": {},
   "source": [
    "For part 2, the first repetition must be a duplicate of the initial state since every state has a unique parent. We can find cycles for each axis independent of the others, then take the LCM of the cycle lengths for the three axis cycle lengths."
   ]
  },
  {
   "cell_type": "code",
   "execution_count": 60,
   "metadata": {},
   "outputs": [
    {
     "data": {
      "application/vnd.jupyter.widget-view+json": {
       "model_id": "28a8cbfc961d40f9b457e7b3d9ab042c",
       "version_major": 2,
       "version_minor": 0
      },
      "text/plain": [
       "HBox(children=(IntProgress(value=1, bar_style='info', max=1), HTML(value='')))"
      ]
     },
     "metadata": {},
     "output_type": "display_data"
    },
    {
     "data": {
      "application/vnd.jupyter.widget-view+json": {
       "model_id": "1ef421a9e69749dc9e0ce8a10a7befd3",
       "version_major": 2,
       "version_minor": 0
      },
      "text/plain": [
       "HBox(children=(IntProgress(value=1, bar_style='info', max=1), HTML(value='')))"
      ]
     },
     "metadata": {},
     "output_type": "display_data"
    },
    {
     "data": {
      "application/vnd.jupyter.widget-view+json": {
       "model_id": "1dccec3685ec467da4e887977aef1f93",
       "version_major": 2,
       "version_minor": 0
      },
      "text/plain": [
       "HBox(children=(IntProgress(value=1, bar_style='info', max=1), HTML(value='')))"
      ]
     },
     "metadata": {},
     "output_type": "display_data"
    },
    {
     "name": "stdout",
     "output_type": "stream",
     "text": [
      "(186028, 231614, 108344)\n",
      "CPU times: user 2min 36s, sys: 1.49 s, total: 2min 37s\n",
      "Wall time: 2min 42s\n"
     ]
    }
   ],
   "source": [
    "%%time\n",
    "\n",
    "def on_axis(axis, moons):\n",
    "    return map2d(lambda m: (m[axis],), moons)\n",
    "\n",
    "@t.curry\n",
    "def cycled(initial, state):\n",
    "    _, moons = state\n",
    "    return initial == moons\n",
    "\n",
    "def simulation(axis):\n",
    "    return tq(zip(count_from(1), repeatedly1(simulate, on_axis(axis, moons))))\n",
    "\n",
    "def cycle_length(axis):\n",
    "    index, _ = first_true(simulation(axis), cycled(on_axis(axis, moons)))\n",
    "    return index \n",
    "\n",
    "cycle_lengths = mapt(cycle_length, [0, 1, 2])\n",
    "print(cycle_lengths)"
   ]
  },
  {
   "cell_type": "code",
   "execution_count": 61,
   "metadata": {},
   "outputs": [
    {
     "data": {
      "text/plain": [
       "583523031727256"
      ]
     },
     "execution_count": 61,
     "metadata": {},
     "output_type": "execute_result"
    }
   ],
   "source": [
    "np.lcm.reduce(cycle_lengths)"
   ]
  },
  {
   "cell_type": "markdown",
   "metadata": {},
   "source": [
    "## Day 13"
   ]
  },
  {
   "cell_type": "code",
   "execution_count": 179,
   "metadata": {},
   "outputs": [
    {
     "data": {
      "text/plain": [
       "(1, 380, 379, 385, 1008)"
      ]
     },
     "execution_count": 179,
     "metadata": {},
     "output_type": "execute_result"
    }
   ],
   "source": [
    "prog, = Input(13, line_parser=integers)\n",
    "prog[:5]"
   ]
  },
  {
   "cell_type": "code",
   "execution_count": 210,
   "metadata": {},
   "outputs": [],
   "source": [
    "BLOCK = 2\n",
    "PADDLE = 3\n",
    "BALL = 4\n",
    "\n",
    "def tiles(screen):\n",
    "    'Returns tiles in reverse order since later values override earlier ones'\n",
    "    return (screen[i-3:i] for i in range(len(screen), 0, -3))"
   ]
  },
  {
   "cell_type": "code",
   "execution_count": 211,
   "metadata": {},
   "outputs": [
    {
     "data": {
      "text/plain": [
       "427"
      ]
     },
     "execution_count": 211,
     "metadata": {},
     "output_type": "execute_result"
    }
   ],
   "source": [
    "arcade = Comp(prog, []).run()\n",
    "quantify(tiles(arcade.out()), lambda t: t[2] == BLOCK)"
   ]
  },
  {
   "cell_type": "markdown",
   "metadata": {},
   "source": [
    "Since the paddle moves at the same rate as the ball, we can just make the paddle's X coord always match the ball's X coord."
   ]
  },
  {
   "cell_type": "code",
   "execution_count": 215,
   "metadata": {},
   "outputs": [],
   "source": [
    "@t.curry\n",
    "def locate(tile_id, screen):\n",
    "    x, y, _ = first_true(tiles(screen), lambda tile: tile[2] == tile_id)\n",
    "    return x, y\n",
    "\n",
    "ball = locate(BALL)\n",
    "paddle = locate(PADDLE)\n",
    "\n",
    "def score(screen):\n",
    "    x, y, score = screen[-3:]\n",
    "    return score if x == -1 and y == 0 else False\n",
    "\n",
    "def joystick(screen):\n",
    "    ballx, bally = ball(screen)\n",
    "    padx, pady = paddle(screen)\n",
    "    return np.sign(ballx - padx)"
   ]
  },
  {
   "cell_type": "code",
   "execution_count": 216,
   "metadata": {},
   "outputs": [
    {
     "data": {
      "text/plain": [
       "21426"
      ]
     },
     "execution_count": 216,
     "metadata": {},
     "output_type": "execute_result"
    }
   ],
   "source": [
    "arcade = Comp(prog, [])\n",
    "arcade.prog[0] = 2\n",
    "\n",
    "while not arcade.stopped:\n",
    "    arcade.run()\n",
    "    screen = arcade.out()\n",
    "    arcade.input(joystick(screen))\n",
    "score(screen)"
   ]
  },
  {
   "cell_type": "markdown",
   "metadata": {},
   "source": [
    "## Day 14"
   ]
  },
  {
   "cell_type": "markdown",
   "metadata": {},
   "source": [
    "There are no duplicate output chemical recipes, so the reaction list describes a DAG. Processing chemicals in topological order guarantees that we won't need to process a chemical more than once, eliminating the need to keep track of \"leftovers\"."
   ]
  },
  {
   "cell_type": "code",
   "execution_count": 163,
   "metadata": {},
   "outputs": [
    {
     "data": {
      "text/plain": [
       "57"
      ]
     },
     "execution_count": 163,
     "metadata": {},
     "output_type": "execute_result"
    }
   ],
   "source": [
    "def Ing(atom):\n",
    "    qty, chem = atom.split()\n",
    "    return int(qty), chem\n",
    "\n",
    "Rxn = namedtuple('Rxn', ['yld', 'inputs'])\n",
    "def Requirement(line):\n",
    "    inputs, out = line.strip().split(' => ')\n",
    "    yld, chem = Ing(out)\n",
    "    return { chem: Rxn(yld, mapt(Ing, inputs.split(', '))) }\n",
    "\n",
    "reqs = t.merge(Input(14, line_parser=Requirement))\n",
    "reqs['ORE'] = Rxn(1, tuple())\n",
    "len(reqs)"
   ]
  },
  {
   "cell_type": "code",
   "execution_count": 164,
   "metadata": {},
   "outputs": [],
   "source": [
    "def topo_sort(nodes, children_func):\n",
    "    ordering = []\n",
    "    seen = set()\n",
    "    def visit(node):\n",
    "        if node in seen: return\n",
    "        mapt(visit, children_func(node))\n",
    "        ordering.append(node)\n",
    "        seen.add(node)\n",
    "    mapt(visit, nodes)\n",
    "    return tuple(reversed(ordering))\n",
    "\n",
    "def inputs(chem):\n",
    "    return mapt(t.get(1), reqs[chem].inputs)\n",
    "\n",
    "ordering = topo_sort(reqs.keys(), inputs)"
   ]
  },
  {
   "cell_type": "code",
   "execution_count": 165,
   "metadata": {},
   "outputs": [
    {
     "data": {
      "text/plain": [
       "612880"
      ]
     },
     "execution_count": 165,
     "metadata": {},
     "output_type": "execute_result"
    }
   ],
   "source": [
    "from math import ceil\n",
    "\n",
    "def requires(chem, qty):\n",
    "    yld, inputs = reqs[chem]\n",
    "    multiple = ceil(qty / yld)\n",
    "    return { input_chem: multiple * input_qty\n",
    "             for input_qty, input_chem in inputs }\n",
    "\n",
    "def produce(qties, chem):\n",
    "    return t.merge_with(sum, qties, requires(chem, qties[chem]))\n",
    "\n",
    "@t.curry\n",
    "def ore(result, amount):\n",
    "    return reduce(produce, ordering, {result: amount})['ORE']\n",
    "\n",
    "ore('FUEL', 1)"
   ]
  },
  {
   "cell_type": "markdown",
   "metadata": {},
   "source": [
    "Instead of processing the graph backwards, I'll just run binary search on fuel amounts until I need 1 trillion ore. The fuel produced is lower-bounded by 1T / (ore for 1 FUEL)."
   ]
  },
  {
   "cell_type": "code",
   "execution_count": 167,
   "metadata": {},
   "outputs": [
    {
     "data": {
      "text/plain": [
       "2509120"
      ]
     },
     "execution_count": 167,
     "metadata": {},
     "output_type": "execute_result"
    }
   ],
   "source": [
    "def binary_search(lower, upper, goal, f=identity):\n",
    "    'Finds largest integer x between lower and upper so that f(x) <= goal.'\n",
    "    mid = (lower + upper) // 2\n",
    "    return (False if lower > upper else\n",
    "            lower if mid == lower else\n",
    "            binary_search(mid, upper, goal, f) if f(mid) < goal else\n",
    "            binary_search(lower, mid, goal, f) if f(mid) > goal else\n",
    "            mid)\n",
    "\n",
    "ORE = 1e12\n",
    "one_fuel = ore('FUEL', 1)\n",
    "required = ore('FUEL')\n",
    "\n",
    "int(binary_search(ORE // one_fuel, 2 * ORE // one_fuel, ORE, required))"
   ]
  },
  {
   "cell_type": "markdown",
   "metadata": {},
   "source": [
    "## Day 15"
   ]
  },
  {
   "cell_type": "markdown",
   "metadata": {},
   "source": [
    "First, I use DFS to find all valid locations and goal location in the maze. Then, I use BFS to find the shortest path to the goal."
   ]
  },
  {
   "cell_type": "code",
   "execution_count": 4,
   "metadata": {},
   "outputs": [
    {
     "data": {
      "text/plain": [
       "1045"
      ]
     },
     "execution_count": 4,
     "metadata": {},
     "output_type": "execute_result"
    }
   ],
   "source": [
    "prog, = Input(15, line_parser=integers)\n",
    "len(prog)"
   ]
  },
  {
   "cell_type": "code",
   "execution_count": 53,
   "metadata": {},
   "outputs": [],
   "source": [
    "start = (21, 21)\n",
    "WALL, OK, GOAL = 0, 1, 2\n",
    "inputs = { 1: UP, 2: DOWN, 3: LEFT, 4: RIGHT }\n",
    "back = [None, 2, 1, 4, 3].index\n",
    "\n",
    "def move(bot, inp):\n",
    "    return bot.input(inp).run()\n",
    "\n",
    "def move_back(bot, inp):\n",
    "    return bot.input(back(inp)).run()\n",
    "\n",
    "def explore(bot, start=start):\n",
    "    seen = set()\n",
    "    goal = set()\n",
    "    \n",
    "    def visit(loc):\n",
    "        seen.add(loc)\n",
    "        for inp, heading in inputs.items():\n",
    "            to = add(loc, heading)\n",
    "            if to in seen:\n",
    "                continue\n",
    "                \n",
    "            move(bot, inp)\n",
    "            if bot.output() == WALL:\n",
    "                continue\n",
    "                \n",
    "            if bot.output() == GOAL:\n",
    "                goal.add(to)\n",
    "            visit(to)\n",
    "            move_back(bot, inp)\n",
    "    visit(start)\n",
    "    return seen, first(goal)\n",
    "\n",
    "seen, goal = explore(Comp(prog))"
   ]
  },
  {
   "cell_type": "code",
   "execution_count": 54,
   "metadata": {},
   "outputs": [],
   "source": [
    "def print_maze():\n",
    "    for row in range(40):\n",
    "        print(cat('S' if start == (col, row) else\n",
    "                  'G' if goal == (col, row) else\n",
    "                  ' ' if (col, row) in seen else\n",
    "                  'x' for col in range(40)))\n",
    "# print_maze()"
   ]
  },
  {
   "cell_type": "code",
   "execution_count": 55,
   "metadata": {},
   "outputs": [
    {
     "data": {
      "text/plain": [
       "244"
      ]
     },
     "execution_count": 55,
     "metadata": {},
     "output_type": "execute_result"
    }
   ],
   "source": [
    "def maze_spaces(loc):\n",
    "    return [add(loc, heading) for heading in HEADINGS\n",
    "            if add(loc, heading) in seen]\n",
    "\n",
    "len(bfs(start, maze_spaces, [goal])) - 1 # since we count actions, not states"
   ]
  },
  {
   "cell_type": "markdown",
   "metadata": {},
   "source": [
    "For part 2, I just brute-force the maximum distance to the goal:"
   ]
  },
  {
   "cell_type": "code",
   "execution_count": 58,
   "metadata": {},
   "outputs": [
    {
     "data": {
      "text/plain": [
       "278"
      ]
     },
     "execution_count": 58,
     "metadata": {},
     "output_type": "execute_result"
    }
   ],
   "source": [
    "max(len(bfs(goal, maze_spaces, [loc])) - 1 for loc in seen)"
   ]
  },
  {
   "cell_type": "markdown",
   "metadata": {},
   "source": [
    "## Day 16"
   ]
  },
  {
   "cell_type": "code",
   "execution_count": 166,
   "metadata": {},
   "outputs": [
    {
     "data": {
      "text/plain": [
       "650"
      ]
     },
     "execution_count": 166,
     "metadata": {},
     "output_type": "execute_result"
    }
   ],
   "source": [
    "n = digits(Input(16, line_parser=integers)[0][0])\n",
    "len(n)"
   ]
  },
  {
   "cell_type": "code",
   "execution_count": 167,
   "metadata": {},
   "outputs": [
    {
     "name": "stdout",
     "output_type": "stream",
     "text": [
      "CPU times: user 4.57 s, sys: 42 ms, total: 4.62 s\n",
      "Wall time: 6.42 s\n"
     ]
    }
   ],
   "source": [
    "%%time\n",
    "\n",
    "from math import ceil\n",
    "base = np.array([0, 1, 0, -1])\n",
    "\n",
    "n_digits = len(n)\n",
    "\n",
    "@t.memoize\n",
    "def pattern(pos):\n",
    "    for_pos = np.repeat(base, pos)\n",
    "    reps = ceil(n_digits / (len(for_pos) - 1))\n",
    "    return np.tile(for_pos, reps)[1:n_digits + 1]\n",
    "\n",
    "@t.curry\n",
    "def phase(n, pat):\n",
    "    return np.abs(np.sum(n * pat)) % 10\n",
    "\n",
    "def fft(n):\n",
    "    patterns = mapt(pattern, range(1, len(n) + 1))\n",
    "    return mapt(phase(n), patterns)\n",
    "\n",
    "ffted = repeat(100, fft, n)"
   ]
  },
  {
   "cell_type": "code",
   "execution_count": 168,
   "metadata": {},
   "outputs": [
    {
     "data": {
      "text/plain": [
       "'94960436'"
      ]
     },
     "execution_count": 168,
     "metadata": {},
     "output_type": "execute_result"
    }
   ],
   "source": [
    "cat(mapt(str, ffted[:8]))"
   ]
  },
  {
   "cell_type": "markdown",
   "metadata": {},
   "source": [
    "In part 2, we need to avoid unnecessary calculations. Since the offset occurs after the halfway point of the input, the only coefficients are 1s. This means we just calculate cumulative sums."
   ]
  },
  {
   "cell_type": "code",
   "execution_count": 169,
   "metadata": {},
   "outputs": [
    {
     "data": {
      "text/plain": [
       "array([6, 3, 0, ..., 3, 9, 7])"
      ]
     },
     "execution_count": 169,
     "metadata": {},
     "output_type": "execute_result"
    }
   ],
   "source": [
    "REPS = 10000\n",
    "\n",
    "n_len = len(n) * REPS\n",
    "offset = int(cat(mapt(str, n[:7])))\n",
    "ns = np.array([n[index % len(n)] for index in range(offset, n_len)])\n",
    "ns"
   ]
  },
  {
   "cell_type": "code",
   "execution_count": 170,
   "metadata": {},
   "outputs": [],
   "source": [
    "def simple_fft(ns):\n",
    "    return np.cumsum(ns[::-1])[::-1] % 10"
   ]
  },
  {
   "cell_type": "code",
   "execution_count": 171,
   "metadata": {},
   "outputs": [
    {
     "data": {
      "text/plain": [
       "'57762756'"
      ]
     },
     "execution_count": 171,
     "metadata": {},
     "output_type": "execute_result"
    }
   ],
   "source": [
    "cat(mapt(str, head(repeat(100, simple_fft, ns), 8)))"
   ]
  },
  {
   "cell_type": "markdown",
   "metadata": {},
   "source": [
    "## Day 17"
   ]
  },
  {
   "cell_type": "code",
   "execution_count": 172,
   "metadata": {},
   "outputs": [
    {
     "data": {
      "text/plain": [
       "1471"
      ]
     },
     "execution_count": 172,
     "metadata": {},
     "output_type": "execute_result"
    }
   ],
   "source": [
    "prog, = Input(17, line_parser=integers)\n",
    "len(prog)"
   ]
  },
  {
   "cell_type": "code",
   "execution_count": 180,
   "metadata": {},
   "outputs": [
    {
     "data": {
      "text/plain": [
       "7584"
      ]
     },
     "execution_count": 180,
     "metadata": {},
     "output_type": "execute_result"
    }
   ],
   "source": [
    "view = cat(mapt(chr, Comp(prog).run().out())).split()\n",
    "scaffolds = {(col, row)\n",
    "             for row, line in enumerate(view)\n",
    "             for col, ch in enumerate(line)\n",
    "             if ch != '.' }\n",
    "intersects = {pos for pos in scaffolds\n",
    "              if all(loc in scaffolds for loc in neighbors4(pos))}\n",
    "sum(x * y for x, y in intersects)"
   ]
  },
  {
   "cell_type": "markdown",
   "metadata": {},
   "source": [
    "Printing the scaffolding shows that the robot can always go straight through every intersection until it reaches a dead-end. I'll find a sequence of moves for the robot, then break them up manually into three functions."
   ]
  },
  {
   "cell_type": "code",
   "execution_count": 186,
   "metadata": {},
   "outputs": [
    {
     "data": {
      "text/plain": [
       "((0, -1), (-1, 0), (0, 1), (1, 0))"
      ]
     },
     "execution_count": 186,
     "metadata": {},
     "output_type": "execute_result"
    }
   ],
   "source": [
    "HEADINGS"
   ]
  },
  {
   "cell_type": "code",
   "execution_count": 189,
   "metadata": {},
   "outputs": [
    {
     "data": {
      "text/plain": [
       "((32, 0), (0, -1))"
      ]
     },
     "execution_count": 189,
     "metadata": {},
     "output_type": "execute_result"
    }
   ],
   "source": [
    "loc = first((col, row)\n",
    "            for row, line in enumerate(view)\n",
    "            for col, ch in enumerate(line)\n",
    "            if ch in '^v<>' )\n",
    "facing = HEADINGS['^<v>'.index(view[Y(bot)][X(bot)])]\n",
    "bot = loc, facing\n",
    "bot"
   ]
  },
  {
   "cell_type": "code",
   "execution_count": 200,
   "metadata": {},
   "outputs": [
    {
     "data": {
      "text/plain": [
       "{('L', 8), ('L', 12), ('R', 4), ('R', 10), ('R', 12)}"
      ]
     },
     "execution_count": 200,
     "metadata": {},
     "output_type": "execute_result"
    }
   ],
   "source": [
    "def turn(bot):\n",
    "    loc, facing = bot\n",
    "    left = turn_left(facing)\n",
    "    right = turn_right(facing)\n",
    "    return (((loc, left), 'L') if add(loc, left) in scaffolds else\n",
    "            ((loc, right), 'R') if add(loc, right) in scaffolds else\n",
    "            ((loc, facing), False))\n",
    "\n",
    "def walk(bot):\n",
    "    loc, facing = bot\n",
    "    for steps in count_from(0):\n",
    "        if add(loc, facing) not in scaffolds:\n",
    "            return (loc, facing), steps\n",
    "        loc = add(loc, facing)\n",
    "\n",
    "def dust(bot):\n",
    "    commands = []\n",
    "    while True:\n",
    "        bot, direction = turn(bot)\n",
    "        if not direction: return commands\n",
    "        \n",
    "        bot, steps = walk(bot)\n",
    "        commands.append((direction, steps))\n",
    "\n",
    "commands = dust(bot)\n",
    "set(commands)"
   ]
  },
  {
   "cell_type": "code",
   "execution_count": 257,
   "metadata": {},
   "outputs": [
    {
     "data": {
      "text/plain": [
       "'152441541543243215244154154321524'"
      ]
     },
     "execution_count": 257,
     "metadata": {},
     "output_type": "execute_result"
    }
   ],
   "source": [
    "encode = { c: '12345'[i] for i, c in enumerate(set(commands)) }\n",
    "decode = { v: k for k, v in encode.items() }\n",
    "encoded = cat(mapt(t.get(seq=encode), commands))\n",
    "encoded"
   ]
  },
  {
   "cell_type": "code",
   "execution_count": 249,
   "metadata": {},
   "outputs": [
    {
     "data": {
      "text/plain": [
       "'ACCBBACCBA'"
      ]
     },
     "execution_count": 249,
     "metadata": {},
     "output_type": "execute_result"
    }
   ],
   "source": [
    "def replace(encoded, fns):\n",
    "    if len(encoded) == 0: return ''\n",
    "    for name, body in fns.items():\n",
    "        if encoded.startswith(body):\n",
    "            return f'{name}{replace(encoded[len(body):], fns)}'\n",
    "    return encoded[0] + replace(encoded[1:], fns)\n",
    "\n",
    "funcs = { 'A': '1524', 'B': '432', 'C': '415' }\n",
    "replace(encoded, funcs)"
   ]
  },
  {
   "cell_type": "code",
   "execution_count": 291,
   "metadata": {},
   "outputs": [],
   "source": [
    "line = ','.join\n",
    "\n",
    "def decode_func(name):\n",
    "    return [str(command) for ch in funcs[name] for command in decode[ch]]\n",
    "\n",
    "def to_ascii(funcs):\n",
    "    main = line(replace(encoded, funcs))\n",
    "    func_a = line(decode_func('A'))\n",
    "    func_b = line(decode_func('B'))\n",
    "    func_c = line(decode_func('C'))\n",
    "    program = '\\n'.join([main, func_a, func_b, func_c]) + '\\n'\n",
    "    return mapt(ord, program + 'n\\n')\n",
    "\n",
    "program = to_ascii(funcs)"
   ]
  },
  {
   "cell_type": "code",
   "execution_count": 295,
   "metadata": {},
   "outputs": [
    {
     "data": {
      "text/plain": [
       "1016738"
      ]
     },
     "execution_count": 295,
     "metadata": {},
     "output_type": "execute_result"
    }
   ],
   "source": [
    "start = list(prog)\n",
    "start[0] = 2\n",
    "Comp(start, program).run().output()"
   ]
  }
 ],
 "metadata": {
  "kernelspec": {
   "display_name": "Python 3",
   "language": "python",
   "name": "python3"
  },
  "language_info": {
   "codemirror_mode": {
    "name": "ipython",
    "version": 3
   },
   "file_extension": ".py",
   "mimetype": "text/x-python",
   "name": "python",
   "nbconvert_exporter": "python",
   "pygments_lexer": "ipython3",
   "version": "3.7.3"
  }
 },
 "nbformat": 4,
 "nbformat_minor": 2
}
