{
 "cells": [
  {
   "cell_type": "code",
   "execution_count": 55,
   "metadata": {},
   "outputs": [],
   "source": [
    "#### IMPORTS\n",
    "\n",
    "import re\n",
    "import abc\n",
    "from collections import Counter, defaultdict, namedtuple, deque, abc\n",
    "from itertools   import (permutations, combinations, chain, cycle, product, islice, \n",
    "                         takewhile, zip_longest, count as count_from)\n",
    "from functools   import lru_cache, reduce\n",
    "from heapq import (heappush, heappop, nlargest, nsmallest)\n",
    "\n",
    "from pprint import pprint as p, pformat as pf\n",
    "import toolz.curried as t\n",
    "from tqdm import tqdm_notebook as tq\n",
    "from dataclasses import dataclass\n",
    "\n",
    "#### CONSTANTS\n",
    "\n",
    "alphabet = 'abcdefghijklmnopqrstuvwxyz'\n",
    "ALPHABET = alphabet.upper()\n",
    "infinity = float('inf')\n",
    "\n",
    "#### SIMPLE UTILITY FUNCTIONS\n",
    "\n",
    "cat = ''.join\n",
    "\n",
    "def ints(start, end, step=1):\n",
    "    \"The integers from start to end, inclusive: range(start, end+1)\"\n",
    "    return range(start, end + 1, step)\n",
    "\n",
    "def first(iterable, default=None): \n",
    "    \"The first item in an iterable, or default if it is empty.\"\n",
    "    return next(iter(iterable), default)\n",
    "\n",
    "def head(iterable, n=5):\n",
    "    \"The first n items in an iterable\"\n",
    "    return tuple(islice(iterable, n))\n",
    "\n",
    "def tail(iterable, n=1):\n",
    "    \"Skip n items in an iterable\"\n",
    "    return islice(iterable, n, None)\n",
    "\n",
    "def first_true(iterable, pred=None, default=None):\n",
    "    \"\"\"Returns the first true value in the iterable.\n",
    "    If no true value is found, returns *default*\n",
    "    If *pred* is not None, returns the first item\n",
    "    for which pred(item) is true.\"\"\"\n",
    "    # first_true([a,b,c], default=x) --> a or b or c or x\n",
    "    # first_true([a,b], fn, x) --> a if fn(a) else b if fn(b) else x\n",
    "    return next(filter(pred, iterable), default)\n",
    "\n",
    "def nth(iterable, n, default=None):\n",
    "    \"Returns the nth item of iterable, or a default value\"\n",
    "    return next(islice(iterable, n, None), default)\n",
    "\n",
    "def upto(iterable, maxval):\n",
    "    \"From a monotonically increasing iterable, generate all the values <= maxval.\"\n",
    "    # Why <= maxval rather than < maxval? In part because that's how Ruby's upto does it.\n",
    "    return takewhile(lambda x: x <= maxval, iterable)\n",
    "\n",
    "identity = lambda x: x\n",
    "\n",
    "def quantify(iterable, pred=bool):\n",
    "    \"Count how many times the predicate is true of an item in iterable.\"\n",
    "    return sum(map(pred, iterable))\n",
    "\n",
    "def multimap(items):\n",
    "    \"Given (key, val) pairs, return {key: [val, ....], ...}.\"\n",
    "    result = defaultdict(list)\n",
    "    for (key, val) in items:\n",
    "        result[key].append(val)\n",
    "    return result\n",
    "\n",
    "def overlapping(iterable, n):\n",
    "    \"\"\"Generate all (overlapping) n-element subsequences of iterable.\n",
    "    overlapping('ABCDEFG', 3) --> ABC BCD CDE DEF EFG\"\"\"\n",
    "    if isinstance(iterable, abc.Sequence):\n",
    "        yield from (iterable[i:i+n] for i in range(len(iterable) + 1 - n))\n",
    "    else:\n",
    "        result = deque(maxlen=n)\n",
    "        for x in iterable:\n",
    "            result.append(x)\n",
    "            if len(result) == n:\n",
    "                yield tuple(result)\n",
    "                \n",
    "def pairwise(iterable):\n",
    "    \"s -> (s0,s1), (s1,s2), (s2, s3), ...\"\n",
    "    return overlapping(iterable, 2)\n",
    "\n",
    "def mapt(fn, *args): \n",
    "    \"Do a map, and make the results into a tuple.\"\n",
    "    return tuple(map(fn, *args))\n",
    "\n",
    "def map2d(fn, grid):\n",
    "    \"Apply fn to every element in a 2-dimensional grid.\"\n",
    "    return tuple(mapt(fn, row) for row in grid)\n",
    "\n",
    "def flatmap(fn, *args):\n",
    "    \"Do a map and a one-level flatten\"\n",
    "    return tuple(chain.from_iterable(map(fn, *args)))\n",
    "\n",
    "def repeat(n, fn, arg, *args, **kwds):\n",
    "    \"Repeat arg = fn(arg) n times, return arg.\"\n",
    "    return nth(repeatedly(fn, arg, *args, **kwds), n)\n",
    "\n",
    "def repeatedly(fn, arg, *args, **kwds):\n",
    "    \"Yield arg, fn(arg), fn(fn(arg)), ...\"\n",
    "    yield arg\n",
    "    while True:\n",
    "        arg = fn(arg, *args, **kwds)\n",
    "        yield arg\n",
    "        \n",
    "def repeatedly1(fn, arg, *args, **kwds):\n",
    "    \"Yield fn(arg), fn(fn(arg)), ...\"\n",
    "    return tail(repeatedly(fn, arg, *args, **kwds))\n",
    "\n",
    "def compose(f, g): \n",
    "    \"The function that computes f(g(x)).\"\n",
    "    return lambda x: f(g(x))\n",
    "\n",
    "#### FILE INPUT AND PARSING\n",
    "\n",
    "def Input(day, line_parser=str.strip, test=False, file_template='data/2019/{}.txt'):\n",
    "    \"For this day's input file, return a tuple of each line parsed by `line_parser`.\"\n",
    "    return mapt(line_parser, open(file_template.format(\n",
    "        f'{day}test' if test else day\n",
    "    )))\n",
    "\n",
    "@t.curry\n",
    "def Tokens(line, sep=','):\n",
    "    \"Splits line into delimited tokens\"\n",
    "    return line.strip().split(sep)\n",
    "\n",
    "def integers(text): \n",
    "    \"A tuple of all integers in a string (ignore other characters).\"\n",
    "    return mapt(int, re.findall(r'-?\\d+', text))\n",
    "\n",
    "################ 2-D points implemented using (x, y) tuples\n",
    "\n",
    "def X(point): return point[0]\n",
    "def Y(point): return point[1]\n",
    "\n",
    "origin = (0, 0)\n",
    "HEADINGS = UP, LEFT, DOWN, RIGHT = (0, -1), (-1, 0), (0, 1), (1, 0)\n",
    "\n",
    "def turn_right(heading): return HEADINGS[HEADINGS.index(heading) - 1]\n",
    "def turn_around(heading):return HEADINGS[HEADINGS.index(heading) - 2]\n",
    "def turn_left(heading):  return HEADINGS[HEADINGS.index(heading) - 3]\n",
    "\n",
    "def add(A, B): \n",
    "    \"Element-wise addition of two n-dimensional vectors.\"\n",
    "    return mapt(sum, zip(A, B))\n",
    "\n",
    "def neighbors4(point): \n",
    "    \"The four neighboring squares.\"\n",
    "    x, y = point\n",
    "    return (          (x, y-1),\n",
    "            (x-1, y),           (x+1, y), \n",
    "                      (x, y+1))\n",
    "\n",
    "def neighbors8(point): \n",
    "    \"The eight neighboring squares.\"\n",
    "    x, y = point \n",
    "    return ((x-1, y-1), (x, y-1), (x+1, y-1),\n",
    "            (x-1, y),             (x+1, y),\n",
    "            (x-1, y+1), (x, y+1), (x+1, y+1))\n",
    "\n",
    "def cityblock_distance(P, Q=origin): \n",
    "    \"Manhatten distance between two points.\"\n",
    "    return sum(abs(p - q) for p, q in zip(P, Q))\n",
    "\n",
    "def distance(P, Q=origin): \n",
    "    \"Straight-line (hypotenuse) distance between two points.\"\n",
    "    return sum((p - q) ** 2 for p, q in zip(P, Q)) ** 0.5\n",
    "\n",
    "def king_distance(P, Q=origin):\n",
    "    \"Number of chess King moves between two points.\"\n",
    "    return max(abs(p - q) for p, q in zip(P, Q))\n",
    "\n",
    "################ Debugging \n",
    "\n",
    "def trace1(f):\n",
    "    \"Print a trace of the input and output of a function on one line.\"\n",
    "    def traced_f(*args):\n",
    "        result = f(*args)\n",
    "        print('{}({}) = {}'.format(f.__name__, ', '.join(map(str, args)), result))\n",
    "        return result\n",
    "    return traced_f\n",
    "\n",
    "def grep(pattern, iterable):\n",
    "    \"Print lines from iterable that match pattern.\"\n",
    "    for line in iterable:\n",
    "        if re.search(pattern, line):\n",
    "            print(line)\n",
    "            \n",
    "class Struct:\n",
    "    \"A structure that can have any fields defined.\"\n",
    "    def __init__(self, **entries): self.__dict__.update(entries)\n",
    "    def __repr__(self): \n",
    "        fields = ['{}={}'.format(f, self.__dict__[f]) \n",
    "                  for f in sorted(self.__dict__)]\n",
    "        return 'Struct({})'.format(', '.join(fields))\n",
    "\n",
    "################ A* and Breadth-First Search (tracking states, not actions)\n",
    "\n",
    "def always(value): return (lambda *args: value)\n",
    "\n",
    "def Astar(start, moves_func, h_func, cost_func=always(1)):\n",
    "    \"Find a shortest sequence of states from start to a goal state (where h_func(s) == 0).\"\n",
    "    frontier  = [(h_func(start), start)] # A priority queue, ordered by path length, f = g + h\n",
    "    previous  = {start: None}  # start state has no previous state; other states will\n",
    "    path_cost = {start: 0}     # The cost of the best path to a state.\n",
    "    Path      = lambda s: ([] if (s is None) else Path(previous[s]) + [s])\n",
    "    while frontier:\n",
    "        (f, s) = heappop(frontier)\n",
    "        if h_func(s) == 0:\n",
    "            return Path(s)\n",
    "        for s2 in moves_func(s):\n",
    "            g = path_cost[s] + cost_func(s, s2)\n",
    "            if s2 not in path_cost or g < path_cost[s2]:\n",
    "                heappush(frontier, (g + h_func(s2), s2))\n",
    "                path_cost[s2] = g\n",
    "                previous[s2] = s\n",
    "\n",
    "def bfs(start, moves_func, goals):\n",
    "    \"Breadth-first search\"\n",
    "    goal_func = (goals if callable(goals) else lambda s: s in goals)\n",
    "    return Astar(start, moves_func, lambda s: (0 if goal_func(s) else 1))"
   ]
  },
  {
   "cell_type": "markdown",
   "metadata": {},
   "source": [
    "## Day 1"
   ]
  },
  {
   "cell_type": "code",
   "execution_count": 3,
   "metadata": {},
   "outputs": [
    {
     "data": {
      "text/plain": [
       "3167282"
      ]
     },
     "execution_count": 3,
     "metadata": {},
     "output_type": "execute_result"
    }
   ],
   "source": [
    "masses = Input(1, line_parser=int)\n",
    "sum(m // 3 - 2 for m in masses)"
   ]
  },
  {
   "cell_type": "code",
   "execution_count": 4,
   "metadata": {},
   "outputs": [
    {
     "data": {
      "text/plain": [
       "4748063"
      ]
     },
     "execution_count": 4,
     "metadata": {},
     "output_type": "execute_result"
    }
   ],
   "source": [
    "def to_fuel(n):\n",
    "    return n // 3 - 2\n",
    "\n",
    "def total_fuel(mass):\n",
    "    return (\n",
    "        sum(takewhile(lambda n: n > 0,\n",
    "                      repeatedly(to_fuel, mass)))\n",
    "        - mass)\n",
    "\n",
    "sum(map(total_fuel, masses))"
   ]
  },
  {
   "cell_type": "markdown",
   "metadata": {},
   "source": [
    "## Day 2"
   ]
  },
  {
   "cell_type": "code",
   "execution_count": 43,
   "metadata": {},
   "outputs": [
    {
     "data": {
      "text/plain": [
       "145"
      ]
     },
     "execution_count": 43,
     "metadata": {},
     "output_type": "execute_result"
    }
   ],
   "source": [
    "orig = list(Input(2, line_parser=integers)[0])\n",
    "# prog = [1,9,10,3,2,3,11,0,99,30,40,50]\n",
    "prog = list(orig)\n",
    "prog[1] = 12\n",
    "prog[2] = 2\n",
    "len(prog)"
   ]
  },
  {
   "cell_type": "code",
   "execution_count": 44,
   "metadata": {},
   "outputs": [
    {
     "data": {
      "text/plain": [
       "-1"
      ]
     },
     "execution_count": 44,
     "metadata": {},
     "output_type": "execute_result"
    }
   ],
   "source": [
    "def process(pos, prog=prog):\n",
    "    opcode, reg1, reg2, out = prog[pos:pos+4]\n",
    "    if opcode == 99:\n",
    "        return -1\n",
    "    if opcode == 1:\n",
    "        prog[out] = prog[reg1] + prog[reg2]\n",
    "    if opcode == 2:\n",
    "        prog[out] = prog[reg1] * prog[reg2]\n",
    "    return pos + 4\n",
    "first_true(repeatedly(process, 0), pred=lambda x: x is -1)"
   ]
  },
  {
   "cell_type": "code",
   "execution_count": 45,
   "metadata": {},
   "outputs": [
    {
     "data": {
      "text/plain": [
       "8017076"
      ]
     },
     "execution_count": 45,
     "metadata": {},
     "output_type": "execute_result"
    }
   ],
   "source": [
    "prog[0]"
   ]
  },
  {
   "cell_type": "code",
   "execution_count": 49,
   "metadata": {},
   "outputs": [
    {
     "data": {
      "text/plain": [
       "(31, 46)"
      ]
     },
     "execution_count": 49,
     "metadata": {},
     "output_type": "execute_result"
    }
   ],
   "source": [
    "def trial(noun, verb, prog=prog):\n",
    "    prog = list(prog)\n",
    "    prog[1] = noun\n",
    "    prog[2] = verb\n",
    "    pos = 0\n",
    "    while pos != -1:\n",
    "        pos = process(pos, prog)\n",
    "    return prog[0]\n",
    "\n",
    "goal = 19690720\n",
    "first((noun, verb)\n",
    "      for noun in range(100)\n",
    "      for verb in range(100)\n",
    "      if trial(noun, verb, orig) == goal)"
   ]
  },
  {
   "cell_type": "markdown",
   "metadata": {},
   "source": [
    "## Day 3"
   ]
  },
  {
   "cell_type": "code",
   "execution_count": 87,
   "metadata": {},
   "outputs": [
    {
     "data": {
      "text/plain": [
       "[('R', 1000), ('D', 940), ('L', 143), ('D', 182), ('L', 877)]"
      ]
     },
     "execution_count": 87,
     "metadata": {},
     "output_type": "execute_result"
    }
   ],
   "source": [
    "def Path(line):\n",
    "    return [(token[0], int(token[1:])) for token in Tokens(line)]\n",
    "\n",
    "path1, path2 = Input(3, line_parser=Path)\n",
    "# path1 = Path('R8,U5,L5,D3')\n",
    "# path2 = Path('U7,R6,D4,L4')\n",
    "path1[:5]"
   ]
  },
  {
   "cell_type": "code",
   "execution_count": 88,
   "metadata": {},
   "outputs": [
    {
     "data": {
      "text/plain": [
       "((1, 0), (2, 0), (3, 0), (4, 0), (5, 0), (6, 0), (7, 0), (8, 0))"
      ]
     },
     "execution_count": 88,
     "metadata": {},
     "output_type": "execute_result"
    }
   ],
   "source": [
    "def along(section, start=origin):\n",
    "    direction, length = section\n",
    "    heading = HEADINGS['ULDR'.index(direction)]\n",
    "    return head(repeatedly1(add, start, heading), n=length)\n",
    "\n",
    "def step(walk, section):\n",
    "    start = walk[-1] if walk else origin\n",
    "    return (*walk, *along(section, start))\n",
    "\n",
    "step([], ('R', 8))"
   ]
  },
  {
   "cell_type": "code",
   "execution_count": 89,
   "metadata": {},
   "outputs": [
    {
     "data": {
      "text/plain": [
       "865"
      ]
     },
     "execution_count": 89,
     "metadata": {},
     "output_type": "execute_result"
    }
   ],
   "source": [
    "walk1 = reduce(step, path1, [])\n",
    "walk2 = reduce(step, path2, [])\n",
    "intersections = set(walk1) & set(walk2)\n",
    "min(mapt(cityblock_distance, intersections))"
   ]
  },
  {
   "cell_type": "code",
   "execution_count": 92,
   "metadata": {},
   "outputs": [
    {
     "data": {
      "text/plain": [
       "35038"
      ]
     },
     "execution_count": 92,
     "metadata": {},
     "output_type": "execute_result"
    }
   ],
   "source": [
    "def wire_distance(intersection):\n",
    "    # Add 2 since we need to account for the origin for two paths\n",
    "    return walk1.index(intersection) + walk2.index(intersection) + 2\n",
    "\n",
    "min(mapt(wire_distance, intersections))"
   ]
  },
  {
   "cell_type": "markdown",
   "metadata": {},
   "source": [
    "## Day 4"
   ]
  },
  {
   "cell_type": "code",
   "execution_count": 97,
   "metadata": {},
   "outputs": [
    {
     "data": {
      "text/plain": [
       "range(284639, 748759)"
      ]
     },
     "execution_count": 97,
     "metadata": {},
     "output_type": "execute_result"
    }
   ],
   "source": [
    "my_input = '284639-748759'\n",
    "my_range = range(*mapt(int, Tokens('284639-748759', sep='-')))\n",
    "my_range"
   ]
  },
  {
   "cell_type": "code",
   "execution_count": 133,
   "metadata": {},
   "outputs": [
    {
     "data": {
      "text/plain": [
       "895"
      ]
     },
     "execution_count": 133,
     "metadata": {},
     "output_type": "execute_result"
    }
   ],
   "source": [
    "def digits(number):\n",
    "    return mapt(int, str(number))\n",
    "\n",
    "def has_repeat(digs):\n",
    "    return any(i == j for i, j in pairwise(digs))\n",
    "\n",
    "def is_monotonic(digs):\n",
    "    return all(i <= j for i, j in pairwise(digs))\n",
    "\n",
    "def is_password(number):\n",
    "    digs = digits(number)\n",
    "    return is_monotonic(digs) and has_repeat(digs)\n",
    "\n",
    "quantify(my_range, is_password)"
   ]
  },
  {
   "cell_type": "markdown",
   "metadata": {},
   "source": [
    "The monotonic condition ensures that all unique digit values appear together."
   ]
  },
  {
   "cell_type": "code",
   "execution_count": 135,
   "metadata": {},
   "outputs": [
    {
     "data": {
      "text/plain": [
       "591"
      ]
     },
     "execution_count": 135,
     "metadata": {},
     "output_type": "execute_result"
    }
   ],
   "source": [
    "def has_single_repeat(digs):\n",
    "    return any(count == 2 for count in Counter(digs).values())\n",
    "\n",
    "def is_paironly_password(number):\n",
    "    digs = digits(number)\n",
    "    return is_monotonic(digs) and has_single_repeat(digs)\n",
    "\n",
    "quantify(my_range, is_paironly_password)"
   ]
  },
  {
   "cell_type": "markdown",
   "metadata": {},
   "source": [
    "## Day 5"
   ]
  },
  {
   "cell_type": "code",
   "execution_count": 12,
   "metadata": {},
   "outputs": [
    {
     "data": {
      "text/plain": [
       "(3, 225, 1, 225, 6)"
      ]
     },
     "execution_count": 12,
     "metadata": {},
     "output_type": "execute_result"
    }
   ],
   "source": [
    "prog, = Input(5, line_parser=integers)\n",
    "prog[:5]"
   ]
  },
  {
   "cell_type": "code",
   "execution_count": 13,
   "metadata": {},
   "outputs": [
    {
     "data": {
      "text/plain": [
       "(3, [0])"
      ]
     },
     "execution_count": 13,
     "metadata": {},
     "output_type": "execute_result"
    }
   ],
   "source": [
    "ADD, MUL, INPUT, OUTPUT, JT, JF, LT, EQ, STOP = (\n",
    "    1, 2, 3, 4, 5, 6, 7, 8, 99)\n",
    "\n",
    "arities = {\n",
    "    ADD: 3, MUL: 3, INPUT: 1, OUTPUT: 1,\n",
    "    JT: 2, JF: 2, LT: 3, EQ: 3,\n",
    "    STOP: 0\n",
    "}\n",
    "\n",
    "def Opcode(val):\n",
    "    code = val % 100\n",
    "    arity = arities[code]\n",
    "    return (val % 100,\n",
    "            [val // 100 % 10, val // 1000 % 10, val // 10000 % 10][:arity])\n",
    "Opcode(1003)"
   ]
  },
  {
   "cell_type": "code",
   "execution_count": 18,
   "metadata": {},
   "outputs": [
    {
     "data": {
      "text/plain": [
       "33"
      ]
     },
     "execution_count": 18,
     "metadata": {},
     "output_type": "execute_result"
    }
   ],
   "source": [
    "def read_arg(prog, pc, mode):\n",
    "    \"Reads in argument from prog accounting for mode.\"\n",
    "    arg = prog[pc]\n",
    "    output = prog[arg] if mode == 0 else arg\n",
    "    return output\n",
    "\n",
    "read_arg([1002, 4,3,4,33], 1, 0)"
   ]
  },
  {
   "cell_type": "code",
   "execution_count": 19,
   "metadata": {},
   "outputs": [
    {
     "data": {
      "text/plain": [
       "1"
      ]
     },
     "execution_count": 19,
     "metadata": {},
     "output_type": "execute_result"
    }
   ],
   "source": [
    "def run(prog, inputs):\n",
    "    prog = list(prog)\n",
    "    inputs = iter(inputs)\n",
    "    outputs = []\n",
    "    pc = 0\n",
    "    while True:\n",
    "        code, modes = Opcode(prog[pc])\n",
    "#         print(f'{prog[pc:pc+len(modes) + 1]}')\n",
    "        if code == STOP:\n",
    "            return outputs[-1]\n",
    "        if code == ADD:\n",
    "            arg1 = read_arg(prog, pc + 1, modes[0])\n",
    "            arg2 = read_arg(prog, pc + 2, modes[1])\n",
    "            out = prog[pc + 3]\n",
    "            prog[out] = arg1 + arg2\n",
    "        elif code == MUL:\n",
    "            arg1 = read_arg(prog, pc + 1, modes[0])\n",
    "            arg2 = read_arg(prog, pc + 2, modes[1])\n",
    "            out = prog[pc + 3]\n",
    "            prog[out] = arg1 * arg2\n",
    "        elif code == INPUT:\n",
    "            out = prog[pc + 1]\n",
    "            prog[out] = next(inputs)\n",
    "        elif code == OUTPUT:\n",
    "            val = read_arg(prog, pc + 1, modes[0])\n",
    "            outputs.append(val)\n",
    "        elif code == JT:\n",
    "            arg1 = read_arg(prog, pc + 1, modes[0])\n",
    "            arg2 = read_arg(prog, pc + 2, modes[1])\n",
    "            if arg1 != 0:\n",
    "                pc = arg2\n",
    "                continue\n",
    "        elif code == JF:\n",
    "            arg1 = read_arg(prog, pc + 1, modes[0])\n",
    "            arg2 = read_arg(prog, pc + 2, modes[1])\n",
    "            if arg1 == 0:\n",
    "                pc = arg2\n",
    "                continue\n",
    "        elif code == LT:\n",
    "            arg1 = read_arg(prog, pc + 1, modes[0])\n",
    "            arg2 = read_arg(prog, pc + 2, modes[1])\n",
    "            out = prog[pc + 3]\n",
    "            prog[out] = int(arg1 < arg2)\n",
    "        elif code == EQ:\n",
    "            arg1 = read_arg(prog, pc + 1, modes[0])\n",
    "            arg2 = read_arg(prog, pc + 2, modes[1])\n",
    "            out = prog[pc + 3]\n",
    "            prog[out] = int(arg1 == arg2)\n",
    "        else:\n",
    "            raise ValueError(f'Bad opcode at pc: {pc}')\n",
    "        pc += len(modes) + 1\n",
    "run([3,9,7,9,10,9,4,9,99,-1,8], [6])"
   ]
  },
  {
   "cell_type": "code",
   "execution_count": 23,
   "metadata": {},
   "outputs": [],
   "source": [
    "assert run([3,0,4,0,99], [10]) == 10\n",
    "assert run([3,0,4,0,99], [10]) == 10\n",
    "assert run([3,9,8,9,10,9,4,9,99,-1,8], [10]) == 0\n",
    "assert run([3,9,8,9,10,9,4,9,99,-1,8], [8]) == 1\n",
    "assert run([3,9,7,9,10,9,4,9,99,-1,8], [6]) == 1\n",
    "assert run([3,9,7,9,10,9,4,9,99,-1,8], [8]) == 0\n",
    "assert run([3,3,1108,-1,8,3,4,3,99], [8]) == 1\n",
    "assert run([3,3,1107,-1,8,3,4,3,99], [8]) == 0"
   ]
  },
  {
   "cell_type": "code",
   "execution_count": 21,
   "metadata": {},
   "outputs": [
    {
     "data": {
      "text/plain": [
       "14522484"
      ]
     },
     "execution_count": 21,
     "metadata": {},
     "output_type": "execute_result"
    }
   ],
   "source": [
    "run(prog, [1])"
   ]
  },
  {
   "cell_type": "code",
   "execution_count": 24,
   "metadata": {},
   "outputs": [
    {
     "data": {
      "text/plain": [
       "4655956"
      ]
     },
     "execution_count": 24,
     "metadata": {},
     "output_type": "execute_result"
    }
   ],
   "source": [
    "run(prog, [5])"
   ]
  },
  {
   "cell_type": "markdown",
   "metadata": {},
   "source": [
    "## Day 6"
   ]
  },
  {
   "cell_type": "code",
   "execution_count": 42,
   "metadata": {},
   "outputs": [
    {
     "data": {
      "text/plain": [
       "(['COM', 'B'], ['B', 'C'], ['C', 'D'])"
      ]
     },
     "execution_count": 42,
     "metadata": {},
     "output_type": "execute_result"
    }
   ],
   "source": [
    "edges = Input(6, line_parser=Tokens(sep=')'), test=True)\n",
    "edges[:3]"
   ]
  },
  {
   "cell_type": "code",
   "execution_count": 40,
   "metadata": {},
   "outputs": [],
   "source": [
    "def add_edge(tree, edge):\n",
    "    parent, child = edge\n",
    "    tree[parent].append(child)\n",
    "    return tree\n",
    "\n",
    "def Tree(edges):\n",
    "    return reduce(add_edge, edges, defaultdict(list))"
   ]
  },
  {
   "cell_type": "code",
   "execution_count": 41,
   "metadata": {},
   "outputs": [
    {
     "data": {
      "text/plain": [
       "268504"
      ]
     },
     "execution_count": 41,
     "metadata": {},
     "output_type": "execute_result"
    }
   ],
   "source": [
    "def sum_depths(tree, node='COM', depth=0):\n",
    "    children = tree[node]\n",
    "    if not children:\n",
    "        return depth\n",
    "    return (depth\n",
    "            + sum(sum_depths(tree, child, depth + 1) for child in children))\n",
    "sum_depths(Tree(edges))"
   ]
  },
  {
   "cell_type": "markdown",
   "metadata": {},
   "source": [
    "The tree distance from A to B is the sum of their distances to their closest common ancestor."
   ]
  },
  {
   "cell_type": "code",
   "execution_count": 57,
   "metadata": {},
   "outputs": [
    {
     "data": {
      "text/plain": [
       "['COM', 'B', 'C', 'D', 'E', 'J', 'K', 'YOU']"
      ]
     },
     "execution_count": 57,
     "metadata": {},
     "output_type": "execute_result"
    }
   ],
   "source": [
    "tree = Tree(edges)\n",
    "bfs('COM', lambda n: tree[n], ['YOU'])"
   ]
  },
  {
   "cell_type": "code",
   "execution_count": null,
   "metadata": {},
   "outputs": [],
   "source": []
  }
 ],
 "metadata": {
  "kernelspec": {
   "display_name": "Python 3",
   "language": "python",
   "name": "python3"
  },
  "language_info": {
   "codemirror_mode": {
    "name": "ipython",
    "version": 3
   },
   "file_extension": ".py",
   "mimetype": "text/x-python",
   "name": "python",
   "nbconvert_exporter": "python",
   "pygments_lexer": "ipython3",
   "version": "3.7.3"
  }
 },
 "nbformat": 4,
 "nbformat_minor": 2
}
