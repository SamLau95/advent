{
 "cells": [
  {
   "cell_type": "code",
   "execution_count": 160,
   "metadata": {},
   "outputs": [],
   "source": [
    "#### IMPORTS\n",
    "\n",
    "import re\n",
    "from collections import Counter, defaultdict, namedtuple, deque\n",
    "from itertools   import chain, cycle, product, count as count_from\n",
    "from functools   import lru_cache\n",
    "\n",
    "from pprint import pprint as p\n",
    "import toolz.curried as t\n",
    "from tqdm import tqdm as tq\n",
    "\n",
    "#### CONSTANTS\n",
    "\n",
    "alphabet = 'abcdefghijklmnopqrstuvwxyz'\n",
    "ALPHABET = alphabet.upper()\n",
    "infinity = float('inf')\n",
    "\n",
    "#### SIMPLE UTILITY FUNCTIONS\n",
    "\n",
    "cat = ''.join\n",
    "\n",
    "def ints(start, end, step=1):\n",
    "    \"The integers from start to end, inclusive: range(start, end+1)\"\n",
    "    return range(start, end + 1, step)\n",
    "\n",
    "def first(iterable, default=None): \n",
    "    \"The first item in an iterable, or default if it is empty.\"\n",
    "    return next(iter(iterable), default)\n",
    "\n",
    "def first_true(iterable, pred=None, default=None):\n",
    "    \"\"\"Returns the first true value in the iterable.\n",
    "    If no true value is found, returns *default*\n",
    "    If *pred* is not None, returns the first item\n",
    "    for which pred(item) is true.\"\"\"\n",
    "    # first_true([a,b,c], default=x) --> a or b or c or x\n",
    "    # first_true([a,b], fn, x) --> a if fn(a) else b if fn(b) else x\n",
    "    return next(filter(pred, iterable), default)\n",
    "\n",
    "def quantify(iterable, pred=bool):\n",
    "    \"Count how many times the predicate is true of an item in iterable.\"\n",
    "    return sum(map(pred, iterable))\n",
    "\n",
    "def multimap(items):\n",
    "    \"Given (key, val) pairs, return {key: [val, ....], ...}.\"\n",
    "    result = defaultdict(list)\n",
    "    for (key, val) in items:\n",
    "        result[key].append(val)\n",
    "    return result\n",
    "\n",
    "def mapt(fn, *args): \n",
    "    \"Do a map, and make the results into a tuple.\"\n",
    "    return tuple(map(fn, *args))\n",
    "\n",
    "def map2d(fn, grid):\n",
    "    \"Apply fn to every element in a 2-dimensional grid.\"\n",
    "    return tuple(mapt(fn, row) for row in grid)\n",
    "\n",
    "def repeat(n, fn, arg, *args, **kwds):\n",
    "    \"Repeat arg = fn(arg) n times, return arg.\"\n",
    "    return nth(repeatedly(fn, arg, *args, **kwds), n)\n",
    "\n",
    "def repeatedly(fn, arg, *args, **kwds):\n",
    "    \"Yield arg, fn(arg), fn(fn(arg)), ...\"\n",
    "    yield arg\n",
    "    while True:\n",
    "        arg = fn(arg, *args, **kwds)\n",
    "        yield arg\n",
    "        \n",
    "def compose(f, g): \n",
    "    \"The function that computes f(g(x)).\"\n",
    "    return lambda x: f(g(x))\n",
    "\n",
    "#### FILE INPUT AND PARSING\n",
    "\n",
    "def Input(day, line_parser=str.strip, file_template='data/advent2018/{}.txt'):\n",
    "    \"For this day's input file, return a tuple of each line parsed by `line_parser`.\"\n",
    "    return mapt(line_parser, open(file_template.format(day)))\n",
    "\n",
    "def integers(text): \n",
    "    \"A tuple of all integers in a string (ignore other characters).\"\n",
    "    return mapt(int, re.findall(r'-?\\d+', text))"
   ]
  },
  {
   "cell_type": "code",
   "execution_count": 21,
   "metadata": {},
   "outputs": [],
   "source": [
    "################ 2-D points implemented using (x, y) tuples\n",
    "\n",
    "def X(point): return point[0]\n",
    "def Y(point): return point[1]\n",
    "\n",
    "origin = (0, 0)\n",
    "HEADINGS = UP, LEFT, DOWN, RIGHT = (0, -1), (-1, 0), (0, 1), (1, 0)\n",
    "\n",
    "def turn_right(heading): return HEADINGS[HEADINGS.index(heading) - 1]\n",
    "def turn_around(heading):return HEADINGS[HEADINGS.index(heading) - 2]\n",
    "def turn_left(heading):  return HEADINGS[HEADINGS.index(heading) - 3]\n",
    "\n",
    "def add(A, B): \n",
    "    \"Element-wise addition of two n-dimensional vectors.\"\n",
    "    return mapt(sum, zip(A, B))"
   ]
  },
  {
   "cell_type": "code",
   "execution_count": 210,
   "metadata": {},
   "outputs": [],
   "source": [
    "def head(iterable, n=5): return list(t.take(n, iterable))\n",
    "\n",
    "def coords(two_d_arr):\n",
    "    return [\n",
    "        ((x, y), val)\n",
    "        for y, line in enumerate(two_d_arr)\n",
    "        for x, val in enumerate(line)\n",
    "    ]\n",
    "\n",
    "def duplicates(iterable):\n",
    "    return { item for item, count in Counter(iterable).items() if count > 1 }"
   ]
  },
  {
   "cell_type": "markdown",
   "metadata": {},
   "source": [
    "## Day 13"
   ]
  },
  {
   "cell_type": "code",
   "execution_count": 307,
   "metadata": {},
   "outputs": [],
   "source": [
    "tracks = r'''\n",
    "/->-\\        \n",
    "|   |  /----\\\n",
    "| /-+--+-\\  |\n",
    "| | |  | v  |\n",
    "\\-+-/  \\-+--/\n",
    "  \\------/   \n",
    "'''.strip('\\n').split('\\n')\n",
    "\n",
    "tracks = r'''\n",
    "/>-<\\  \n",
    "|   |  \n",
    "| /<+-\\\n",
    "| | | v\n",
    "\\>+</ |\n",
    "  |   ^\n",
    "  \\<->/\n",
    "'''.strip('\\n').split('\\n')\n",
    "\n",
    "tracks = Input(13, line_parser=t.identity)"
   ]
  },
  {
   "cell_type": "code",
   "execution_count": 308,
   "metadata": {},
   "outputs": [],
   "source": [
    "Cart = namedtuple('Cart', 'id, pos, dir, turns')\n",
    "\n",
    "cart_dirs = { 'v': DOWN, '^': UP, '<': LEFT, '>': RIGHT }\n",
    "\n",
    "def junctions(tracks=tracks):\n",
    "    return { pos: ch for pos, ch in coords(tracks) if ch in r'/\\+' }\n",
    "\n",
    "def carts(tracks=tracks):\n",
    "    positions = [(pos, ch) for pos, ch in coords(tracks) if ch in cart_dirs]\n",
    "    return deque(\n",
    "        Cart(id, pos, cart_dirs[ch], cycle([turn_left, t.identity, turn_right]))\n",
    "        for id, (pos, ch) in enumerate(positions)\n",
    "    )"
   ]
  },
  {
   "cell_type": "code",
   "execution_count": 309,
   "metadata": {},
   "outputs": [],
   "source": [
    "bends = {\n",
    "    r'/': { LEFT: DOWN, DOWN: LEFT, RIGHT: UP, UP: RIGHT },\n",
    "    '\\\\': { LEFT: UP, UP: LEFT, RIGHT: DOWN, DOWN: RIGHT },\n",
    "}\n",
    "\n",
    "def turn(cart, juncts=junctions()):\n",
    "    _, pos, dir, turns = cart\n",
    "    junction = juncts.get(add(pos, dir), False)\n",
    "    \n",
    "    if junction in bends: return bends[junction][dir]\n",
    "    if junction == '+':   return next(turns)(dir)\n",
    "    else:                 return dir"
   ]
  },
  {
   "cell_type": "code",
   "execution_count": 310,
   "metadata": {},
   "outputs": [],
   "source": [
    "def move_cart(carts):\n",
    "    if first(carts).id == min(cart.id for cart in carts):\n",
    "        carts = deque(Cart(id, pos, dir, turns)\n",
    "                      for id, (_, pos, dir, turns) in\n",
    "                      enumerate(sorted(carts, key=lambda cart: (Y(cart.pos), X(cart.pos)))))\n",
    "        \n",
    "    cart = id, pos, dir, turns = carts.popleft()\n",
    "    carts.append(Cart(id, add(pos, dir), turn(cart), turns))\n",
    "    return carts\n",
    "\n",
    "def collision_pos(carts):\n",
    "    crashes = duplicates(cart.pos for cart in carts)\n",
    "    return crashes if len(crashes) > 0 else False"
   ]
  },
  {
   "cell_type": "code",
   "execution_count": 311,
   "metadata": {},
   "outputs": [
    {
     "data": {
      "text/plain": [
       "{(32, 8)}"
      ]
     },
     "execution_count": 311,
     "metadata": {},
     "output_type": "execute_result"
    }
   ],
   "source": [
    "first_true(collision_pos(c) for c in repeatedly(move_cart, carts()))"
   ]
  },
  {
   "cell_type": "code",
   "execution_count": 312,
   "metadata": {},
   "outputs": [],
   "source": [
    "def remove_collisions(carts):\n",
    "    crashes = collision_pos(carts)\n",
    "    return (deque(cart for cart in carts if cart.pos not in crashes)\n",
    "            if crashes else carts)"
   ]
  },
  {
   "cell_type": "code",
   "execution_count": 313,
   "metadata": {
    "scrolled": false
   },
   "outputs": [
    {
     "data": {
      "text/plain": [
       "deque([Cart(id=0, pos=(38, 38), dir=(0, 1), turns=<itertools.cycle object at 0x10ede5168>)])"
      ]
     },
     "execution_count": 313,
     "metadata": {},
     "output_type": "execute_result"
    }
   ],
   "source": [
    "first(c for c in repeatedly(compose(remove_collisions, move_cart), carts())\n",
    "      if len(c) == 1 and first(c).id == 0)"
   ]
  },
  {
   "cell_type": "code",
   "execution_count": null,
   "metadata": {},
   "outputs": [],
   "source": []
  }
 ],
 "metadata": {
  "kernelspec": {
   "display_name": "Python 3",
   "language": "python",
   "name": "python3"
  },
  "language_info": {
   "codemirror_mode": {
    "name": "ipython",
    "version": 3
   },
   "file_extension": ".py",
   "mimetype": "text/x-python",
   "name": "python",
   "nbconvert_exporter": "python",
   "pygments_lexer": "ipython3",
   "version": "3.7.1"
  }
 },
 "nbformat": 4,
 "nbformat_minor": 2
}
