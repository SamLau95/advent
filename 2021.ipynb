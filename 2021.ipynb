{
 "cells": [
  {
   "cell_type": "markdown",
   "metadata": {},
   "source": [
    "# AoC 2021"
   ]
  },
  {
   "cell_type": "markdown",
   "metadata": {},
   "source": [
    "## Helpers"
   ]
  },
  {
   "cell_type": "code",
   "execution_count": 181,
   "metadata": {},
   "outputs": [],
   "source": [
    "#### IMPORTS\n",
    "\n",
    "import re\n",
    "import abc\n",
    "import operator\n",
    "import numpy as np\n",
    "from collections import Counter, defaultdict, namedtuple, deque, abc\n",
    "from itertools   import (permutations, combinations, chain, cycle, product, islice, \n",
    "                         takewhile, zip_longest, starmap, count as count_from)\n",
    "from functools   import lru_cache, reduce\n",
    "from heapq import (heappush, heappop, nlargest, nsmallest)\n",
    "\n",
    "from pprint import pprint as p, pformat as pf\n",
    "import toolz.curried as t\n",
    "from tqdm.notebook import tqdm as tq\n",
    "from dataclasses import dataclass, field\n",
    "\n",
    "#### CONSTANTS\n",
    "\n",
    "alphabet = 'abcdefghijklmnopqrstuvwxyz'\n",
    "ALPHABET = alphabet.upper()\n",
    "infinity = float('inf')\n",
    "\n",
    "#### SIMPLE UTILITY FUNCTIONS\n",
    "\n",
    "cat = ''.join\n",
    "\n",
    "def ints(start, end, step=1):\n",
    "    \"The integers from start to end, inclusive: range(start, end+1)\"\n",
    "    return range(start, end + 1, step)\n",
    "\n",
    "def first(iterable, default=None): \n",
    "    \"The first item in an iterable, or default if it is empty.\"\n",
    "    return next(iter(iterable), default)\n",
    "\n",
    "def head(iterable, n=5):\n",
    "    \"The first n items in an iterable\"\n",
    "    return tuple(islice(iterable, n))\n",
    "\n",
    "def tail(iterable, n=1):\n",
    "    \"Skip n items in an iterable\"\n",
    "    return islice(iterable, n, None)\n",
    "\n",
    "def first_true(iterable, pred=None, default=None):\n",
    "    \"\"\"Returns the first true value in the iterable.\n",
    "    If no true value is found, returns *default*\n",
    "    If *pred* is not None, returns the first item\n",
    "    for which pred(item) is true.\"\"\"\n",
    "    # first_true([a,b,c], default=x) --> a or b or c or x\n",
    "    # first_true([a,b], fn, x) --> a if fn(a) else b if fn(b) else x\n",
    "    return next(filter(pred, iterable), default)\n",
    "\n",
    "def nth(iterable, n, default=None):\n",
    "    \"Returns the nth item of iterable, or a default value\"\n",
    "    return next(islice(iterable, n, None), default)\n",
    "\n",
    "def upto(iterable, maxval):\n",
    "    \"From a monotonically increasing iterable, generate all the values <= maxval.\"\n",
    "    # Why <= maxval rather than < maxval? In part because that's how Ruby's upto does it.\n",
    "    return takewhile(lambda x: x <= maxval, iterable)\n",
    "\n",
    "identity = lambda x: x\n",
    "\n",
    "def quantify(iterable, pred=bool):\n",
    "    \"Count how many times the predicate is true of an item in iterable.\"\n",
    "    return sum(map(pred, iterable))\n",
    "\n",
    "def multimap(items):\n",
    "    \"Given (key, val) pairs, return {key: [val, ....], ...}.\"\n",
    "    result = defaultdict(list)\n",
    "    for (key, val) in items:\n",
    "        result[key].append(val)\n",
    "    return result\n",
    "\n",
    "def overlapping(iterable, n):\n",
    "    \"\"\"Generate all (overlapping) n-element subsequences of iterable.\n",
    "    overlapping('ABCDEFG', 3) --> ABC BCD CDE DEF EFG\"\"\"\n",
    "    if isinstance(iterable, abc.Sequence):\n",
    "        yield from (iterable[i:i+n] for i in range(len(iterable) + 1 - n))\n",
    "    else:\n",
    "        result = deque(maxlen=n)\n",
    "        for x in iterable:\n",
    "            result.append(x)\n",
    "            if len(result) == n:\n",
    "                yield tuple(result)\n",
    "                \n",
    "def pairwise(iterable):\n",
    "    \"s -> (s0,s1), (s1,s2), (s2, s3), ...\"\n",
    "    return overlapping(iterable, 2)\n",
    "\n",
    "def mapt(fn, *args): \n",
    "    \"Do a map, and make the results into a tuple.\"\n",
    "    return tuple(map(fn, *args))\n",
    "\n",
    "def map2d(fn, grid):\n",
    "    \"Apply fn to every element in a 2-dimensional grid.\"\n",
    "    return tuple(mapt(fn, row) for row in grid)\n",
    "\n",
    "def flatmap(fn, *args):\n",
    "    \"Do a map and a one-level flatten\"\n",
    "    return tuple(chain.from_iterable(map(fn, *args)))\n",
    "\n",
    "def repeat(n, fn, arg, *args, **kwds):\n",
    "    \"Repeat arg = fn(arg) n times, return arg.\"\n",
    "    return nth(repeatedly(fn, arg, *args, **kwds), n)\n",
    "\n",
    "def repeatedly(fn, arg, *args, **kwds):\n",
    "    \"Yield arg, fn(arg), fn(fn(arg)), ...\"\n",
    "    yield arg\n",
    "    while True:\n",
    "        arg = fn(arg, *args, **kwds)\n",
    "        yield arg\n",
    "        \n",
    "def repeatedly1(fn, arg, *args, **kwds):\n",
    "    \"Yield fn(arg), fn(fn(arg)), ...\"\n",
    "    return tail(repeatedly(fn, arg, *args, **kwds))\n",
    "\n",
    "def compose(f, g): \n",
    "    \"The function that computes f(g(x)).\"\n",
    "    return lambda x: f(g(x))\n",
    "\n",
    "#### FILE INPUT AND PARSING\n",
    "\n",
    "def Input(day, line_parser=str.strip, test=False, file_template='data/2021/{}.txt'):\n",
    "    \"For this day's input file, return a tuple of each line parsed by `line_parser`.\"\n",
    "    return mapt(line_parser, open(file_template.format(\n",
    "        f'{day}test' if test else day\n",
    "    )))\n",
    "\n",
    "def Groups(day, group_parser=str.split, test=False):\n",
    "    entire = Input(day, t.identity, test)\n",
    "    groups = ''.join(entire).strip('\\n').split('\\n\\n')\n",
    "    return mapt(group_parser, groups)\n",
    "\n",
    "@t.curry\n",
    "def Tokens(line, sep=','):\n",
    "    \"Splits line into delimited tokens\"\n",
    "    return line.strip().split(sep)\n",
    "\n",
    "def integers(text): \n",
    "    \"A tuple of all integers in a string (ignore other characters).\"\n",
    "    return mapt(int, re.findall(r'-?\\d+', text))\n",
    "\n",
    "def digits(number):\n",
    "    \"Tuple of digits in number\"\n",
    "    return mapt(int, str(number))\n",
    "\n",
    "################ 2-D points implemented using (x, y) tuples\n",
    "\n",
    "def coords(rows):\n",
    "    for y, row in enumerate(rows):\n",
    "        for x, val in enumerate(row):\n",
    "            yield (x, y), val\n",
    "\n",
    "def X(point): return point[0]\n",
    "def Y(point): return point[1]\n",
    "def Z(point): return point[2]\n",
    "\n",
    "origin = (0, 0)\n",
    "HEADINGS = UP, LEFT, DOWN, RIGHT = (0, -1), (-1, 0), (0, 1), (1, 0)\n",
    "\n",
    "def turn_right(heading): return HEADINGS[HEADINGS.index(heading) - 1]\n",
    "def turn_around(heading):return HEADINGS[HEADINGS.index(heading) - 2]\n",
    "def turn_left(heading):  return HEADINGS[HEADINGS.index(heading) - 3]\n",
    "\n",
    "def add(A, B): \n",
    "    \"Element-wise addition of two n-dimensional vectors.\"\n",
    "    return mapt(sum, zip(A, B))\n",
    "\n",
    "def sub(A, B): \n",
    "    \"Element-wise subtraction of two n-dimensional vectors.\"\n",
    "    return tuple(a - b for a, b in zip(A, B))\n",
    "\n",
    "def neighbors4(point): \n",
    "    \"The four neighboring squares.\"\n",
    "    x, y = point\n",
    "    return (          (x, y-1),\n",
    "            (x-1, y),           (x+1, y), \n",
    "                      (x, y+1))\n",
    "\n",
    "def neighbors8(point): \n",
    "    \"The eight neighboring squares.\"\n",
    "    x, y = point \n",
    "    return ((x-1, y-1), (x, y-1), (x+1, y-1),\n",
    "            (x-1, y),             (x+1, y),\n",
    "            (x-1, y+1), (x, y+1), (x+1, y+1))\n",
    "\n",
    "def cityblock_distance(P, Q=origin): \n",
    "    \"Manhatten distance between two points.\"\n",
    "    return sum(abs(p - q) for p, q in zip(P, Q))\n",
    "\n",
    "def distance(P, Q=origin): \n",
    "    \"Straight-line (hypotenuse) distance between two points.\"\n",
    "    return sum((p - q) ** 2 for p, q in zip(P, Q)) ** 0.5\n",
    "\n",
    "def king_distance(P, Q=origin):\n",
    "    \"Number of chess King moves between two points.\"\n",
    "    return max(abs(p - q) for p, q in zip(P, Q))\n",
    "\n",
    "################ Debugging \n",
    "\n",
    "def trace1(f):\n",
    "    \"Print a trace of the input and output of a function on one line.\"\n",
    "    def traced_f(*args):\n",
    "        result = f(*args)\n",
    "        print('{}({}) = {}'.format(f.__name__, ', '.join(map(str, args)), result))\n",
    "        return result\n",
    "    return traced_f\n",
    "\n",
    "def grep(pattern, iterable):\n",
    "    \"Print lines from iterable that match pattern.\"\n",
    "    for line in iterable:\n",
    "        if re.search(pattern, line):\n",
    "            print(line)\n",
    "            \n",
    "class Struct:\n",
    "    \"A structure that can have any fields defined.\"\n",
    "    def __init__(self, **entries): self.__dict__.update(entries)\n",
    "    def __repr__(self): \n",
    "        fields = ['{}={}'.format(f, self.__dict__[f]) \n",
    "                  for f in sorted(self.__dict__)]\n",
    "        return 'Struct({})'.format(', '.join(fields))\n",
    "\n",
    "################ A* and Breadth-First Search (tracking states, not actions)\n",
    "\n",
    "def always(value): return (lambda *args: value)\n",
    "\n",
    "def Astar(start, moves_func, h_func, cost_func=always(1)):\n",
    "    \"Find a shortest sequence of states from start to a goal state (where h_func(s) == 0).\"\n",
    "    frontier  = [(h_func(start), start)] # A priority queue, ordered by path length, f = g + h\n",
    "    previous  = {start: None}  # start state has no previous state; other states will\n",
    "    path_cost = {start: 0}     # The cost of the best path to a state.\n",
    "    Path      = lambda s: ([] if (s is None) else Path(previous[s]) + [s])\n",
    "    while frontier:\n",
    "        (f, s) = heappop(frontier)\n",
    "        if h_func(s) == 0:\n",
    "            return Path(s)\n",
    "        for s2 in moves_func(s):\n",
    "            g = path_cost[s] + cost_func(s, s2)\n",
    "            if s2 not in path_cost or g < path_cost[s2]:\n",
    "                heappush(frontier, (g + h_func(s2), s2))\n",
    "                path_cost[s2] = g\n",
    "                previous[s2] = s\n",
    "\n",
    "def bfs(start, moves_func, goals):\n",
    "    \"Breadth-first search\"\n",
    "    goal_func = (goals if callable(goals) else lambda s: s in goals)\n",
    "    return Astar(start, moves_func, lambda s: (0 if goal_func(s) else 1))"
   ]
  },
  {
   "cell_type": "markdown",
   "metadata": {
    "slideshow": {
     "slide_type": "fragment"
    }
   },
   "source": [
    "## Day 1"
   ]
  },
  {
   "cell_type": "code",
   "execution_count": 192,
   "metadata": {},
   "outputs": [
    {
     "data": {
      "text/plain": [
       "(155, 157, 156, 172, 170)"
      ]
     },
     "execution_count": 192,
     "metadata": {},
     "output_type": "execute_result"
    }
   ],
   "source": [
    "nums = Input(1, line_parser=int)\n",
    "nums[:5]"
   ]
  },
  {
   "cell_type": "code",
   "execution_count": 193,
   "metadata": {},
   "outputs": [
    {
     "data": {
      "text/plain": [
       "1713"
      ]
     },
     "execution_count": 193,
     "metadata": {},
     "output_type": "execute_result"
    }
   ],
   "source": [
    "increased = lambda pair: pair[0] < pair[1]\n",
    "quantify(pairwise(nums), increased)"
   ]
  },
  {
   "cell_type": "code",
   "execution_count": 194,
   "metadata": {},
   "outputs": [
    {
     "data": {
      "text/plain": [
       "1734"
      ]
     },
     "execution_count": 194,
     "metadata": {},
     "output_type": "execute_result"
    }
   ],
   "source": [
    "sums = mapt(sum, overlapping(nums, 3))\n",
    "quantify(pairwise(sums), increased)"
   ]
  },
  {
   "cell_type": "markdown",
   "metadata": {},
   "source": [
    "## Day 2"
   ]
  },
  {
   "cell_type": "code",
   "execution_count": 195,
   "metadata": {},
   "outputs": [
    {
     "data": {
      "text/plain": [
       "(['forward', '1'], ['down', '3'], ['down', '2'], ['up', '1'], ['down', '7'])"
      ]
     },
     "execution_count": 195,
     "metadata": {},
     "output_type": "execute_result"
    }
   ],
   "source": [
    "moves = Input(2, line_parser=str.split)\n",
    "moves[:5]"
   ]
  },
  {
   "cell_type": "code",
   "execution_count": 196,
   "metadata": {},
   "outputs": [],
   "source": [
    "def step(pos, move):\n",
    "    x, y = pos\n",
    "    d, length = move[0], int(move[1])\n",
    "    return ((x + length, y) if d == 'forward' else\n",
    "            (x, y + length) if d == 'down' else\n",
    "            (x, y - length) if d == 'up' else\n",
    "            (x, y))"
   ]
  },
  {
   "cell_type": "code",
   "execution_count": 197,
   "metadata": {},
   "outputs": [
    {
     "data": {
      "text/plain": [
       "1840243"
      ]
     },
     "execution_count": 197,
     "metadata": {},
     "output_type": "execute_result"
    }
   ],
   "source": [
    "x, y = reduce(step, moves, (0, 0))\n",
    "x * y"
   ]
  },
  {
   "cell_type": "code",
   "execution_count": 198,
   "metadata": {},
   "outputs": [],
   "source": [
    "def step2(pos, move):\n",
    "    x, y, aim = pos\n",
    "    d, length = move[0], int(move[1])\n",
    "    return ((x + length, y + aim * length, aim) if d == 'forward' else\n",
    "            (x, y, aim + length)                if d == 'down' else\n",
    "            (x, y, aim - length)                if d == 'up' else\n",
    "            (x, y))"
   ]
  },
  {
   "cell_type": "code",
   "execution_count": 199,
   "metadata": {},
   "outputs": [
    {
     "data": {
      "text/plain": [
       "1727785422"
      ]
     },
     "execution_count": 199,
     "metadata": {},
     "output_type": "execute_result"
    }
   ],
   "source": [
    "x, y, aim = reduce(step2, moves, (0, 0, 0))\n",
    "x * y"
   ]
  },
  {
   "cell_type": "markdown",
   "metadata": {},
   "source": [
    "## Day 3"
   ]
  },
  {
   "cell_type": "code",
   "execution_count": 200,
   "metadata": {},
   "outputs": [
    {
     "data": {
      "text/plain": [
       "('101010000100',\n",
       " '100001010100',\n",
       " '111100000101',\n",
       " '010000000010',\n",
       " '001101100010')"
      ]
     },
     "execution_count": 200,
     "metadata": {},
     "output_type": "execute_result"
    }
   ],
   "source": [
    "# single_digits = lambda s: mapt(int, s.strip())\n",
    "nums = Input(3)\n",
    "nums[:5]"
   ]
  },
  {
   "cell_type": "code",
   "execution_count": 201,
   "metadata": {},
   "outputs": [],
   "source": [
    "# nums = '''\n",
    "# 00100\n",
    "# 11110\n",
    "# 10110\n",
    "# 10111\n",
    "# 10101\n",
    "# 01111\n",
    "# 00111\n",
    "# 11100\n",
    "# 10000\n",
    "# 11001\n",
    "# 00010\n",
    "# 01010\n",
    "# '''.strip().split()"
   ]
  },
  {
   "cell_type": "code",
   "execution_count": 202,
   "metadata": {},
   "outputs": [],
   "source": [
    "def nth_common(index, n=1):\n",
    "    counts = Counter(num[index] for num in nums)\n",
    "    (res, _) = counts.most_common(n)[-1]\n",
    "    return res"
   ]
  },
  {
   "cell_type": "code",
   "execution_count": 203,
   "metadata": {},
   "outputs": [
    {
     "data": {
      "text/plain": [
       "3148794"
      ]
     },
     "execution_count": 203,
     "metadata": {},
     "output_type": "execute_result"
    }
   ],
   "source": [
    "width = len(nums[0])\n",
    "top1 = cat(nth_common(pos) for pos in range(width))\n",
    "top2 = cat(nth_common(pos, n=2) for pos in range(width))\n",
    "int(top1, base=2) * int(top2, base=2)"
   ]
  },
  {
   "cell_type": "code",
   "execution_count": 204,
   "metadata": {},
   "outputs": [],
   "source": [
    "def sift(nums, co2=False):\n",
    "    flip = '01' if not co2 else '10'\n",
    "    for index in range(0, len(nums[0])):\n",
    "        counts = Counter(num[index] for num in nums)\n",
    "        keep = flip[1 if counts['1'] >= counts['0'] else 0]\n",
    "        nums = [num for num in nums if num[index] == keep]\n",
    "        if len(nums) == 1:\n",
    "            break\n",
    "    return nums[0]"
   ]
  },
  {
   "cell_type": "code",
   "execution_count": 205,
   "metadata": {},
   "outputs": [
    {
     "data": {
      "text/plain": [
       "2795310"
      ]
     },
     "execution_count": 205,
     "metadata": {},
     "output_type": "execute_result"
    }
   ],
   "source": [
    "oxy = sift(nums, co2=False)\n",
    "co2 = sift(nums, co2=True)\n",
    "int(oxy, base=2) * int(co2, base=2)"
   ]
  },
  {
   "cell_type": "markdown",
   "metadata": {},
   "source": [
    "## Day 4"
   ]
  },
  {
   "cell_type": "code",
   "execution_count": 206,
   "metadata": {},
   "outputs": [
    {
     "data": {
      "text/plain": [
       "100"
      ]
     },
     "execution_count": 206,
     "metadata": {},
     "output_type": "execute_result"
    }
   ],
   "source": [
    "[nums, *boards] = Groups(4, group_parser=integers, test=False)\n",
    "len(nums)"
   ]
  },
  {
   "cell_type": "code",
   "execution_count": 207,
   "metadata": {},
   "outputs": [],
   "source": [
    "class Bingo:\n",
    "    _board: tuple\n",
    "    _rows_cols: list\n",
    "    \n",
    "    def __init__(self, board):\n",
    "        self._board = board\n",
    "        rows = [board[i:i+5] for i in range(0, 5 * 5, 5)]\n",
    "        cols = [board[i::5] for i in range(0, 5)]\n",
    "        self._rows_cols = mapt(set, [*rows, *cols])\n",
    "        \n",
    "    def mark_num(self, num):\n",
    "        for seq in self._rows_cols:\n",
    "            seq.discard(num)\n",
    "    \n",
    "    def is_winner(self):\n",
    "        return any(len(seq) == 0 for seq in self._rows_cols)\n",
    "    \n",
    "    def unmarked(self):\n",
    "        return reduce(lambda s1, s2: s1 | s2, self._rows_cols)"
   ]
  },
  {
   "cell_type": "code",
   "execution_count": 208,
   "metadata": {},
   "outputs": [],
   "source": [
    "def play(nums, bingos):\n",
    "    for num in nums:\n",
    "        for b in bingos:\n",
    "            b.mark_num(num)\n",
    "            if b.is_winner():\n",
    "                return num, b"
   ]
  },
  {
   "cell_type": "code",
   "execution_count": 209,
   "metadata": {},
   "outputs": [],
   "source": [
    "bingos = [Bingo(board) for board in boards]\n",
    "final, board = play(nums, bingos)"
   ]
  },
  {
   "cell_type": "code",
   "execution_count": 210,
   "metadata": {},
   "outputs": [
    {
     "data": {
      "text/plain": [
       "14093"
      ]
     },
     "execution_count": 210,
     "metadata": {},
     "output_type": "execute_result"
    }
   ],
   "source": [
    "sum(board.unmarked()) * final"
   ]
  },
  {
   "cell_type": "code",
   "execution_count": 211,
   "metadata": {},
   "outputs": [],
   "source": [
    "def play_to_lose(nums, bingos):\n",
    "    for num in nums:\n",
    "        for b in bingos:\n",
    "            b.mark_num(num)\n",
    "            \n",
    "        bingos = [b for b in bingos if not b.is_winner()]\n",
    "        if len(bingos) == 1:\n",
    "            return play(nums, bingos)"
   ]
  },
  {
   "cell_type": "code",
   "execution_count": 212,
   "metadata": {},
   "outputs": [
    {
     "data": {
      "text/plain": [
       "17388"
      ]
     },
     "execution_count": 212,
     "metadata": {},
     "output_type": "execute_result"
    }
   ],
   "source": [
    "bingos = [Bingo(board) for board in boards]\n",
    "final, board = play_to_lose(nums, bingos)\n",
    "\n",
    "sum(board.unmarked()) * final"
   ]
  },
  {
   "cell_type": "markdown",
   "metadata": {},
   "source": [
    "## Day 5"
   ]
  },
  {
   "cell_type": "code",
   "execution_count": 213,
   "metadata": {},
   "outputs": [
    {
     "data": {
      "text/plain": [
       "((405, 945, 780, 945),\n",
       " (253, 100, 954, 801),\n",
       " (518, 300, 870, 300),\n",
       " (775, 848, 20, 848),\n",
       " (586, 671, 469, 671),\n",
       " (598, 20, 900, 20))"
      ]
     },
     "execution_count": 213,
     "metadata": {},
     "output_type": "execute_result"
    }
   ],
   "source": [
    "lines = Input(5, line_parser=integers, test=False)\n",
    "lines[:6]"
   ]
  },
  {
   "cell_type": "code",
   "execution_count": 214,
   "metadata": {},
   "outputs": [],
   "source": [
    "import itertools\n",
    "\n",
    "def sign(n):\n",
    "    return (-1 if n < 0 else\n",
    "            0 if n == 0 else\n",
    "            1)\n",
    "\n",
    "def between(n1, n2):\n",
    "    step = sign(n2 - n1)\n",
    "    return (range(n1, n2 + step, step) if step != 0 else\n",
    "            itertools.repeat(n1))\n",
    "\n",
    "def points(line):\n",
    "    x1, y1, x2, y2 = line\n",
    "    return tuple(zip(between(x1, x2), between(y1, y2)))"
   ]
  },
  {
   "cell_type": "code",
   "execution_count": 215,
   "metadata": {},
   "outputs": [
    {
     "data": {
      "text/plain": [
       "True"
      ]
     },
     "execution_count": 215,
     "metadata": {},
     "output_type": "execute_result"
    }
   ],
   "source": [
    "def axis_aligned(line):\n",
    "    x1, y1, x2, y2 = line\n",
    "    return (x1 - x2 == 0) or (y1 - y2 == 0)\n",
    "\n",
    "axis_aligned(lines[0])"
   ]
  },
  {
   "cell_type": "code",
   "execution_count": 216,
   "metadata": {},
   "outputs": [
    {
     "data": {
      "text/plain": [
       "7438"
      ]
     },
     "execution_count": 216,
     "metadata": {},
     "output_type": "execute_result"
    }
   ],
   "source": [
    "straights = filter(axis_aligned, lines)\n",
    "vents = Counter(point\n",
    "                for line in straights\n",
    "                for point in points(line))\n",
    "quantify(vents.values(), lambda n: n > 1)"
   ]
  },
  {
   "cell_type": "code",
   "execution_count": 217,
   "metadata": {},
   "outputs": [
    {
     "data": {
      "text/plain": [
       "21406"
      ]
     },
     "execution_count": 217,
     "metadata": {},
     "output_type": "execute_result"
    }
   ],
   "source": [
    "vents = Counter(point\n",
    "                for line in lines\n",
    "                for point in points(line))\n",
    "quantify(vents.values(), lambda n: n > 1)"
   ]
  },
  {
   "cell_type": "markdown",
   "metadata": {},
   "source": [
    "## Day 6"
   ]
  },
  {
   "cell_type": "code",
   "execution_count": 218,
   "metadata": {},
   "outputs": [
    {
     "data": {
      "text/plain": [
       "Counter({1: 99, 2: 57, 5: 53, 4: 48, 3: 43})"
      ]
     },
     "execution_count": 218,
     "metadata": {},
     "output_type": "execute_result"
    }
   ],
   "source": [
    "(initial, ) = Input(6, line_parser=integers, test=False)\n",
    "fish = Counter(initial)\n",
    "fish"
   ]
  },
  {
   "cell_type": "code",
   "execution_count": 219,
   "metadata": {},
   "outputs": [],
   "source": [
    "def step(fish):\n",
    "    tick = Counter({\n",
    "        timer - 1: count for timer, count in fish.items() })\n",
    "    tick[8] += tick[-1]\n",
    "    tick[6] += tick[-1]\n",
    "    del tick[-1]\n",
    "    return tick"
   ]
  },
  {
   "cell_type": "code",
   "execution_count": 220,
   "metadata": {},
   "outputs": [
    {
     "data": {
      "text/plain": [
       "356190"
      ]
     },
     "execution_count": 220,
     "metadata": {},
     "output_type": "execute_result"
    }
   ],
   "source": [
    "end = repeat(80, step, fish)\n",
    "sum(end.values())"
   ]
  },
  {
   "cell_type": "code",
   "execution_count": 221,
   "metadata": {},
   "outputs": [
    {
     "data": {
      "text/plain": [
       "1617359101538"
      ]
     },
     "execution_count": 221,
     "metadata": {},
     "output_type": "execute_result"
    }
   ],
   "source": [
    "end = repeat(256, step, fish)\n",
    "sum(end.values())"
   ]
  },
  {
   "cell_type": "markdown",
   "metadata": {},
   "source": [
    "## Day 7"
   ]
  },
  {
   "cell_type": "code",
   "execution_count": 222,
   "metadata": {},
   "outputs": [],
   "source": [
    "(crabs, ) = Input(7, line_parser=integers, test=False)\n",
    "crabs = np.array(crabs)"
   ]
  },
  {
   "cell_type": "code",
   "execution_count": 223,
   "metadata": {},
   "outputs": [
    {
     "data": {
      "text/plain": [
       "364898"
      ]
     },
     "execution_count": 223,
     "metadata": {},
     "output_type": "execute_result"
    }
   ],
   "source": [
    "opt = int(np.median(crabs))\n",
    "fuel = sum(np.abs(crabs - opt))\n",
    "fuel"
   ]
  },
  {
   "cell_type": "code",
   "execution_count": 224,
   "metadata": {},
   "outputs": [],
   "source": [
    "def cost(diff):\n",
    "    return diff * (diff + 1) / 2\n",
    "\n",
    "def total(pos):\n",
    "    diffs = np.abs(crabs - pos)\n",
    "    return sum(mapt(cost, diffs))"
   ]
  },
  {
   "cell_type": "code",
   "execution_count": 225,
   "metadata": {},
   "outputs": [
    {
     "data": {
      "text/plain": [
       "500"
      ]
     },
     "execution_count": 225,
     "metadata": {},
     "output_type": "execute_result"
    }
   ],
   "source": [
    "final = min(range(min(crabs), max(crabs)), key=total)\n",
    "final"
   ]
  },
  {
   "cell_type": "code",
   "execution_count": 226,
   "metadata": {},
   "outputs": [
    {
     "data": {
      "text/plain": [
       "104149091"
      ]
     },
     "execution_count": 226,
     "metadata": {},
     "output_type": "execute_result"
    }
   ],
   "source": [
    "int(total(final))"
   ]
  },
  {
   "cell_type": "markdown",
   "metadata": {},
   "source": [
    "## Day 8"
   ]
  },
  {
   "cell_type": "code",
   "execution_count": 227,
   "metadata": {},
   "outputs": [
    {
     "data": {
      "text/plain": [
       "200"
      ]
     },
     "execution_count": 227,
     "metadata": {},
     "output_type": "execute_result"
    }
   ],
   "source": [
    "def sort_str(s):\n",
    "    return cat(sorted(s))\n",
    "\n",
    "def parse_note(line):\n",
    "    patterns, output = line.strip().split(' | ')\n",
    "    signals = set(mapt(sort_str, patterns.split()))\n",
    "    return signals, output.split()\n",
    "\n",
    "notes = Input(8, line_parser=parse_note, test=False)\n",
    "len(notes)"
   ]
  },
  {
   "cell_type": "code",
   "execution_count": 228,
   "metadata": {},
   "outputs": [
    {
     "data": {
      "text/plain": [
       "288"
      ]
     },
     "execution_count": 228,
     "metadata": {},
     "output_type": "execute_result"
    }
   ],
   "source": [
    "def unique_outputs(note):\n",
    "    _, out = note\n",
    "    return quantify(out, lambda s: len(s) in [2, 3, 4, 7])\n",
    "sum(mapt(unique_outputs, notes))"
   ]
  },
  {
   "cell_type": "code",
   "execution_count": 229,
   "metadata": {},
   "outputs": [],
   "source": [
    "segments = 'abcdefg'\n",
    "digits = {'cf': 1, 'acf': 7, 'bcdf': 4, 'acdeg': 2, 'acdfg': 3, 'abdfg': 5,\n",
    "          'abcefg': 0, 'abdefg': 6, 'abcdfg': 9, 'abcdefg': 8}"
   ]
  },
  {
   "cell_type": "code",
   "execution_count": 230,
   "metadata": {},
   "outputs": [],
   "source": [
    "def decode(signals, config):\n",
    "    wiring = str.maketrans(cat(config), segments)\n",
    "    output = [digits.get(sort_str(sig.translate(wiring))) for sig in signals]\n",
    "    return output\n",
    "\n",
    "@t.curry\n",
    "def valid(signals, config):\n",
    "    outputs = decode(signals, config)\n",
    "    return set(outputs) == {0, 1, 2, 3, 4, 5, 6, 7, 8, 9}"
   ]
  },
  {
   "cell_type": "code",
   "execution_count": 231,
   "metadata": {},
   "outputs": [
    {
     "data": {
      "text/plain": [
       "('d', 'e', 'a', 'f', 'g', 'b', 'c')"
      ]
     },
     "execution_count": 231,
     "metadata": {},
     "output_type": "execute_result"
    }
   ],
   "source": [
    "test = set(mapt(sort_str, 'acedgfb cdfbe gcdfa fbcad dab cefabd cdfgeb eafb cagedb ab'.split()))\n",
    "config = first_true(permutations(segments, r=7), valid(test))\n",
    "config"
   ]
  },
  {
   "cell_type": "code",
   "execution_count": 232,
   "metadata": {},
   "outputs": [
    {
     "ename": "KeyboardInterrupt",
     "evalue": "",
     "output_type": "error",
     "traceback": [
      "\u001b[0;31m---------------------------------------------------------------------------\u001b[0m",
      "\u001b[0;31mKeyboardInterrupt\u001b[0m                         Traceback (most recent call last)",
      "\u001b[0;32m/var/folders/63/35_wxty956bfzx41wxtfm3pc0000gn/T/ipykernel_38806/3600215609.py\u001b[0m in \u001b[0;36m<module>\u001b[0;34m\u001b[0m\n\u001b[1;32m      4\u001b[0m     \u001b[0;32mreturn\u001b[0m \u001b[0mint\u001b[0m\u001b[0;34m(\u001b[0m\u001b[0mcat\u001b[0m\u001b[0;34m(\u001b[0m\u001b[0mmapt\u001b[0m\u001b[0;34m(\u001b[0m\u001b[0mstr\u001b[0m\u001b[0;34m,\u001b[0m \u001b[0mdecode\u001b[0m\u001b[0;34m(\u001b[0m\u001b[0moutput\u001b[0m\u001b[0;34m,\u001b[0m \u001b[0mconfig\u001b[0m\u001b[0;34m)\u001b[0m\u001b[0;34m)\u001b[0m\u001b[0;34m)\u001b[0m\u001b[0;34m)\u001b[0m\u001b[0;34m\u001b[0m\u001b[0;34m\u001b[0m\u001b[0m\n\u001b[1;32m      5\u001b[0m \u001b[0;34m\u001b[0m\u001b[0m\n\u001b[0;32m----> 6\u001b[0;31m \u001b[0msum\u001b[0m\u001b[0;34m(\u001b[0m\u001b[0mmapt\u001b[0m\u001b[0;34m(\u001b[0m\u001b[0msolve\u001b[0m\u001b[0;34m,\u001b[0m \u001b[0mnotes\u001b[0m\u001b[0;34m)\u001b[0m\u001b[0;34m)\u001b[0m\u001b[0;34m\u001b[0m\u001b[0;34m\u001b[0m\u001b[0m\n\u001b[0m",
      "\u001b[0;32m/var/folders/63/35_wxty956bfzx41wxtfm3pc0000gn/T/ipykernel_38806/3026804654.py\u001b[0m in \u001b[0;36mmapt\u001b[0;34m(fn, *args)\u001b[0m\n\u001b[1;32m     91\u001b[0m \u001b[0;32mdef\u001b[0m \u001b[0mmapt\u001b[0m\u001b[0;34m(\u001b[0m\u001b[0mfn\u001b[0m\u001b[0;34m,\u001b[0m \u001b[0;34m*\u001b[0m\u001b[0margs\u001b[0m\u001b[0;34m)\u001b[0m\u001b[0;34m:\u001b[0m\u001b[0;34m\u001b[0m\u001b[0;34m\u001b[0m\u001b[0m\n\u001b[1;32m     92\u001b[0m     \u001b[0;34m\"Do a map, and make the results into a tuple.\"\u001b[0m\u001b[0;34m\u001b[0m\u001b[0;34m\u001b[0m\u001b[0m\n\u001b[0;32m---> 93\u001b[0;31m     \u001b[0;32mreturn\u001b[0m \u001b[0mtuple\u001b[0m\u001b[0;34m(\u001b[0m\u001b[0mmap\u001b[0m\u001b[0;34m(\u001b[0m\u001b[0mfn\u001b[0m\u001b[0;34m,\u001b[0m \u001b[0;34m*\u001b[0m\u001b[0margs\u001b[0m\u001b[0;34m)\u001b[0m\u001b[0;34m)\u001b[0m\u001b[0;34m\u001b[0m\u001b[0;34m\u001b[0m\u001b[0m\n\u001b[0m\u001b[1;32m     94\u001b[0m \u001b[0;34m\u001b[0m\u001b[0m\n\u001b[1;32m     95\u001b[0m \u001b[0;32mdef\u001b[0m \u001b[0mmap2d\u001b[0m\u001b[0;34m(\u001b[0m\u001b[0mfn\u001b[0m\u001b[0;34m,\u001b[0m \u001b[0mgrid\u001b[0m\u001b[0;34m)\u001b[0m\u001b[0;34m:\u001b[0m\u001b[0;34m\u001b[0m\u001b[0;34m\u001b[0m\u001b[0m\n",
      "\u001b[0;32m/var/folders/63/35_wxty956bfzx41wxtfm3pc0000gn/T/ipykernel_38806/3600215609.py\u001b[0m in \u001b[0;36msolve\u001b[0;34m(note)\u001b[0m\n\u001b[1;32m      1\u001b[0m \u001b[0;32mdef\u001b[0m \u001b[0msolve\u001b[0m\u001b[0;34m(\u001b[0m\u001b[0mnote\u001b[0m\u001b[0;34m)\u001b[0m\u001b[0;34m:\u001b[0m\u001b[0;34m\u001b[0m\u001b[0;34m\u001b[0m\u001b[0m\n\u001b[1;32m      2\u001b[0m     \u001b[0msignals\u001b[0m\u001b[0;34m,\u001b[0m \u001b[0moutput\u001b[0m \u001b[0;34m=\u001b[0m \u001b[0mnote\u001b[0m\u001b[0;34m\u001b[0m\u001b[0;34m\u001b[0m\u001b[0m\n\u001b[0;32m----> 3\u001b[0;31m     \u001b[0mconfig\u001b[0m \u001b[0;34m=\u001b[0m \u001b[0mfirst_true\u001b[0m\u001b[0;34m(\u001b[0m\u001b[0mpermutations\u001b[0m\u001b[0;34m(\u001b[0m\u001b[0msegments\u001b[0m\u001b[0;34m,\u001b[0m \u001b[0mr\u001b[0m\u001b[0;34m=\u001b[0m\u001b[0;36m7\u001b[0m\u001b[0;34m)\u001b[0m\u001b[0;34m,\u001b[0m \u001b[0mvalid\u001b[0m\u001b[0;34m(\u001b[0m\u001b[0msignals\u001b[0m\u001b[0;34m)\u001b[0m\u001b[0;34m)\u001b[0m\u001b[0;34m\u001b[0m\u001b[0;34m\u001b[0m\u001b[0m\n\u001b[0m\u001b[1;32m      4\u001b[0m     \u001b[0;32mreturn\u001b[0m \u001b[0mint\u001b[0m\u001b[0;34m(\u001b[0m\u001b[0mcat\u001b[0m\u001b[0;34m(\u001b[0m\u001b[0mmapt\u001b[0m\u001b[0;34m(\u001b[0m\u001b[0mstr\u001b[0m\u001b[0;34m,\u001b[0m \u001b[0mdecode\u001b[0m\u001b[0;34m(\u001b[0m\u001b[0moutput\u001b[0m\u001b[0;34m,\u001b[0m \u001b[0mconfig\u001b[0m\u001b[0;34m)\u001b[0m\u001b[0;34m)\u001b[0m\u001b[0;34m)\u001b[0m\u001b[0;34m)\u001b[0m\u001b[0;34m\u001b[0m\u001b[0;34m\u001b[0m\u001b[0m\n\u001b[1;32m      5\u001b[0m \u001b[0;34m\u001b[0m\u001b[0m\n",
      "\u001b[0;32m/var/folders/63/35_wxty956bfzx41wxtfm3pc0000gn/T/ipykernel_38806/3026804654.py\u001b[0m in \u001b[0;36mfirst_true\u001b[0;34m(iterable, pred, default)\u001b[0m\n\u001b[1;32m     49\u001b[0m     \u001b[0;31m# first_true([a,b,c], default=x) --> a or b or c or x\u001b[0m\u001b[0;34m\u001b[0m\u001b[0;34m\u001b[0m\u001b[0;34m\u001b[0m\u001b[0m\n\u001b[1;32m     50\u001b[0m     \u001b[0;31m# first_true([a,b], fn, x) --> a if fn(a) else b if fn(b) else x\u001b[0m\u001b[0;34m\u001b[0m\u001b[0;34m\u001b[0m\u001b[0;34m\u001b[0m\u001b[0m\n\u001b[0;32m---> 51\u001b[0;31m     \u001b[0;32mreturn\u001b[0m \u001b[0mnext\u001b[0m\u001b[0;34m(\u001b[0m\u001b[0mfilter\u001b[0m\u001b[0;34m(\u001b[0m\u001b[0mpred\u001b[0m\u001b[0;34m,\u001b[0m \u001b[0miterable\u001b[0m\u001b[0;34m)\u001b[0m\u001b[0;34m,\u001b[0m \u001b[0mdefault\u001b[0m\u001b[0;34m)\u001b[0m\u001b[0;34m\u001b[0m\u001b[0;34m\u001b[0m\u001b[0m\n\u001b[0m\u001b[1;32m     52\u001b[0m \u001b[0;34m\u001b[0m\u001b[0m\n\u001b[1;32m     53\u001b[0m \u001b[0;32mdef\u001b[0m \u001b[0mnth\u001b[0m\u001b[0;34m(\u001b[0m\u001b[0miterable\u001b[0m\u001b[0;34m,\u001b[0m \u001b[0mn\u001b[0m\u001b[0;34m,\u001b[0m \u001b[0mdefault\u001b[0m\u001b[0;34m=\u001b[0m\u001b[0;32mNone\u001b[0m\u001b[0;34m)\u001b[0m\u001b[0;34m:\u001b[0m\u001b[0;34m\u001b[0m\u001b[0;34m\u001b[0m\u001b[0m\n",
      "\u001b[0;32m~/anaconda3/lib/python3.8/site-packages/toolz/functoolz.py\u001b[0m in \u001b[0;36m__call__\u001b[0;34m(self, *args, **kwargs)\u001b[0m\n\u001b[1;32m    301\u001b[0m     \u001b[0;32mdef\u001b[0m \u001b[0m__call__\u001b[0m\u001b[0;34m(\u001b[0m\u001b[0mself\u001b[0m\u001b[0;34m,\u001b[0m \u001b[0;34m*\u001b[0m\u001b[0margs\u001b[0m\u001b[0;34m,\u001b[0m \u001b[0;34m**\u001b[0m\u001b[0mkwargs\u001b[0m\u001b[0;34m)\u001b[0m\u001b[0;34m:\u001b[0m\u001b[0;34m\u001b[0m\u001b[0;34m\u001b[0m\u001b[0m\n\u001b[1;32m    302\u001b[0m         \u001b[0;32mtry\u001b[0m\u001b[0;34m:\u001b[0m\u001b[0;34m\u001b[0m\u001b[0;34m\u001b[0m\u001b[0m\n\u001b[0;32m--> 303\u001b[0;31m             \u001b[0;32mreturn\u001b[0m \u001b[0mself\u001b[0m\u001b[0;34m.\u001b[0m\u001b[0m_partial\u001b[0m\u001b[0;34m(\u001b[0m\u001b[0;34m*\u001b[0m\u001b[0margs\u001b[0m\u001b[0;34m,\u001b[0m \u001b[0;34m**\u001b[0m\u001b[0mkwargs\u001b[0m\u001b[0;34m)\u001b[0m\u001b[0;34m\u001b[0m\u001b[0;34m\u001b[0m\u001b[0m\n\u001b[0m\u001b[1;32m    304\u001b[0m         \u001b[0;32mexcept\u001b[0m \u001b[0mTypeError\u001b[0m \u001b[0;32mas\u001b[0m \u001b[0mexc\u001b[0m\u001b[0;34m:\u001b[0m\u001b[0;34m\u001b[0m\u001b[0;34m\u001b[0m\u001b[0m\n\u001b[1;32m    305\u001b[0m             \u001b[0;32mif\u001b[0m \u001b[0mself\u001b[0m\u001b[0;34m.\u001b[0m\u001b[0m_should_curry\u001b[0m\u001b[0;34m(\u001b[0m\u001b[0margs\u001b[0m\u001b[0;34m,\u001b[0m \u001b[0mkwargs\u001b[0m\u001b[0;34m,\u001b[0m \u001b[0mexc\u001b[0m\u001b[0;34m)\u001b[0m\u001b[0;34m:\u001b[0m\u001b[0;34m\u001b[0m\u001b[0;34m\u001b[0m\u001b[0m\n",
      "\u001b[0;32m/var/folders/63/35_wxty956bfzx41wxtfm3pc0000gn/T/ipykernel_38806/2009058040.py\u001b[0m in \u001b[0;36mvalid\u001b[0;34m(signals, config)\u001b[0m\n\u001b[1;32m      6\u001b[0m \u001b[0;34m@\u001b[0m\u001b[0mt\u001b[0m\u001b[0;34m.\u001b[0m\u001b[0mcurry\u001b[0m\u001b[0;34m\u001b[0m\u001b[0;34m\u001b[0m\u001b[0m\n\u001b[1;32m      7\u001b[0m \u001b[0;32mdef\u001b[0m \u001b[0mvalid\u001b[0m\u001b[0;34m(\u001b[0m\u001b[0msignals\u001b[0m\u001b[0;34m,\u001b[0m \u001b[0mconfig\u001b[0m\u001b[0;34m)\u001b[0m\u001b[0;34m:\u001b[0m\u001b[0;34m\u001b[0m\u001b[0;34m\u001b[0m\u001b[0m\n\u001b[0;32m----> 8\u001b[0;31m     \u001b[0moutputs\u001b[0m \u001b[0;34m=\u001b[0m \u001b[0mdecode\u001b[0m\u001b[0;34m(\u001b[0m\u001b[0msignals\u001b[0m\u001b[0;34m,\u001b[0m \u001b[0mconfig\u001b[0m\u001b[0;34m)\u001b[0m\u001b[0;34m\u001b[0m\u001b[0;34m\u001b[0m\u001b[0m\n\u001b[0m\u001b[1;32m      9\u001b[0m     \u001b[0;32mreturn\u001b[0m \u001b[0mset\u001b[0m\u001b[0;34m(\u001b[0m\u001b[0moutputs\u001b[0m\u001b[0;34m)\u001b[0m \u001b[0;34m==\u001b[0m \u001b[0;34m{\u001b[0m\u001b[0;36m0\u001b[0m\u001b[0;34m,\u001b[0m \u001b[0;36m1\u001b[0m\u001b[0;34m,\u001b[0m \u001b[0;36m2\u001b[0m\u001b[0;34m,\u001b[0m \u001b[0;36m3\u001b[0m\u001b[0;34m,\u001b[0m \u001b[0;36m4\u001b[0m\u001b[0;34m,\u001b[0m \u001b[0;36m5\u001b[0m\u001b[0;34m,\u001b[0m \u001b[0;36m6\u001b[0m\u001b[0;34m,\u001b[0m \u001b[0;36m7\u001b[0m\u001b[0;34m,\u001b[0m \u001b[0;36m8\u001b[0m\u001b[0;34m,\u001b[0m \u001b[0;36m9\u001b[0m\u001b[0;34m}\u001b[0m\u001b[0;34m\u001b[0m\u001b[0;34m\u001b[0m\u001b[0m\n",
      "\u001b[0;32m/var/folders/63/35_wxty956bfzx41wxtfm3pc0000gn/T/ipykernel_38806/2009058040.py\u001b[0m in \u001b[0;36mdecode\u001b[0;34m(signals, config)\u001b[0m\n\u001b[1;32m      1\u001b[0m \u001b[0;32mdef\u001b[0m \u001b[0mdecode\u001b[0m\u001b[0;34m(\u001b[0m\u001b[0msignals\u001b[0m\u001b[0;34m,\u001b[0m \u001b[0mconfig\u001b[0m\u001b[0;34m)\u001b[0m\u001b[0;34m:\u001b[0m\u001b[0;34m\u001b[0m\u001b[0;34m\u001b[0m\u001b[0m\n\u001b[1;32m      2\u001b[0m     \u001b[0mwiring\u001b[0m \u001b[0;34m=\u001b[0m \u001b[0mstr\u001b[0m\u001b[0;34m.\u001b[0m\u001b[0mmaketrans\u001b[0m\u001b[0;34m(\u001b[0m\u001b[0mcat\u001b[0m\u001b[0;34m(\u001b[0m\u001b[0mconfig\u001b[0m\u001b[0;34m)\u001b[0m\u001b[0;34m,\u001b[0m \u001b[0msegments\u001b[0m\u001b[0;34m)\u001b[0m\u001b[0;34m\u001b[0m\u001b[0;34m\u001b[0m\u001b[0m\n\u001b[0;32m----> 3\u001b[0;31m     \u001b[0moutput\u001b[0m \u001b[0;34m=\u001b[0m \u001b[0;34m[\u001b[0m\u001b[0mdigits\u001b[0m\u001b[0;34m.\u001b[0m\u001b[0mget\u001b[0m\u001b[0;34m(\u001b[0m\u001b[0msort_str\u001b[0m\u001b[0;34m(\u001b[0m\u001b[0msig\u001b[0m\u001b[0;34m.\u001b[0m\u001b[0mtranslate\u001b[0m\u001b[0;34m(\u001b[0m\u001b[0mwiring\u001b[0m\u001b[0;34m)\u001b[0m\u001b[0;34m)\u001b[0m\u001b[0;34m)\u001b[0m \u001b[0;32mfor\u001b[0m \u001b[0msig\u001b[0m \u001b[0;32min\u001b[0m \u001b[0msignals\u001b[0m\u001b[0;34m]\u001b[0m\u001b[0;34m\u001b[0m\u001b[0;34m\u001b[0m\u001b[0m\n\u001b[0m\u001b[1;32m      4\u001b[0m     \u001b[0;32mreturn\u001b[0m \u001b[0moutput\u001b[0m\u001b[0;34m\u001b[0m\u001b[0;34m\u001b[0m\u001b[0m\n\u001b[1;32m      5\u001b[0m \u001b[0;34m\u001b[0m\u001b[0m\n",
      "\u001b[0;32m/var/folders/63/35_wxty956bfzx41wxtfm3pc0000gn/T/ipykernel_38806/2009058040.py\u001b[0m in \u001b[0;36m<listcomp>\u001b[0;34m(.0)\u001b[0m\n\u001b[1;32m      1\u001b[0m \u001b[0;32mdef\u001b[0m \u001b[0mdecode\u001b[0m\u001b[0;34m(\u001b[0m\u001b[0msignals\u001b[0m\u001b[0;34m,\u001b[0m \u001b[0mconfig\u001b[0m\u001b[0;34m)\u001b[0m\u001b[0;34m:\u001b[0m\u001b[0;34m\u001b[0m\u001b[0;34m\u001b[0m\u001b[0m\n\u001b[1;32m      2\u001b[0m     \u001b[0mwiring\u001b[0m \u001b[0;34m=\u001b[0m \u001b[0mstr\u001b[0m\u001b[0;34m.\u001b[0m\u001b[0mmaketrans\u001b[0m\u001b[0;34m(\u001b[0m\u001b[0mcat\u001b[0m\u001b[0;34m(\u001b[0m\u001b[0mconfig\u001b[0m\u001b[0;34m)\u001b[0m\u001b[0;34m,\u001b[0m \u001b[0msegments\u001b[0m\u001b[0;34m)\u001b[0m\u001b[0;34m\u001b[0m\u001b[0;34m\u001b[0m\u001b[0m\n\u001b[0;32m----> 3\u001b[0;31m     \u001b[0moutput\u001b[0m \u001b[0;34m=\u001b[0m \u001b[0;34m[\u001b[0m\u001b[0mdigits\u001b[0m\u001b[0;34m.\u001b[0m\u001b[0mget\u001b[0m\u001b[0;34m(\u001b[0m\u001b[0msort_str\u001b[0m\u001b[0;34m(\u001b[0m\u001b[0msig\u001b[0m\u001b[0;34m.\u001b[0m\u001b[0mtranslate\u001b[0m\u001b[0;34m(\u001b[0m\u001b[0mwiring\u001b[0m\u001b[0;34m)\u001b[0m\u001b[0;34m)\u001b[0m\u001b[0;34m)\u001b[0m \u001b[0;32mfor\u001b[0m \u001b[0msig\u001b[0m \u001b[0;32min\u001b[0m \u001b[0msignals\u001b[0m\u001b[0;34m]\u001b[0m\u001b[0;34m\u001b[0m\u001b[0;34m\u001b[0m\u001b[0m\n\u001b[0m\u001b[1;32m      4\u001b[0m     \u001b[0;32mreturn\u001b[0m \u001b[0moutput\u001b[0m\u001b[0;34m\u001b[0m\u001b[0;34m\u001b[0m\u001b[0m\n\u001b[1;32m      5\u001b[0m \u001b[0;34m\u001b[0m\u001b[0m\n",
      "\u001b[0;31mKeyboardInterrupt\u001b[0m: "
     ]
    }
   ],
   "source": [
    "def solve(note):\n",
    "    signals, output = note\n",
    "    config = first_true(permutations(segments, r=7), valid(signals))\n",
    "    return int(cat(mapt(str, decode(output, config))))\n",
    "\n",
    "sum(mapt(solve, notes))"
   ]
  },
  {
   "cell_type": "markdown",
   "metadata": {},
   "source": [
    "## Day 9"
   ]
  },
  {
   "cell_type": "code",
   "execution_count": null,
   "metadata": {},
   "outputs": [],
   "source": [
    "def heights(line):\n",
    "    return mapt(int, line.strip())\n",
    "\n",
    "heightmap = Input(9, line_parser=heights, test=False)"
   ]
  },
  {
   "cell_type": "code",
   "execution_count": null,
   "metadata": {},
   "outputs": [],
   "source": [
    "h, w = len(heightmap), len(heightmap[0])\n",
    "def at(pos, default=9):\n",
    "    x, y = pos\n",
    "    return (default if not (0 <= x < w and 0 <= y < h) else\n",
    "            heightmap[y][x])\n",
    "\n",
    "def is_low(pos):\n",
    "    this = at(pos)\n",
    "    return all(this < at(adj) for adj in neighbors4(pos))\n",
    "\n",
    "def risk(pos):\n",
    "    return at(pos) + 1"
   ]
  },
  {
   "cell_type": "code",
   "execution_count": null,
   "metadata": {},
   "outputs": [],
   "source": [
    "valleys = filter(is_low, product(range(w), range(h)))\n",
    "sum(mapt(risk, valleys))"
   ]
  },
  {
   "cell_type": "code",
   "execution_count": null,
   "metadata": {},
   "outputs": [],
   "source": [
    "def concat(lsts):\n",
    "    return sum(lsts, start=[])\n",
    "\n",
    "def basins():\n",
    "    seen = set()\n",
    "    stop = 9\n",
    "    def basin1(pos):\n",
    "        if pos in seen:\n",
    "            return []\n",
    "        if at(pos) == stop:\n",
    "            return []\n",
    "        seen.add(pos)\n",
    "\n",
    "        adj = mapt(basin1, neighbors4(pos))\n",
    "        return concat([[pos], *adj])\n",
    "    \n",
    "    res = []\n",
    "    for pos in product(range(w), range(h)):\n",
    "        if pos not in seen and at(pos) != stop:\n",
    "            res.append(basin1(pos))\n",
    "    return res"
   ]
  },
  {
   "cell_type": "code",
   "execution_count": null,
   "metadata": {},
   "outputs": [],
   "source": [
    "from math import prod\n",
    "prod(sorted(mapt(len, basins()))[-3:])"
   ]
  },
  {
   "cell_type": "markdown",
   "metadata": {},
   "source": [
    "## Day 10"
   ]
  },
  {
   "cell_type": "code",
   "execution_count": null,
   "metadata": {},
   "outputs": [],
   "source": [
    "lines = Input(10, test=False)\n",
    "lines[:2]"
   ]
  },
  {
   "cell_type": "code",
   "execution_count": null,
   "metadata": {},
   "outputs": [],
   "source": [
    "opens = '([{<'\n",
    "closes = ')]}>'\n",
    "match = dict(zip(opens, closes))\n",
    "\n",
    "def corrupted(line):\n",
    "    stack = []\n",
    "    for char in line:\n",
    "        if char in closes:\n",
    "            start = stack.pop()\n",
    "            if char != match[start]:\n",
    "                return char\n",
    "        else:\n",
    "            stack.append(char)\n",
    "    return False\n",
    "\n",
    "score = {')': 3, ']': 57, '}': 1197, '>': 25137, False: 0}\n",
    "sum(mapt(score.get, mapt(corrupted, lines)))"
   ]
  },
  {
   "cell_type": "code",
   "execution_count": null,
   "metadata": {},
   "outputs": [],
   "source": [
    "def complete(line):\n",
    "    stack = []\n",
    "    for char in line:\n",
    "        if char in closes:\n",
    "            start = stack.pop()\n",
    "        else:\n",
    "            stack.append(char)\n",
    "    return [match[char] for char in reversed(stack)]\n",
    "\n",
    "def add_end(score, char):\n",
    "    return score * 5 + (closes.index(char) + 1)\n",
    "\n",
    "incompletes = filter(lambda line: not corrupted(line), lines)\n",
    "scores = [reduce(add_end, line, 0) for line in mapt(complete, incompletes)]\n",
    "\n",
    "from statistics import median\n",
    "median(scores)\n",
    "# mapt(complete, incompletes)"
   ]
  },
  {
   "cell_type": "markdown",
   "metadata": {},
   "source": [
    "## Day 11"
   ]
  },
  {
   "cell_type": "code",
   "execution_count": null,
   "metadata": {},
   "outputs": [],
   "source": [
    "def parse(line):\n",
    "    return mapt(int, line.strip())\n",
    "energies = Input(11, line_parser=parse, test=False)\n",
    "w, h = len(energies[0]), len(energies)"
   ]
  },
  {
   "cell_type": "code",
   "execution_count": null,
   "metadata": {},
   "outputs": [],
   "source": [
    "cave = {(x, y): octo\n",
    "        for y, row in enumerate(energies)\n",
    "        for x, octo in enumerate(row)}"
   ]
  },
  {
   "cell_type": "code",
   "execution_count": null,
   "metadata": {},
   "outputs": [],
   "source": [
    "def flash(cave, pos):\n",
    "    cave[pos] += 1\n",
    "    if cave[pos] != 10:\n",
    "        return\n",
    "    for adj in neighbors8(pos):\n",
    "        if adj in cave:\n",
    "            flash(cave, adj)\n",
    "\n",
    "def step(cave):\n",
    "    remaining = deque(cave.keys())\n",
    "    while remaining:\n",
    "        pos = remaining.popleft()\n",
    "        flash(cave, pos)\n",
    "    return cave\n",
    "\n",
    "def settle(cave):\n",
    "    n = 0\n",
    "    for pos, energy in cave.items():\n",
    "        if energy >= 10:\n",
    "            cave[pos] = 0\n",
    "            n += 1\n",
    "    return n\n",
    "\n",
    "def simulate(cave, steps=100):\n",
    "    cave = cave.copy()\n",
    "    flashes = 0\n",
    "    for _ in range(steps):\n",
    "        step(cave)\n",
    "        flashes += settle(cave)\n",
    "    return flashes"
   ]
  },
  {
   "cell_type": "code",
   "execution_count": null,
   "metadata": {},
   "outputs": [],
   "source": [
    "simulate(cave, steps=100)"
   ]
  },
  {
   "cell_type": "code",
   "execution_count": null,
   "metadata": {},
   "outputs": [],
   "source": [
    "def synchonized(cave):\n",
    "    cave = cave.copy()\n",
    "    target = w * h\n",
    "    steps = 0\n",
    "    while True:\n",
    "        step(cave)\n",
    "        flashes = settle(cave)\n",
    "        steps += 1\n",
    "        \n",
    "        if flashes == target:\n",
    "            return steps"
   ]
  },
  {
   "cell_type": "code",
   "execution_count": null,
   "metadata": {},
   "outputs": [],
   "source": [
    "synchonized(cave)"
   ]
  },
  {
   "cell_type": "markdown",
   "metadata": {},
   "source": [
    "## Day 12"
   ]
  },
  {
   "cell_type": "code",
   "execution_count": null,
   "metadata": {},
   "outputs": [],
   "source": [
    "def route(line):\n",
    "    return line.strip().split('-')\n",
    "\n",
    "routes = Input(12, line_parser=route, test=False)"
   ]
  },
  {
   "cell_type": "code",
   "execution_count": null,
   "metadata": {},
   "outputs": [],
   "source": [
    "def make_caves(routes=routes):\n",
    "    res = defaultdict(set)\n",
    "    for start, end in routes:\n",
    "        res[start].add(end)\n",
    "        res[end].add(start)\n",
    "    return res\n",
    "\n",
    "caves = make_caves()"
   ]
  },
  {
   "cell_type": "code",
   "execution_count": null,
   "metadata": {},
   "outputs": [],
   "source": [
    "def n_paths(now, seen=set(), path=[]):\n",
    "    seen = seen.copy()\n",
    "    if now == 'end':\n",
    "        # print(','.join([*path, 'end']))\n",
    "        return 1\n",
    "    if now.islower():\n",
    "        seen.add(now)\n",
    "    \n",
    "    path = [*path, now]\n",
    "    return sum(n_paths(cave, seen, path)\n",
    "               for cave in caves[now]\n",
    "               if cave not in seen)"
   ]
  },
  {
   "cell_type": "code",
   "execution_count": null,
   "metadata": {},
   "outputs": [],
   "source": [
    "n_paths('start')"
   ]
  },
  {
   "cell_type": "code",
   "execution_count": null,
   "metadata": {},
   "outputs": [],
   "source": [
    "def n_paths2(now, seen=set(), backtracked=False, path=[]):\n",
    "    if now == 'end':\n",
    "        # print(','.join([*path, 'end']))\n",
    "        return 1\n",
    "\n",
    "    seen = seen.copy()\n",
    "\n",
    "    if now.islower():\n",
    "        seen.add(now)\n",
    "    \n",
    "    path = [*path, now]\n",
    "    return sum(n_paths2(cave, seen, backtracked, path)\n",
    "               if cave not in seen else\n",
    "               n_paths2(cave, seen, True, path)\n",
    "               if not backtracked else\n",
    "               0\n",
    "               for cave in caves[now]\n",
    "               if cave != 'start')"
   ]
  },
  {
   "cell_type": "code",
   "execution_count": null,
   "metadata": {},
   "outputs": [],
   "source": [
    "n_paths2('start')"
   ]
  },
  {
   "cell_type": "markdown",
   "metadata": {},
   "source": [
    "## Day 13"
   ]
  },
  {
   "cell_type": "code",
   "execution_count": null,
   "metadata": {},
   "outputs": [],
   "source": [
    "newline = lambda s: s.split('\\n')\n",
    "manual = Groups(13, group_parser=newline, test=False)\n",
    "\n",
    "prefix = 'fold along '\n",
    "dots = { mapt(int, s.split(',')) for s in manual[0] }\n",
    "instrs = [s[len(prefix):].split('=') for s in manual[1]]"
   ]
  },
  {
   "cell_type": "code",
   "execution_count": null,
   "metadata": {},
   "outputs": [],
   "source": [
    "def fold(dot, ins):\n",
    "    x, y = dot\n",
    "    axis, line = ins[0], int(ins[1])\n",
    "    if axis == 'x' and x > line:\n",
    "        return (line - (x - line), y)\n",
    "    elif axis == 'y' and y > line:\n",
    "        return (x, line - (y - line))\n",
    "    return dot\n",
    "\n",
    "def fold_all(dots, ins):\n",
    "    return { fold(dot, ins) for dot in dots }"
   ]
  },
  {
   "cell_type": "code",
   "execution_count": null,
   "metadata": {},
   "outputs": [],
   "source": [
    "len(fold_all(dots, instrs[0]))"
   ]
  },
  {
   "cell_type": "code",
   "execution_count": null,
   "metadata": {},
   "outputs": [],
   "source": [
    "def show_paper(dots):\n",
    "    w = max(X(dot) for dot in dots) + 1\n",
    "    h = max(Y(dot) for dot in dots) + 1\n",
    "    for y in range(h):\n",
    "        for x in range(w):\n",
    "            if (x, y) in dots:\n",
    "                print('#', end='')\n",
    "            else:\n",
    "                print('.', end='')\n",
    "        print()"
   ]
  },
  {
   "cell_type": "code",
   "execution_count": null,
   "metadata": {},
   "outputs": [],
   "source": [
    "paper = reduce(fold_all, instrs, dots)\n",
    "show_paper(paper)"
   ]
  },
  {
   "cell_type": "markdown",
   "metadata": {},
   "source": [
    "## Day 14"
   ]
  },
  {
   "cell_type": "code",
   "execution_count": null,
   "metadata": {},
   "outputs": [],
   "source": [
    "newline = lambda s: s.split('\\n')\n",
    "[[template], rules] = Groups(14, group_parser=newline, test=False)\n",
    "rules = { s[:2]: s[-1] for s in rules }"
   ]
  },
  {
   "cell_type": "code",
   "execution_count": null,
   "metadata": {},
   "outputs": [],
   "source": [
    "pair_rules = {\n",
    "    f'{a}{c}': [f'{a}{b}', f'{b}{c}']\n",
    "    for (a, c), b in rules.items()\n",
    "}"
   ]
  },
  {
   "cell_type": "code",
   "execution_count": null,
   "metadata": {},
   "outputs": [],
   "source": [
    "def pairs(template):\n",
    "    return Counter(pairwise(template))"
   ]
  },
  {
   "cell_type": "code",
   "execution_count": null,
   "metadata": {},
   "outputs": [],
   "source": [
    "def step(counts):\n",
    "    res = Counter()\n",
    "    for pair, count in counts.items():\n",
    "        nexts = pair_rules[pair]\n",
    "        res[nexts[0]] += count\n",
    "        res[nexts[1]] += count\n",
    "    return res"
   ]
  },
  {
   "cell_type": "code",
   "execution_count": null,
   "metadata": {},
   "outputs": [],
   "source": [
    "def count_pairs(counts):\n",
    "    first, last = template[0], template[-1]\n",
    "    res = Counter()\n",
    "    for (a, b), count in counts.items():\n",
    "        res[a] += count\n",
    "        res[b] += count\n",
    "        \n",
    "    # Adjust for double counting\n",
    "    res[first] += 1\n",
    "    res[last] += 1\n",
    "    return Counter({ k: v // 2 for k, v in res.items() })"
   ]
  },
  {
   "cell_type": "code",
   "execution_count": null,
   "metadata": {},
   "outputs": [],
   "source": [
    "final = repeat(10, step, pairs(template))\n",
    "[most, *_, least] = count_pairs(final).most_common()\n",
    "most[1] - least[1]"
   ]
  },
  {
   "cell_type": "code",
   "execution_count": null,
   "metadata": {},
   "outputs": [],
   "source": [
    "final = repeat(40, step, pairs(template))\n",
    "[most, *_, least] = count_pairs(final).most_common()\n",
    "most[1] - least[1]"
   ]
  },
  {
   "cell_type": "markdown",
   "metadata": {},
   "source": [
    "## Day 15"
   ]
  },
  {
   "cell_type": "code",
   "execution_count": null,
   "metadata": {},
   "outputs": [],
   "source": [
    "risks = lambda s: mapt(int, s.strip())\n",
    "cavern = Input(15, line_parser=risks, test=False)"
   ]
  },
  {
   "cell_type": "code",
   "execution_count": null,
   "metadata": {},
   "outputs": [],
   "source": [
    "w = len(cavern)\n",
    "def moves(pos):\n",
    "    return [(x, y)\n",
    "            for (x, y) in neighbors4(pos)\n",
    "            if 0 <= x < w and 0 <= y < w]\n",
    "\n",
    "def h_func(pos):\n",
    "    return cityblock_distance(pos, (w - 1, w - 1))\n",
    "\n",
    "def cost(_, pos):\n",
    "    x, y = pos\n",
    "    return cavern[y][x]\n",
    "\n",
    "def total_risk(path):\n",
    "    return sum(starmap(cost, pairwise(path)))"
   ]
  },
  {
   "cell_type": "code",
   "execution_count": null,
   "metadata": {},
   "outputs": [],
   "source": [
    "path = Astar((0, 0), moves, h_func, cost)\n",
    "total_risk(path)"
   ]
  },
  {
   "cell_type": "code",
   "execution_count": null,
   "metadata": {},
   "outputs": [],
   "source": [
    "orig_w = len(cavern)\n",
    "w = orig_w * 5\n",
    "\n",
    "def cost(_, pos):\n",
    "    x, y = pos\n",
    "    mult_x, orig_x = divmod(x, orig_w)\n",
    "    mult_y, orig_y = divmod(y, orig_w)\n",
    "    increment = mult_x + mult_y\n",
    "    cost = cavern[orig_y][orig_x] + increment\n",
    "    return cost if cost <= 9 else cost - 9"
   ]
  },
  {
   "cell_type": "code",
   "execution_count": null,
   "metadata": {},
   "outputs": [],
   "source": [
    "path = Astar((0, 0), moves, h_func, cost)\n",
    "total_risk(path)"
   ]
  },
  {
   "cell_type": "markdown",
   "metadata": {},
   "source": [
    "## Day 16"
   ]
  },
  {
   "cell_type": "code",
   "execution_count": null,
   "metadata": {},
   "outputs": [],
   "source": [
    "(raw, ) = Input(16, test=False)"
   ]
  },
  {
   "cell_type": "code",
   "execution_count": null,
   "metadata": {},
   "outputs": [],
   "source": [
    "def to_binary(raw):\n",
    "    res = bin(int(raw, 16))[2:]\n",
    "    length = len(raw) * 4\n",
    "    return res.zfill(length)"
   ]
  },
  {
   "cell_type": "code",
   "execution_count": null,
   "metadata": {},
   "outputs": [],
   "source": [
    "def int2(binary):\n",
    "    if isinstance(binary, str):\n",
    "        return int(binary, 2)\n",
    "    return int(cat(binary), 2)"
   ]
  },
  {
   "cell_type": "code",
   "execution_count": null,
   "metadata": {},
   "outputs": [],
   "source": [
    "def parts(s, indexes):\n",
    "    if isinstance(indexes, int):\n",
    "        indexes = [indexes]\n",
    "\n",
    "    indexes = [0, *indexes, len(s)]\n",
    "    res = []\n",
    "    for start, end in pairwise(indexes):\n",
    "        res.append(s[start:end])\n",
    "    return res"
   ]
  },
  {
   "cell_type": "code",
   "execution_count": null,
   "metadata": {},
   "outputs": [],
   "source": [
    "@dataclass\n",
    "class Lit:\n",
    "    ver: int\n",
    "    typ: int\n",
    "    val: int\n",
    "\n",
    "@dataclass\n",
    "class Op:\n",
    "    ver: int\n",
    "    typ: int\n",
    "    packets: list"
   ]
  },
  {
   "cell_type": "code",
   "execution_count": null,
   "metadata": {},
   "outputs": [],
   "source": [
    "O = '0'\n",
    "I = '1'"
   ]
  },
  {
   "cell_type": "code",
   "execution_count": null,
   "metadata": {},
   "outputs": [],
   "source": [
    "def parse_lit(data):\n",
    "    res = []\n",
    "    while data:\n",
    "        group, data = data[:5], data[5:]\n",
    "        res.append(group[1:])\n",
    "        if group.startswith(O):\n",
    "            return int2(res), data"
   ]
  },
  {
   "cell_type": "code",
   "execution_count": null,
   "metadata": {},
   "outputs": [],
   "source": [
    "def parse_many(data, n=infinity):\n",
    "    packets = []\n",
    "    while data and n > 0:\n",
    "        packet, data = parse(data)\n",
    "        packets.append(packet)\n",
    "        n -= 1\n",
    "    return packets, data"
   ]
  },
  {
   "cell_type": "code",
   "execution_count": null,
   "metadata": {},
   "outputs": [],
   "source": [
    "def parse(msg):\n",
    "    ver, typ, data = parts(msg, [3, 6])\n",
    "    ver = int2(ver)\n",
    "    typ = int2(typ)\n",
    "    \n",
    "    if typ == 4:\n",
    "        val, rest = parse_lit(data)\n",
    "        return Lit(ver, typ, val), rest\n",
    "    \n",
    "    length_type, data = parts(data, 1)\n",
    "    if length_type == O:\n",
    "        length, data = parts(data, 15)\n",
    "        data, rest = parts(data, int2(length))\n",
    "        packets, _ = parse_many(data)\n",
    "        return Op(ver, typ, packets), rest\n",
    "    else:\n",
    "        n, data = parts(data, 11)\n",
    "        packets, rest = parse_many(data, int2(n))\n",
    "        return Op(ver, typ, packets), rest"
   ]
  },
  {
   "cell_type": "code",
   "execution_count": null,
   "metadata": {},
   "outputs": [],
   "source": [
    "def version_sum(tree):\n",
    "    if isinstance(tree, Lit):\n",
    "        return tree.ver\n",
    "    return tree.ver + sum(mapt(version_sum, tree.packets))"
   ]
  },
  {
   "cell_type": "code",
   "execution_count": null,
   "metadata": {},
   "outputs": [],
   "source": [
    "tree, _ = parse(to_binary(raw))\n",
    "version_sum(tree)"
   ]
  },
  {
   "cell_type": "code",
   "execution_count": null,
   "metadata": {},
   "outputs": [],
   "source": [
    "funcs = {\n",
    "    0: sum,\n",
    "    1: t.reduce(operator.mul),\n",
    "    2: min,\n",
    "    3: max,\n",
    "    5: lambda p: int(p[0] > p[1]),\n",
    "    6: lambda p: int(p[0] < p[1]),\n",
    "    7: lambda p: int(p[0] == p[1]),\n",
    "}\n",
    "\n",
    "def eval_tree(tree):\n",
    "    if isinstance(tree, Lit):\n",
    "        return tree.val\n",
    "    agg = funcs[tree.typ]\n",
    "    return agg(mapt(eval_tree, tree.packets))"
   ]
  },
  {
   "cell_type": "code",
   "execution_count": null,
   "metadata": {},
   "outputs": [],
   "source": [
    "tree, _ = parse(to_binary(raw))\n",
    "eval_tree(tree)"
   ]
  },
  {
   "cell_type": "markdown",
   "metadata": {},
   "source": [
    "## Day 17"
   ]
  },
  {
   "cell_type": "code",
   "execution_count": null,
   "metadata": {},
   "outputs": [],
   "source": [
    "def command(line):\n",
    "    xy = line.strip()[13:]\n",
    "    x, y = xy.split(', ')\n",
    "    return integers(x), integers(y)\n",
    "\n",
    "(target, ) = Input(17, line_parser=command, test=False)\n",
    "((xmin, xmax), (ymin, ymax)) = target\n",
    "start = (0, 0)"
   ]
  },
  {
   "cell_type": "code",
   "execution_count": null,
   "metadata": {},
   "outputs": [],
   "source": [
    "def State(vel):\n",
    "    return (start, vel)\n",
    "\n",
    "def step(state):\n",
    "    pos, vel = state\n",
    "    return (add(pos, vel),\n",
    "            (X(vel) - 1 if X(vel) > 0 else X(vel),\n",
    "             Y(vel) - 1))\n",
    "\n",
    "def stop(state):\n",
    "    ((x, y), _) = state\n",
    "    return ((x >= xmin and y <= ymax) or\n",
    "            x >= xmax or y <= ymin)\n",
    "\n",
    "def in_target(state):\n",
    "    ((x, y), _) = state\n",
    "    return xmin <= x <= xmax and ymin <= y <= ymax\n",
    "\n",
    "def max_y(state):\n",
    "    path = []\n",
    "    while not stop(state):\n",
    "        path.append(state)\n",
    "        state = step(state)\n",
    "    return (max(y for ((x, y), _) in path)\n",
    "            if in_target(state)\n",
    "            else 0)"
   ]
  },
  {
   "cell_type": "code",
   "execution_count": null,
   "metadata": {},
   "outputs": [],
   "source": [
    "starts = product(range(0, xmax), range(0, xmax))\n",
    "final = max(map(State, starts), key=max_y)\n",
    "max_y(final)"
   ]
  },
  {
   "cell_type": "code",
   "execution_count": null,
   "metadata": {},
   "outputs": [],
   "source": [
    "def lands(state):\n",
    "    state = first_true(repeatedly(step, state), stop)\n",
    "    return in_target(state)"
   ]
  },
  {
   "cell_type": "code",
   "execution_count": null,
   "metadata": {},
   "outputs": [],
   "source": [
    "starts = product(range(0, xmax + 1), range(ymin, xmax))\n",
    "quantify(starts, compose(lands, State))"
   ]
  },
  {
   "cell_type": "markdown",
   "metadata": {},
   "source": [
    "## Day 18"
   ]
  },
  {
   "cell_type": "code",
   "execution_count": null,
   "metadata": {},
   "outputs": [],
   "source": [
    "raws = Input(18, line_parser=eval, test=False)"
   ]
  },
  {
   "cell_type": "code",
   "execution_count": null,
   "metadata": {},
   "outputs": [],
   "source": [
    "@dataclass\n",
    "class S:\n",
    "    left: 'S | L'\n",
    "    right: 'S | L'\n",
    "    parent: 'S | None'\n",
    "    \n",
    "    def __init__(self, pair, parent=None):\n",
    "        left, right = pair\n",
    "        self.left = (S(left, self) if isinstance(left, list)\n",
    "                     else L(left, self))\n",
    "        self.right = (S(right, self) if isinstance(right, list)\n",
    "                      else L(right, self))\n",
    "        self.parent = parent \n",
    "        \n",
    "    def __repr__(self):\n",
    "        return f'[{repr(self.left)} , {repr(self.right)}]'\n",
    "    \n",
    "    def __add__(self, other):\n",
    "        root = S([None, None])\n",
    "        root.left = self\n",
    "        root.right = other\n",
    "        self.parent = root\n",
    "        other.parent = root\n",
    "        return root\n",
    "\n",
    "    @property\n",
    "    def is_root(self):\n",
    "        return self.parent is None\n",
    "    \n",
    "@dataclass\n",
    "class L:\n",
    "    val: int\n",
    "    parent: S\n",
    "\n",
    "    def __repr__(self):\n",
    "        return f'{self.val}'\n",
    "\n",
    "null = L(-99, None)"
   ]
  },
  {
   "cell_type": "code",
   "execution_count": null,
   "metadata": {},
   "outputs": [],
   "source": [
    "is_L = lambda n: isinstance(n, L)\n",
    "is_S = lambda n: isinstance(n, S)"
   ]
  },
  {
   "cell_type": "code",
   "execution_count": null,
   "metadata": {},
   "outputs": [],
   "source": [
    "def leftmost(s):\n",
    "    while is_S(s):\n",
    "        s = s.left\n",
    "    return s\n",
    "\n",
    "def rightmost(s):\n",
    "    while is_S(s):\n",
    "        s = s.right\n",
    "    return s"
   ]
  },
  {
   "cell_type": "code",
   "execution_count": null,
   "metadata": {},
   "outputs": [],
   "source": [
    "def explode_one(s, depth=0):\n",
    "    if is_L(s):\n",
    "        return False\n",
    "    \n",
    "    if depth < 4:\n",
    "        return (explode_one(s.left, depth + 1) or \n",
    "                explode_one(s.right, depth + 1))\n",
    "\n",
    "    if is_S(s):\n",
    "        explode(s)\n",
    "        return True\n",
    "\n",
    "    return False"
   ]
  },
  {
   "cell_type": "code",
   "execution_count": null,
   "metadata": {},
   "outputs": [],
   "source": [
    "def explode(s):\n",
    "    left = left_wing(s)\n",
    "    left.val += s.left.val\n",
    "\n",
    "    right = right_wing(s)\n",
    "    right.val += s.right.val\n",
    "    \n",
    "    parent = s.parent\n",
    "    if parent.left is s:\n",
    "        parent.left = L(0, parent)\n",
    "    else:\n",
    "        parent.right = L(0, parent)\n",
    "\n",
    "def left_wing(s):\n",
    "    parent = s.parent\n",
    "    return (null if s.is_root else\n",
    "            rightmost(parent.left) if parent.left is not s else\n",
    "            left_wing(parent))\n",
    "    \n",
    "def right_wing(s):\n",
    "    parent = s.parent\n",
    "    return (null if s.is_root else\n",
    "            leftmost(parent.right) if parent.right is not s else\n",
    "            right_wing(parent))"
   ]
  },
  {
   "cell_type": "code",
   "execution_count": null,
   "metadata": {},
   "outputs": [],
   "source": [
    "from math import floor, ceil\n",
    "\n",
    "def split(n, parent):\n",
    "    left = floor(n / 2)\n",
    "    right = ceil(n / 2)\n",
    "    return S([left, right], parent)\n",
    "\n",
    "def split_one(s):\n",
    "    if is_S(s):\n",
    "        return split_one(s.left) or split_one(s.right)\n",
    "    \n",
    "    if s.val < 10:\n",
    "        return False\n",
    "    \n",
    "    parent = s.parent\n",
    "    if parent.left is s:\n",
    "        parent.left = split(s.val, parent)\n",
    "    else:\n",
    "        parent.right = split(s.val, parent)\n",
    "    return True"
   ]
  },
  {
   "cell_type": "code",
   "execution_count": null,
   "metadata": {},
   "outputs": [],
   "source": [
    "def action(s):\n",
    "    return explode_one(s) or split_one(s)"
   ]
  },
  {
   "cell_type": "code",
   "execution_count": null,
   "metadata": {},
   "outputs": [],
   "source": [
    "def simplify(s):\n",
    "    editing = True\n",
    "    while editing:\n",
    "        editing = action(s)\n",
    "    return s"
   ]
  },
  {
   "cell_type": "code",
   "execution_count": null,
   "metadata": {},
   "outputs": [],
   "source": [
    "def snail_add(s1, s2):\n",
    "    res = s1 + s2\n",
    "    return simplify(res)\n",
    "\n",
    "def snail_sum(raws):\n",
    "    return reduce(snail_add, map(S, raws))"
   ]
  },
  {
   "cell_type": "code",
   "execution_count": null,
   "metadata": {},
   "outputs": [],
   "source": [
    "def magnitude(s):\n",
    "    if is_L(s):\n",
    "        return s.val\n",
    "    return 3 * magnitude(s.left) + 2 * magnitude(s.right)"
   ]
  },
  {
   "cell_type": "code",
   "execution_count": null,
   "metadata": {},
   "outputs": [],
   "source": [
    "magnitude(snail_sum(raws))"
   ]
  },
  {
   "cell_type": "code",
   "execution_count": null,
   "metadata": {},
   "outputs": [],
   "source": [
    "pairs = permutations(raws, 2)\n",
    "max(map(compose(magnitude, snail_sum), pairs))"
   ]
  },
  {
   "cell_type": "markdown",
   "metadata": {},
   "source": [
    "## Day 19"
   ]
  },
  {
   "cell_type": "code",
   "execution_count": null,
   "metadata": {},
   "outputs": [],
   "source": [
    "def scan(group):\n",
    "    coords = group.split('\\n')[1:]\n",
    "    return np.array([mapt(int, c.split(',')) for c in coords])\n",
    "\n",
    "report = Groups(19, group_parser=scan, test=False)"
   ]
  },
  {
   "cell_type": "code",
   "execution_count": null,
   "metadata": {},
   "outputs": [],
   "source": [
    "from scipy.spatial.transform import Rotation as R\n",
    "\n",
    "I = np.identity(4, dtype=int)\n",
    "\n",
    "def affine(points):\n",
    "    return np.column_stack([points, np.ones(len(points), dtype=int)])\n",
    "\n",
    "def apply(tr, points):\n",
    "    res = affine(points) @ tr\n",
    "    return res[:, :3]\n",
    "\n",
    "def rotate(axis, deg):\n",
    "    mat3 = (R.from_euler(axis, deg, degrees=True)\n",
    "            .as_matrix().round().astype(int))\n",
    "    res = I.copy()\n",
    "    res[:3, :3] = mat3\n",
    "    return res\n",
    "\n",
    "def translate(vec3):\n",
    "    res = I.copy()\n",
    "    res[3, :3] = vec3\n",
    "    return res"
   ]
  },
  {
   "cell_type": "code",
   "execution_count": null,
   "metadata": {},
   "outputs": [],
   "source": [
    "x, y, z = [rotate(ax, 90) for ax in axes]\n",
    "transforms = [\n",
    "    I,\n",
    "    z,\n",
    "    z @ z,\n",
    "    z @ z @ z,\n",
    "    y,\n",
    "    y @ z,\n",
    "    y @ z @ z,\n",
    "    y @ z @ z @ z,\n",
    "    y @ y,\n",
    "    y @ y @ z,\n",
    "    y @ y @ z @ z,\n",
    "    y @ y @ z @ z @ z,\n",
    "    y @ y @ y,\n",
    "    y @ y @ y @ z,\n",
    "    y @ y @ y @ z @ z,\n",
    "    y @ y @ y @ z @ z @ z,\n",
    "    x,\n",
    "    x @ z,\n",
    "    x @ z @ z,\n",
    "    x @ z @ z @ z,\n",
    "    x @ y @ y,\n",
    "    x @ y @ y @ z,\n",
    "    x @ y @ y @ z @ z,\n",
    "    x @ y @ y @ z @ z @ z,\n",
    "]"
   ]
  },
  {
   "cell_type": "code",
   "execution_count": null,
   "metadata": {},
   "outputs": [],
   "source": [
    "def matches(i, j):\n",
    "    r1, r2 = report[i], report[j]\n",
    "    for A in transforms:\n",
    "        points = apply(A, r2)\n",
    "        pairs = product(r1, points)\n",
    "        diffs = starmap(operator.sub, pairs)\n",
    "        counts = Counter(mapt(tuple, diffs))\n",
    "        [(offset, n)] = counts.most_common(1)\n",
    "        if n >= 12:\n",
    "            return A @ translate(offset)\n",
    "    return False"
   ]
  },
  {
   "cell_type": "code",
   "execution_count": null,
   "metadata": {},
   "outputs": [],
   "source": [
    "nodes = list(range(len(report)))\n",
    "\n",
    "def beacon_map(start=0):\n",
    "    frontier = [start]\n",
    "    unvisited = set(nodes)\n",
    "    transforms = { start: I }\n",
    "    while frontier:\n",
    "        current = frontier.pop()\n",
    "        if current not in unvisited:\n",
    "            continue\n",
    "        unvisited.remove(current)\n",
    "        for node in unvisited:\n",
    "            A = matches(current, node)\n",
    "            if A is not False:\n",
    "                transforms[node] = A @ transforms[current] \n",
    "                frontier.append(node)\n",
    "    return transforms\n",
    "\n",
    "bmap = beacon_map()"
   ]
  },
  {
   "cell_type": "code",
   "execution_count": null,
   "metadata": {},
   "outputs": [],
   "source": [
    "def absolute(node):\n",
    "    return mapt(tuple, apply(bmap[node], report[node]))\n",
    "\n",
    "beacons = mapt(compose(set, absolute), nodes)\n",
    "len(reduce(operator.or_, beacons))"
   ]
  },
  {
   "cell_type": "code",
   "execution_count": null,
   "metadata": {},
   "outputs": [],
   "source": [
    "def offset(transform):\n",
    "    return transform[3, :3]\n",
    "\n",
    "def dist(pair):\n",
    "    p1, p2 = pair\n",
    "    return np.abs(p1 - p2).sum()\n",
    "\n",
    "pairs = combinations(mapt(offset, bmap.values()), 2)\n",
    "max(mapt(dist, pairs))"
   ]
  },
  {
   "cell_type": "markdown",
   "metadata": {},
   "source": [
    "## Day 20"
   ]
  },
  {
   "cell_type": "code",
   "execution_count": null,
   "metadata": {},
   "outputs": [],
   "source": [
    "[enhance], image = Groups(20, test=False)\n",
    "\n",
    "def Image(px, fill):\n",
    "    return defaultdict(always(fill), px)\n",
    "\n",
    "Digit = '.#'.index\n",
    "\n",
    "image = Image({(x, y): Digit(val)\n",
    "               for y, row in enumerate(image)\n",
    "               for x, val in enumerate(row)},\n",
    "              0)"
   ]
  },
  {
   "cell_type": "code",
   "execution_count": null,
   "metadata": {},
   "outputs": [],
   "source": [
    "def square(center):\n",
    "    x, y = center\n",
    "    for dy in ints(-1, 1):\n",
    "        for dx in ints(-1, 1):\n",
    "            yield x + dx, y + dy"
   ]
  },
  {
   "cell_type": "code",
   "execution_count": null,
   "metadata": {},
   "outputs": [],
   "source": [
    "def output(digits):\n",
    "    index = sum(n << i for i, n in enumerate(reversed(digits)))\n",
    "    return Digit(enhance[index])"
   ]
  },
  {
   "cell_type": "code",
   "execution_count": null,
   "metadata": {},
   "outputs": [],
   "source": [
    "import itertools\n",
    "def next_fill(image):\n",
    "    digits = itertools.repeat(image.default_factory(), 9)\n",
    "    return output(list(digits))"
   ]
  },
  {
   "cell_type": "code",
   "execution_count": null,
   "metadata": {},
   "outputs": [],
   "source": [
    "def step(image):\n",
    "    minw, minh = min(image.keys())\n",
    "    maxw, maxh = max(image.keys())\n",
    "    Pixels = t.curry(mapt, image.__getitem__)\n",
    "    transform = t.compose(output, Pixels, square)\n",
    "    coords = product(ints(minw - 1, maxw + 1), ints(minh - 1, maxh + 1))\n",
    "    fill = next_fill(image)\n",
    "    return Image({ coord: transform(coord) for coord in coords }, fill)"
   ]
  },
  {
   "cell_type": "code",
   "execution_count": null,
   "metadata": {},
   "outputs": [],
   "source": [
    "def display(image):\n",
    "    minw, minh = min(image.keys())\n",
    "    maxw, maxh = max(image.keys())\n",
    "    for y in ints(minh, maxh):\n",
    "        for x in ints(minw, maxw):\n",
    "            print('#' if image[(x, y)] else '.', end='')\n",
    "        print()"
   ]
  },
  {
   "cell_type": "code",
   "execution_count": null,
   "metadata": {},
   "outputs": [],
   "source": [
    "result = repeat(2, step, image)\n",
    "quantify(result.values())"
   ]
  },
  {
   "cell_type": "code",
   "execution_count": null,
   "metadata": {},
   "outputs": [],
   "source": [
    "result = repeat(50, step, image)\n",
    "quantify(result.values())"
   ]
  },
  {
   "cell_type": "markdown",
   "metadata": {},
   "source": [
    "## Day 21"
   ]
  },
  {
   "cell_type": "code",
   "execution_count": 302,
   "metadata": {},
   "outputs": [],
   "source": [
    "start = (8, 4)\n",
    "\n",
    "# test\n",
    "# start = (4, 8)"
   ]
  },
  {
   "cell_type": "code",
   "execution_count": 303,
   "metadata": {},
   "outputs": [],
   "source": [
    "def Player(pos, score=0):\n",
    "    return pos, score\n",
    "\n",
    "def move(player, n):\n",
    "    pos, score = player\n",
    "    wrapped = (pos + n) % 10\n",
    "    next_pos = wrapped if wrapped else 10\n",
    "    return Player(next_pos, score + next_pos)"
   ]
  },
  {
   "cell_type": "code",
   "execution_count": 304,
   "metadata": {},
   "outputs": [],
   "source": [
    "Die = lambda: cycle(ints(1, 100))\n",
    "\n",
    "@dataclass\n",
    "class Game:\n",
    "    players: list\n",
    "    turn: int = 0\n",
    "    n_rolls: int = 0\n",
    "    die: Die = field(repr=False, default_factory=Die)"
   ]
  },
  {
   "cell_type": "code",
   "execution_count": 305,
   "metadata": {},
   "outputs": [],
   "source": [
    "def turn(game):\n",
    "    player = game.players[game.turn]\n",
    "    n = sum(head(game.die, 3))\n",
    "    player = move(player, n)\n",
    "    game.players[game.turn] = player\n",
    "    game.turn = 1 - game.turn\n",
    "    game.n_rolls += 3\n",
    "    return game\n",
    "\n",
    "def won(game):\n",
    "    (_, s1), (_, s2) = game.players\n",
    "    return s1 >= 1000 or s2 >= 1000\n",
    "\n",
    "def loser(game):\n",
    "    (_, s1), (_, s2) = game.players\n",
    "    return s1 if s1 < 1000 else s2"
   ]
  },
  {
   "cell_type": "code",
   "execution_count": 306,
   "metadata": {},
   "outputs": [
    {
     "data": {
      "text/plain": [
       "504972"
      ]
     },
     "execution_count": 306,
     "metadata": {},
     "output_type": "execute_result"
    }
   ],
   "source": [
    "game = Game([Player(start[0]), Player(start[1])])\n",
    "game = first_true(repeatedly(turn, game), won)\n",
    "loser(game) * game.n_rolls"
   ]
  },
  {
   "cell_type": "code",
   "execution_count": 310,
   "metadata": {},
   "outputs": [],
   "source": [
    "dirac = [1, 2, 3]\n",
    "distribution = Counter(mapt(sum, product(dirac, dirac, dirac)))"
   ]
  },
  {
   "cell_type": "code",
   "execution_count": 311,
   "metadata": {},
   "outputs": [],
   "source": [
    "Game = namedtuple('Game', 'p1,p2,turn')\n",
    "\n",
    "stop = 21\n",
    "\n",
    "def mult(c, A):\n",
    "    return tuple(c * x for x in A)\n",
    "\n",
    "def next_game(game, roll):\n",
    "    p1, p2, turn = game\n",
    "    player = p1 if turn == 0 else p2\n",
    "    return (Game(move(player, roll), p2, 1) if turn == 0 else\n",
    "            Game(p1, move(player, roll), 0))\n",
    "\n",
    "@lru_cache(maxsize=None)\n",
    "def universes(game):\n",
    "    (x1, s1), (x2, s2), turn = game\n",
    "    if s1 >= stop:\n",
    "        return (1, 0)\n",
    "    if s2 >= stop:\n",
    "        return (0, 1)\n",
    "    \n",
    "    unis = (mult(freq, universes(next_game(game, roll)))\n",
    "            for roll, freq in distribution.items())\n",
    "    \n",
    "    return reduce(add, unis)"
   ]
  },
  {
   "cell_type": "code",
   "execution_count": 312,
   "metadata": {},
   "outputs": [
    {
     "data": {
      "text/plain": [
       "446968027750017"
      ]
     },
     "execution_count": 312,
     "metadata": {},
     "output_type": "execute_result"
    }
   ],
   "source": [
    "game = Game(Player(start[0]), Player(start[1]), 0)\n",
    "w1, w2 = universes(game)\n",
    "w1"
   ]
  },
  {
   "cell_type": "markdown",
   "metadata": {},
   "source": [
    "## Day 22"
   ]
  },
  {
   "cell_type": "code",
   "execution_count": 494,
   "metadata": {},
   "outputs": [],
   "source": [
    "@dataclass\n",
    "class Range:\n",
    "    a: int ; b: int\n",
    "    \n",
    "    @property\n",
    "    def width(self):\n",
    "        return self.b - self.a + 1\n",
    "    \n",
    "    def __and__(self, other):\n",
    "        return Range(max(self.a, other.a), min(self.b, other.b))\n",
    "    \n",
    "    def __bool__(self):\n",
    "        return self.width > 0\n",
    "    \n",
    "    def __repr__(self):\n",
    "        return f'{self.a}..{self.b}'"
   ]
  },
  {
   "cell_type": "code",
   "execution_count": 495,
   "metadata": {},
   "outputs": [],
   "source": [
    "@dataclass\n",
    "class Cube:\n",
    "    x: Range ; y: Range ; z: Range\n",
    "    sign: int = 1\n",
    "    \n",
    "    @property\n",
    "    def vol(self):\n",
    "        return self.sign * self.x.width * self.y.width * self.z.width\n",
    "    \n",
    "    def __neg__(self):\n",
    "        return Cube(self.x, self.y, self.z, -1 * self.sign)\n",
    "    \n",
    "    def __and__(self, other):\n",
    "        return Cube(self.x & other.x, self.y & other.y, self.z & other.z,\n",
    "                    other.sign)\n",
    "    \n",
    "    def __bool__(self):\n",
    "        return bool(self.x and self.y and self.z)\n",
    "    \n",
    "    def __repr__(self):\n",
    "        sign = '' if self.sign == 1 else '-'\n",
    "        return f'{sign}({self.x}, {self.y}, {self.z})'"
   ]
  },
  {
   "cell_type": "code",
   "execution_count": 496,
   "metadata": {},
   "outputs": [],
   "source": [
    "def step(line):\n",
    "    [power, coords] = line.strip().split()\n",
    "    [x1, x2, y1, y2, z1, z2] = integers(coords)\n",
    "    return power, Cube(Range(x1, x2), Range(y1, y2), Range(z1, z2))"
   ]
  },
  {
   "cell_type": "code",
   "execution_count": 501,
   "metadata": {},
   "outputs": [],
   "source": [
    "steps = Input(22, line_parser=step, test=False)"
   ]
  },
  {
   "cell_type": "code",
   "execution_count": 502,
   "metadata": {},
   "outputs": [],
   "source": [
    "def execute(steps):\n",
    "    cubes = []\n",
    "    for power, cube in steps:\n",
    "        cube = cube if power == 'on' else -cube\n",
    "\n",
    "        intersects = filter(bool, (cube & other for other in reversed(cubes)))\n",
    "        for intersect in intersects:\n",
    "            cubes.append(-intersect)\n",
    "\n",
    "        if power == 'on':\n",
    "            cubes.append(cube)\n",
    "    return sum(cube.vol for cube in cubes)"
   ]
  },
  {
   "cell_type": "code",
   "execution_count": 503,
   "metadata": {},
   "outputs": [
    {
     "data": {
      "text/plain": [
       "582644"
      ]
     },
     "execution_count": 503,
     "metadata": {},
     "output_type": "execute_result"
    }
   ],
   "source": [
    "small = Cube(Range(-50, 50), Range(-50, 50), Range(-50, 50))\n",
    "def within(step, space=small):\n",
    "    return space & step[1]\n",
    "\n",
    "execute(filter(within, steps))"
   ]
  },
  {
   "cell_type": "code",
   "execution_count": 506,
   "metadata": {},
   "outputs": [
    {
     "data": {
      "application/vnd.jupyter.widget-view+json": {
       "model_id": "a36ebbe8a0cb42079d7ac96247dc174c",
       "version_major": 2,
       "version_minor": 0
      },
      "text/plain": [
       "  0%|          | 0/420 [00:00<?, ?it/s]"
      ]
     },
     "metadata": {},
     "output_type": "display_data"
    },
    {
     "data": {
      "text/plain": [
       "1263804707062415"
      ]
     },
     "execution_count": 506,
     "metadata": {},
     "output_type": "execute_result"
    }
   ],
   "source": [
    "execute(tq(steps))"
   ]
  },
  {
   "cell_type": "markdown",
   "metadata": {},
   "source": [
    "## Day 23"
   ]
  },
  {
   "cell_type": "code",
   "execution_count": 117,
   "metadata": {},
   "outputs": [
    {
     "data": {
      "text/plain": [
       "['#############',\n",
       " '#...........#',\n",
       " '###B#A#B#C###',\n",
       " '###D#A#D#C###',\n",
       " '#############']"
      ]
     },
     "execution_count": 117,
     "metadata": {},
     "output_type": "execute_result"
    }
   ],
   "source": [
    "burrow = list(Input(23, test=False))\n",
    "burrow[3] = f'##{burrow[3]}##'\n",
    "burrow[4] = f'##{burrow[4]}##'\n",
    "burrow"
   ]
  },
  {
   "cell_type": "code",
   "execution_count": 119,
   "metadata": {},
   "outputs": [],
   "source": [
    "spots = set(coord for coord, val in coords(burrow) if val != '#')\n",
    "\n",
    "edges = {spot: { coord for coord in neighbors4(spot) if coord in spots }\n",
    "         for spot in spots }\n",
    "\n",
    "hallway = {(x, 1)\n",
    "           for x, c in enumerate('#..x.x.x.x..#')\n",
    "           if c == '.'}\n",
    "\n",
    "rooms = {\n",
    "    'A': ((3, 3), (3, 2)),\n",
    "    'B': ((5, 3), (5, 2)),\n",
    "    'C': ((7, 3), (7, 2)),\n",
    "    'D': ((9, 3), (9, 2)),\n",
    "}\n",
    "\n",
    "all_rooms = sum(rooms.values(), start=tuple())\n",
    "\n",
    "multipliers = {\n",
    "    'A': 1, 'B': 10, 'C': 100, 'D': 1000,    \n",
    "}\n",
    "\n",
    "pods = set('ABCD')\n",
    "\n",
    "# tuple[(coord, pod)]\n",
    "State = tuple"
   ]
  },
  {
   "cell_type": "code",
   "execution_count": 120,
   "metadata": {},
   "outputs": [],
   "source": [
    "state = State((coord, pod)\n",
    "              for coord, pod in coords(burrow)\n",
    "              if pod in pods)"
   ]
  },
  {
   "cell_type": "code",
   "execution_count": 121,
   "metadata": {},
   "outputs": [],
   "source": [
    "def reachable(start, moves_func):\n",
    "    frontier = [start]\n",
    "    visited = set()\n",
    "    while frontier:\n",
    "        now = frontier.pop()\n",
    "        if now in visited:\n",
    "            continue\n",
    "\n",
    "        visited.add(now)\n",
    "        \n",
    "        for s2 in moves_func(now):\n",
    "            frontier.append(s2)\n",
    "    return visited - {start}"
   ]
  },
  {
   "cell_type": "code",
   "execution_count": 122,
   "metadata": {},
   "outputs": [],
   "source": [
    "def adjacent(pods):\n",
    "    filled = set(pods.keys())\n",
    "    \n",
    "    def adj(coord):\n",
    "        return edges[coord] - filled\n",
    "    return adj"
   ]
  },
  {
   "cell_type": "code",
   "execution_count": 123,
   "metadata": {},
   "outputs": [],
   "source": [
    "null = set()\n",
    "\n",
    "@t.curry\n",
    "def pod_can_go(state, coord):\n",
    "    pods = dict(state)\n",
    "    pod = pods[coord]\n",
    "    room = rooms[pod]\n",
    "    \n",
    "    room_is_ready = all(pods[r] == pod for r in room if r in pods)\n",
    "    \n",
    "    settled = room_is_ready and coord in room\n",
    "    waiting = coord in hallway and not room_is_ready\n",
    "    if settled or waiting:\n",
    "        return null\n",
    "    \n",
    "    reaches = reachable(coord, adjacent(pods))\n",
    "    \n",
    "    if coord in all_rooms:\n",
    "        return reaches & hallway\n",
    "    \n",
    "    return reaches & { first(r for r in room if r not in pods) }"
   ]
  },
  {
   "cell_type": "code",
   "execution_count": 124,
   "metadata": {},
   "outputs": [],
   "source": [
    "def moves(state):\n",
    "    can_go = pod_can_go(state)\n",
    "    state = deque(state)\n",
    "    for _ in range(len(state)):\n",
    "        (coord, pod) = first = state.popleft()\n",
    "        for next_coord in can_go(coord):\n",
    "            s2 = state.copy()\n",
    "            s2.appendleft((next_coord, pod))\n",
    "            yield tuple(s2)\n",
    "        state.append(first)"
   ]
  },
  {
   "cell_type": "code",
   "execution_count": 125,
   "metadata": {},
   "outputs": [],
   "source": [
    "def pods_left(state):\n",
    "    return quantify(pod for coord, pod in state\n",
    "                    if coord not in rooms[pod])"
   ]
  },
  {
   "cell_type": "code",
   "execution_count": 126,
   "metadata": {},
   "outputs": [],
   "source": [
    "def energy(s1, s2):\n",
    "    [c1, c2] = list(occupied(s1) ^ occupied(s2))\n",
    "    pod = first(pod for coord, pod in s1 if coord == c1 or coord == c2)\n",
    "    return multipliers[pod] * cityblock_distance(c1, c2)"
   ]
  },
  {
   "cell_type": "code",
   "execution_count": 127,
   "metadata": {},
   "outputs": [
    {
     "name": "stdout",
     "output_type": "stream",
     "text": [
      "CPU times: user 31.5 s, sys: 116 ms, total: 31.6 s\n",
      "Wall time: 31.8 s\n"
     ]
    }
   ],
   "source": [
    "%%time\n",
    "\n",
    "path = Astar(state, moves, pods_left, energy)"
   ]
  },
  {
   "cell_type": "code",
   "execution_count": 128,
   "metadata": {},
   "outputs": [
    {
     "data": {
      "text/plain": [
       "16506"
      ]
     },
     "execution_count": 128,
     "metadata": {},
     "output_type": "execute_result"
    }
   ],
   "source": [
    "sum(energy(s1, s2) for s1, s2 in pairwise(path))"
   ]
  },
  {
   "cell_type": "markdown",
   "metadata": {},
   "source": [
    "**Part 2**"
   ]
  },
  {
   "cell_type": "code",
   "execution_count": 129,
   "metadata": {},
   "outputs": [
    {
     "data": {
      "text/plain": [
       "['#############',\n",
       " '#...........#',\n",
       " '###B#A#B#C###',\n",
       " '###D#C#B#A###',\n",
       " '###D#B#A#C###',\n",
       " '###D#A#D#C###',\n",
       " '#############']"
      ]
     },
     "execution_count": 129,
     "metadata": {},
     "output_type": "execute_result"
    }
   ],
   "source": [
    "burrow = list(Input(23, test=False))\n",
    "burrow[3] = f'##{burrow[3]}##'\n",
    "burrow[4] = f'##{burrow[4]}##'\n",
    "burrow.insert(3, '###D#C#B#A###')\n",
    "burrow.insert(4, '###D#B#A#C###')\n",
    "burrow"
   ]
  },
  {
   "cell_type": "code",
   "execution_count": 130,
   "metadata": {},
   "outputs": [],
   "source": [
    "state = State((coord, pod)\n",
    "              for coord, pod in coords(burrow)\n",
    "              if pod in pods)"
   ]
  },
  {
   "cell_type": "code",
   "execution_count": 131,
   "metadata": {},
   "outputs": [],
   "source": [
    "spots = set(coord for coord, val in coords(burrow) if val != '#')\n",
    "\n",
    "edges = {spot: { coord for coord in neighbors4(spot) if coord in spots }\n",
    "         for spot in spots }\n",
    "\n",
    "rooms = {\n",
    "    'A': ((3, 5), (3, 4), (3, 3), (3, 2)),\n",
    "    'B': ((5, 5), (5, 4), (5, 3), (5, 2)),\n",
    "    'C': ((7, 5), (7, 4), (7, 3), (7, 2)),\n",
    "    'D': ((9, 5), (9, 4), (9, 3), (9, 2)),\n",
    "}\n",
    "\n",
    "all_rooms = sum(rooms.values(), start=tuple())"
   ]
  },
  {
   "cell_type": "code",
   "execution_count": 132,
   "metadata": {},
   "outputs": [
    {
     "name": "stdout",
     "output_type": "stream",
     "text": [
      "CPU times: user 1min 16s, sys: 551 ms, total: 1min 17s\n",
      "Wall time: 1min 18s\n"
     ]
    }
   ],
   "source": [
    "%%time\n",
    "\n",
    "path = Astar(state, moves, pods_left, energy)"
   ]
  },
  {
   "cell_type": "code",
   "execution_count": 133,
   "metadata": {},
   "outputs": [
    {
     "data": {
      "text/plain": [
       "48304"
      ]
     },
     "execution_count": 133,
     "metadata": {},
     "output_type": "execute_result"
    }
   ],
   "source": [
    "sum(energy(s1, s2) for s1, s2 in pairwise(path))"
   ]
  },
  {
   "cell_type": "markdown",
   "metadata": {},
   "source": [
    "## Day 24"
   ]
  },
  {
   "cell_type": "code",
   "execution_count": 87,
   "metadata": {},
   "outputs": [],
   "source": [
    "parse = lambda str: str.strip().split()\n",
    "instrs = Input(24, line_parser=parse, test=False)"
   ]
  },
  {
   "cell_type": "code",
   "execution_count": 92,
   "metadata": {},
   "outputs": [],
   "source": [
    "commands = dict(\n",
    "    inp='{0} = next(serial)',\n",
    "    add='{0} = {0} + {1}',\n",
    "    mul='{0} = {0} * {1}',\n",
    "    div='{0} = {0} // {1}',\n",
    "    mod='{0} = {0} % {1}',\n",
    "    eql='{0} = int({0} == {1})',\n",
    ")"
   ]
  },
  {
   "cell_type": "code",
   "execution_count": 127,
   "metadata": {},
   "outputs": [],
   "source": [
    "block_len = 18\n",
    "block_params = [4, 5, 15]\n",
    "\n",
    "def comple(instrs):\n",
    "    res = []\n",
    "    for n in range(0, len(instrs), block_len):\n",
    "        block = instrs[n:n + block_len]\n",
    "        abc = [int(block[i][-1]) for i in block_params]\n",
    "        res.append(abc)\n",
    "    return res"
   ]
  },
  {
   "cell_type": "code",
   "execution_count": 143,
   "metadata": {},
   "outputs": [],
   "source": [
    "Constraint = namedtuple('C', 'i, j, delta')\n",
    "def constraints(params):\n",
    "    res = []\n",
    "    stack = []\n",
    "    for i, (a, b, c) in enumerate(params):\n",
    "        if a == 1:\n",
    "            stack.append((i, c))\n",
    "        else:\n",
    "            old_i, c = stack.pop()\n",
    "            res.append(Constraint(old_i, i, c + b))\n",
    "    return res"
   ]
  },
  {
   "cell_type": "code",
   "execution_count": 170,
   "metadata": {},
   "outputs": [],
   "source": [
    "valid = set(digits(123456789))\n",
    "\n",
    "@t.curry\n",
    "def fulfill(rules, tiebreak=max):\n",
    "    res = [0] * 14\n",
    "    for i, j, delta in rules:\n",
    "        di, dj = tiebreak((di, dj)\n",
    "                          for di in valid\n",
    "                          if (dj := di + delta) in valid)\n",
    "        res[i] = di\n",
    "        res[j] = dj\n",
    "    return res"
   ]
  },
  {
   "cell_type": "code",
   "execution_count": 173,
   "metadata": {},
   "outputs": [
    {
     "name": "stdout",
     "output_type": "stream",
     "text": [
      "99911993949684\n"
     ]
    }
   ],
   "source": [
    "process = t.compose_left(\n",
    "    comple,\n",
    "    constraints,\n",
    "    fulfill,\n",
    "    t.map(str),\n",
    "    cat,\n",
    "    print,\n",
    ")\n",
    "process(instrs)"
   ]
  },
  {
   "cell_type": "code",
   "execution_count": 174,
   "metadata": {},
   "outputs": [
    {
     "name": "stdout",
     "output_type": "stream",
     "text": [
      "62911941716111\n"
     ]
    }
   ],
   "source": [
    "process = t.compose_left(\n",
    "    comple,\n",
    "    constraints,\n",
    "    fulfill(tiebreak=min),\n",
    "    t.map(str),\n",
    "    cat,\n",
    "    print,\n",
    ")\n",
    "process(instrs)"
   ]
  },
  {
   "cell_type": "markdown",
   "metadata": {},
   "source": [
    "## Day 25"
   ]
  },
  {
   "cell_type": "code",
   "execution_count": 208,
   "metadata": {},
   "outputs": [],
   "source": [
    "sea = Input(25, test=False)"
   ]
  },
  {
   "cell_type": "code",
   "execution_count": 209,
   "metadata": {},
   "outputs": [],
   "source": [
    "w, h = len(sea[0]), len(sea)\n",
    "\n",
    "cukes = {coord: cuke for coord, cuke in coords(sea) if cuke in 'v>'}"
   ]
  },
  {
   "cell_type": "code",
   "execution_count": 210,
   "metadata": {},
   "outputs": [],
   "source": [
    "def step(last):\n",
    "    cukes, _ = last\n",
    "    cukes = cukes.copy()\n",
    "    \n",
    "    east  = {(x, y) for (x, y), cuke in cukes.items()\n",
    "             if cuke == '>' and ((x + 1) % w, y) not in cukes}\n",
    "    \n",
    "    for (x, y) in east:\n",
    "        del cukes[(x, y)]\n",
    "        cukes[((x + 1) % w, y)] = '>'\n",
    "        \n",
    "    south = {(x, y) for (x, y), cuke in cukes.items()\n",
    "             if cuke == 'v' and (x, (y + 1) % h) not in cukes}\n",
    "    \n",
    "    for (x, y) in south:\n",
    "        del cukes[(x, y)]\n",
    "        cukes[(x, (y + 1) % h)] = 'v'\n",
    "    \n",
    "    return cukes, len(east) + len(south)"
   ]
  },
  {
   "cell_type": "code",
   "execution_count": 211,
   "metadata": {},
   "outputs": [
    {
     "data": {
      "text/plain": [
       "549"
      ]
     },
     "execution_count": 211,
     "metadata": {},
     "output_type": "execute_result"
    }
   ],
   "source": [
    "steps, _ = first_true(enumerate(repeatedly(step, (cukes, None))),\n",
    "                      lambda state: state[1][1] == 0)\n",
    "steps"
   ]
  }
 ],
 "metadata": {
  "kernelspec": {
   "display_name": "Python 3 (ipykernel)",
   "language": "python",
   "name": "python3"
  },
  "language_info": {
   "codemirror_mode": {
    "name": "ipython",
    "version": 3
   },
   "file_extension": ".py",
   "mimetype": "text/x-python",
   "name": "python",
   "nbconvert_exporter": "python",
   "pygments_lexer": "ipython3",
   "version": "3.8.5"
  }
 },
 "nbformat": 4,
 "nbformat_minor": 4
}
